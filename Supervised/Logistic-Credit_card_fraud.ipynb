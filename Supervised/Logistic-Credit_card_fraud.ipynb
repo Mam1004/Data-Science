{
 "cells": [
  {
   "cell_type": "code",
   "execution_count": 4,
   "metadata": {},
   "outputs": [
    {
     "data": {
      "text/html": [
       "<div>\n",
       "<style scoped>\n",
       "    .dataframe tbody tr th:only-of-type {\n",
       "        vertical-align: middle;\n",
       "    }\n",
       "\n",
       "    .dataframe tbody tr th {\n",
       "        vertical-align: top;\n",
       "    }\n",
       "\n",
       "    .dataframe thead th {\n",
       "        text-align: right;\n",
       "    }\n",
       "</style>\n",
       "<table border=\"1\" class=\"dataframe\">\n",
       "  <thead>\n",
       "    <tr style=\"text-align: right;\">\n",
       "      <th></th>\n",
       "      <th>Credit</th>\n",
       "      <th>RevolvingUtiOfUnsecuredLines</th>\n",
       "      <th>age</th>\n",
       "      <th>NoofTime30_59DaysPastDue</th>\n",
       "      <th>DebtRatio</th>\n",
       "      <th>MonthlyIncome</th>\n",
       "      <th>NoOfOpenCreditLinesAndLoans</th>\n",
       "      <th>NorOfTimes90DaysLate</th>\n",
       "      <th>NoRealEstateLoansOrLines</th>\n",
       "      <th>NoOfTime60_89DaysPastDue</th>\n",
       "      <th>NoOfDependents</th>\n",
       "    </tr>\n",
       "  </thead>\n",
       "  <tbody>\n",
       "    <tr>\n",
       "      <th>0</th>\n",
       "      <td>1</td>\n",
       "      <td>0.766127</td>\n",
       "      <td>45</td>\n",
       "      <td>2</td>\n",
       "      <td>0.802982</td>\n",
       "      <td>9120</td>\n",
       "      <td>13</td>\n",
       "      <td>0</td>\n",
       "      <td>6</td>\n",
       "      <td>0</td>\n",
       "      <td>2</td>\n",
       "    </tr>\n",
       "    <tr>\n",
       "      <th>1</th>\n",
       "      <td>0</td>\n",
       "      <td>0.957151</td>\n",
       "      <td>40</td>\n",
       "      <td>0</td>\n",
       "      <td>0.121876</td>\n",
       "      <td>2600</td>\n",
       "      <td>4</td>\n",
       "      <td>0</td>\n",
       "      <td>0</td>\n",
       "      <td>0</td>\n",
       "      <td>1</td>\n",
       "    </tr>\n",
       "    <tr>\n",
       "      <th>2</th>\n",
       "      <td>0</td>\n",
       "      <td>0.658180</td>\n",
       "      <td>38</td>\n",
       "      <td>1</td>\n",
       "      <td>0.085113</td>\n",
       "      <td>3042</td>\n",
       "      <td>2</td>\n",
       "      <td>1</td>\n",
       "      <td>0</td>\n",
       "      <td>0</td>\n",
       "      <td>0</td>\n",
       "    </tr>\n",
       "    <tr>\n",
       "      <th>3</th>\n",
       "      <td>0</td>\n",
       "      <td>0.233810</td>\n",
       "      <td>30</td>\n",
       "      <td>0</td>\n",
       "      <td>0.036050</td>\n",
       "      <td>3300</td>\n",
       "      <td>5</td>\n",
       "      <td>0</td>\n",
       "      <td>0</td>\n",
       "      <td>0</td>\n",
       "      <td>0</td>\n",
       "    </tr>\n",
       "    <tr>\n",
       "      <th>4</th>\n",
       "      <td>0</td>\n",
       "      <td>0.907239</td>\n",
       "      <td>49</td>\n",
       "      <td>1</td>\n",
       "      <td>0.024926</td>\n",
       "      <td>63588</td>\n",
       "      <td>7</td>\n",
       "      <td>0</td>\n",
       "      <td>1</td>\n",
       "      <td>0</td>\n",
       "      <td>0</td>\n",
       "    </tr>\n",
       "  </tbody>\n",
       "</table>\n",
       "</div>"
      ],
      "text/plain": [
       "   Credit  RevolvingUtiOfUnsecuredLines  age  NoofTime30_59DaysPastDue  \\\n",
       "0       1                      0.766127   45                         2   \n",
       "1       0                      0.957151   40                         0   \n",
       "2       0                      0.658180   38                         1   \n",
       "3       0                      0.233810   30                         0   \n",
       "4       0                      0.907239   49                         1   \n",
       "\n",
       "   DebtRatio  MonthlyIncome  NoOfOpenCreditLinesAndLoans  \\\n",
       "0   0.802982           9120                           13   \n",
       "1   0.121876           2600                            4   \n",
       "2   0.085113           3042                            2   \n",
       "3   0.036050           3300                            5   \n",
       "4   0.024926          63588                            7   \n",
       "\n",
       "   NorOfTimes90DaysLate  NoRealEstateLoansOrLines  NoOfTime60_89DaysPastDue  \\\n",
       "0                     0                         6                         0   \n",
       "1                     0                         0                         0   \n",
       "2                     1                         0                         0   \n",
       "3                     0                         0                         0   \n",
       "4                     0                         1                         0   \n",
       "\n",
       "   NoOfDependents  \n",
       "0               2  \n",
       "1               1  \n",
       "2               0  \n",
       "3               0  \n",
       "4               0  "
      ]
     },
     "execution_count": 4,
     "metadata": {},
     "output_type": "execute_result"
    }
   ],
   "source": [
    "import pandas as pd\n",
    "df=pd.read_csv('Credit.csv')\n",
    "df.head()"
   ]
  },
  {
   "cell_type": "code",
   "execution_count": 5,
   "metadata": {},
   "outputs": [
    {
     "data": {
      "text/plain": [
       "(8026, 11)"
      ]
     },
     "execution_count": 5,
     "metadata": {},
     "output_type": "execute_result"
    }
   ],
   "source": [
    "df.shape"
   ]
  },
  {
   "cell_type": "code",
   "execution_count": 2,
   "metadata": {},
   "outputs": [],
   "source": [
    "from sklearn.linear_model import LogisticRegression"
   ]
  },
  {
   "cell_type": "code",
   "execution_count": 7,
   "metadata": {},
   "outputs": [
    {
     "data": {
      "text/plain": [
       "<matplotlib.axes._subplots.AxesSubplot at 0x286f43b6748>"
      ]
     },
     "execution_count": 7,
     "metadata": {},
     "output_type": "execute_result"
    },
    {
     "data": {
      "image/png": "[encoded data removed]",
      "text/plain": [
       "<Figure size 432x288 with 1 Axes>"
      ]
     },
     "metadata": {
      "needs_background": "light"
     },
     "output_type": "display_data"
    }
   ],
   "source": [
    "import seaborn as sns\n",
    "sns.barplot(x=df.Credit,y=df.age)\n",
    "#sns.histplot(data=df.age)"
   ]
  },
  {
   "cell_type": "code",
   "execution_count": 8,
   "metadata": {},
   "outputs": [
    {
     "data": {
      "text/plain": [
       "<matplotlib.axes._subplots.AxesSubplot at 0x286f4d02f88>"
      ]
     },
     "execution_count": 8,
     "metadata": {},
     "output_type": "execute_result"
    },
    {
     "data": {
      "image/png": "[encoded data removed]",
      "text/plain": [
       "<Figure size 864x432 with 2 Axes>"
      ]
     },
     "metadata": {},
     "output_type": "display_data"
    }
   ],
   "source": [
    "from matplotlib import pyplot as plt, style\n",
    "style.use('ggplot')\n",
    "df['age_range']=pd.qcut(df.age,q=5)\n",
    "plt.figure(figsize=(12,6))\n",
    "plt.subplot(1,2,1)\n",
    "sns.barplot(x=df.age_range,y=df.Credit)\n",
    "plt.subplot(1,2,2)\n",
    "sns.barplot(x=df.NoofTime30_59DaysPastDue,y=df.Credit)\n",
    "#people having high bar has bad credit"
   ]
  },
  {
   "cell_type": "code",
   "execution_count": 9,
   "metadata": {},
   "outputs": [],
   "source": [
    "df2=pd.get_dummies(data=df,columns=['age_range'],drop_first=True)#creating dummies for age group"
   ]
  },
  {
   "cell_type": "code",
   "execution_count": 10,
   "metadata": {},
   "outputs": [],
   "source": [
    "x=df2.loc[ : , df2.columns != 'Credit'] \n",
    "y=df2['Credit']"
   ]
  },
  {
   "cell_type": "code",
   "execution_count": 11,
   "metadata": {},
   "outputs": [],
   "source": [
    "#Splitting  the data into train and test\n",
    "\n",
    "from sklearn.model_selection import train_test_split\n",
    "\n",
    "train_X,test_x,train_Y,test_y=train_test_split(x,y,random_state=0)"
   ]
  },
  {
   "cell_type": "code",
   "execution_count": 12,
   "metadata": {},
   "outputs": [
    {
     "data": {
      "text/html": [
       "<div>\n",
       "<style scoped>\n",
       "    .dataframe tbody tr th:only-of-type {\n",
       "        vertical-align: middle;\n",
       "    }\n",
       "\n",
       "    .dataframe tbody tr th {\n",
       "        vertical-align: top;\n",
       "    }\n",
       "\n",
       "    .dataframe thead th {\n",
       "        text-align: right;\n",
       "    }\n",
       "</style>\n",
       "<table border=\"1\" class=\"dataframe\">\n",
       "  <thead>\n",
       "    <tr style=\"text-align: right;\">\n",
       "      <th></th>\n",
       "      <th>RevolvingUtiOfUnsecuredLines</th>\n",
       "      <th>age</th>\n",
       "      <th>NoofTime30_59DaysPastDue</th>\n",
       "      <th>DebtRatio</th>\n",
       "      <th>MonthlyIncome</th>\n",
       "      <th>NoOfOpenCreditLinesAndLoans</th>\n",
       "      <th>NorOfTimes90DaysLate</th>\n",
       "      <th>NoRealEstateLoansOrLines</th>\n",
       "      <th>NoOfTime60_89DaysPastDue</th>\n",
       "      <th>NoOfDependents</th>\n",
       "      <th>age_range_(38.0, 47.0]</th>\n",
       "      <th>age_range_(47.0, 55.0]</th>\n",
       "      <th>age_range_(55.0, 63.0]</th>\n",
       "      <th>age_range_(63.0, 98.0]</th>\n",
       "    </tr>\n",
       "  </thead>\n",
       "  <tbody>\n",
       "    <tr>\n",
       "      <th>2434</th>\n",
       "      <td>0.088614</td>\n",
       "      <td>62</td>\n",
       "      <td>0</td>\n",
       "      <td>0.125719</td>\n",
       "      <td>4000</td>\n",
       "      <td>11</td>\n",
       "      <td>0</td>\n",
       "      <td>0</td>\n",
       "      <td>0</td>\n",
       "      <td>0</td>\n",
       "      <td>0</td>\n",
       "      <td>0</td>\n",
       "      <td>1</td>\n",
       "      <td>0</td>\n",
       "    </tr>\n",
       "    <tr>\n",
       "      <th>7436</th>\n",
       "      <td>0.540115</td>\n",
       "      <td>38</td>\n",
       "      <td>0</td>\n",
       "      <td>0.169709</td>\n",
       "      <td>11666</td>\n",
       "      <td>6</td>\n",
       "      <td>0</td>\n",
       "      <td>1</td>\n",
       "      <td>0</td>\n",
       "      <td>2</td>\n",
       "      <td>0</td>\n",
       "      <td>0</td>\n",
       "      <td>0</td>\n",
       "      <td>0</td>\n",
       "    </tr>\n",
       "    <tr>\n",
       "      <th>20</th>\n",
       "      <td>0.075427</td>\n",
       "      <td>32</td>\n",
       "      <td>0</td>\n",
       "      <td>0.085512</td>\n",
       "      <td>7916</td>\n",
       "      <td>6</td>\n",
       "      <td>0</td>\n",
       "      <td>0</td>\n",
       "      <td>0</td>\n",
       "      <td>0</td>\n",
       "      <td>0</td>\n",
       "      <td>0</td>\n",
       "      <td>0</td>\n",
       "      <td>0</td>\n",
       "    </tr>\n",
       "    <tr>\n",
       "      <th>5765</th>\n",
       "      <td>0.045773</td>\n",
       "      <td>28</td>\n",
       "      <td>0</td>\n",
       "      <td>0.201705</td>\n",
       "      <td>3400</td>\n",
       "      <td>7</td>\n",
       "      <td>0</td>\n",
       "      <td>0</td>\n",
       "      <td>0</td>\n",
       "      <td>2</td>\n",
       "      <td>0</td>\n",
       "      <td>0</td>\n",
       "      <td>0</td>\n",
       "      <td>0</td>\n",
       "    </tr>\n",
       "    <tr>\n",
       "      <th>2006</th>\n",
       "      <td>0.000867</td>\n",
       "      <td>83</td>\n",
       "      <td>0</td>\n",
       "      <td>0.000000</td>\n",
       "      <td>0</td>\n",
       "      <td>5</td>\n",
       "      <td>0</td>\n",
       "      <td>0</td>\n",
       "      <td>0</td>\n",
       "      <td>0</td>\n",
       "      <td>0</td>\n",
       "      <td>0</td>\n",
       "      <td>0</td>\n",
       "      <td>1</td>\n",
       "    </tr>\n",
       "  </tbody>\n",
       "</table>\n",
       "</div>"
      ],
      "text/plain": [
       "      RevolvingUtiOfUnsecuredLines  age  NoofTime30_59DaysPastDue  DebtRatio  \\\n",
       "2434                      0.088614   62                         0   0.125719   \n",
       "7436                      0.540115   38                         0   0.169709   \n",
       "20                        0.075427   32                         0   0.085512   \n",
       "5765                      0.045773   28                         0   0.201705   \n",
       "2006                      0.000867   83                         0   0.000000   \n",
       "\n",
       "      MonthlyIncome  NoOfOpenCreditLinesAndLoans  NorOfTimes90DaysLate  \\\n",
       "2434           4000                           11                     0   \n",
       "7436          11666                            6                     0   \n",
       "20             7916                            6                     0   \n",
       "5765           3400                            7                     0   \n",
       "2006              0                            5                     0   \n",
       "\n",
       "      NoRealEstateLoansOrLines  NoOfTime60_89DaysPastDue  NoOfDependents  \\\n",
       "2434                         0                         0               0   \n",
       "7436                         1                         0               2   \n",
       "20                           0                         0               0   \n",
       "5765                         0                         0               2   \n",
       "2006                         0                         0               0   \n",
       "\n",
       "      age_range_(38.0, 47.0]  age_range_(47.0, 55.0]  age_range_(55.0, 63.0]  \\\n",
       "2434                       0                       0                       1   \n",
       "7436                       0                       0                       0   \n",
       "20                         0                       0                       0   \n",
       "5765                       0                       0                       0   \n",
       "2006                       0                       0                       0   \n",
       "\n",
       "      age_range_(63.0, 98.0]  \n",
       "2434                       0  \n",
       "7436                       0  \n",
       "20                         0  \n",
       "5765                       0  \n",
       "2006                       1  "
      ]
     },
     "execution_count": 12,
     "metadata": {},
     "output_type": "execute_result"
    }
   ],
   "source": [
    "train_X.head()"
   ]
  },
  {
   "cell_type": "code",
   "execution_count": 23,
   "metadata": {},
   "outputs": [],
   "source": [
    "#creating estimator object for standardization\n",
    "from sklearn.preprocessing import StandardScaler\n",
    "stdSC=StandardScaler()\n",
    "stdSC.fit(train_X)\n",
    "train_new_X=pd.DataFrame(stdSC.transform(train_X))\n",
    "#x_test_std=stdSC.transform(test_x)\n",
    "#pd.DataFrame(stdScaler.transform(train_X))\n",
    "#pd.DataFrame(stdScaler.transform(test_x))\n"
   ]
  },
  {
   "cell_type": "code",
   "execution_count": 24,
   "metadata": {},
   "outputs": [
    {
     "name": "stdout",
     "output_type": "stream",
     "text": [
      "(6019, 14)\n",
      "(2007, 14)\n"
     ]
    }
   ],
   "source": [
    "print(train_new_X.shape)# it is divided into 75,25 % by default\n",
    "print(test_x.shape)"
   ]
  },
  {
   "cell_type": "code",
   "execution_count": 28,
   "metadata": {},
   "outputs": [],
   "source": [
    "from sklearn.linear_model import LogisticRegression"
   ]
  },
  {
   "cell_type": "code",
   "execution_count": 26,
   "metadata": {},
   "outputs": [],
   "source": [
    "#create an estimator object\n",
    "CreditModel=LogisticRegression(max_iter=1000)#max_iter=100 changed to max_iter=1000 to avoid the error"
   ]
  },
  {
   "cell_type": "code",
   "execution_count": 27,
   "metadata": {},
   "outputs": [
    {
     "data": {
      "text/plain": [
       "LogisticRegression(C=1.0, class_weight=None, dual=False, fit_intercept=True,\n",
       "                   intercept_scaling=1, l1_ratio=None, max_iter=1000,\n",
       "                   multi_class='auto', n_jobs=None, penalty='l2',\n",
       "                   random_state=None, solver='lbfgs', tol=0.0001, verbose=0,\n",
       "                   warm_start=False)"
      ]
     },
     "execution_count": 27,
     "metadata": {},
     "output_type": "execute_result"
    }
   ],
   "source": [
    "#fitting the model/training the model\n",
    "CreditModel.fit(train_new_X,train_Y)\n"
   ]
  },
  {
   "cell_type": "code",
   "execution_count": 28,
   "metadata": {},
   "outputs": [
    {
     "data": {
      "text/plain": [
       "array([[ 0.03193665, -0.26178876,  1.37392431, -0.21463191, -0.34819489,\n",
       "        -0.11999672,  1.49100927,  0.17536834, -2.74564556,  0.05763634,\n",
       "         0.01295823,  0.04760529, -0.04512287, -0.18533465]])"
      ]
     },
     "execution_count": 28,
     "metadata": {},
     "output_type": "execute_result"
    }
   ],
   "source": [
    "CreditModel.coef_"
   ]
  },
  {
   "cell_type": "code",
   "execution_count": 41,
   "metadata": {},
   "outputs": [
    {
     "data": {
      "text/plain": [
       "(6019, 14)"
      ]
     },
     "execution_count": 41,
     "metadata": {},
     "output_type": "execute_result"
    }
   ],
   "source": [
    "predic_y=CreditModel.predict(train_new_X)\n",
    "predic_y.shape\n",
    "train_X.shape"
   ]
  },
  {
   "cell_type": "code",
   "execution_count": 39,
   "metadata": {},
   "outputs": [
    {
     "data": {
      "text/plain": [
       "4261    0\n",
       "6345    0\n",
       "779     0\n",
       "541     1\n",
       "4583    0\n",
       "938     0\n",
       "7725    0\n",
       "3059    0\n",
       "7141    0\n",
       "3594    0\n",
       "Name: Credit, dtype: int64"
      ]
     },
     "execution_count": 39,
     "metadata": {},
     "output_type": "execute_result"
    }
   ],
   "source": [
    "test_y.head(10)"
   ]
  },
  {
   "cell_type": "code",
   "execution_count": 31,
   "metadata": {},
   "outputs": [
    {
     "data": {
      "text/plain": [
       "0.9370327296893172"
      ]
     },
     "execution_count": 31,
     "metadata": {},
     "output_type": "execute_result"
    }
   ],
   "source": [
    "CreditModel.score(train_new_X,train_Y)# with scaling"
   ]
  },
  {
   "cell_type": "code",
   "execution_count": 30,
   "metadata": {},
   "outputs": [
    {
     "data": {
      "text/plain": [
       "0.931738913801694"
      ]
     },
     "execution_count": 30,
     "metadata": {},
     "output_type": "execute_result"
    }
   ],
   "source": [
    "CreditModel.score(test_x,test_y) # withput scaling"
   ]
  },
  {
   "cell_type": "code",
   "execution_count": 43,
   "metadata": {},
   "outputs": [
    {
     "data": {
      "text/html": [
       "<div>\n",
       "<style scoped>\n",
       "    .dataframe tbody tr th:only-of-type {\n",
       "        vertical-align: middle;\n",
       "    }\n",
       "\n",
       "    .dataframe tbody tr th {\n",
       "        vertical-align: top;\n",
       "    }\n",
       "\n",
       "    .dataframe thead th {\n",
       "        text-align: right;\n",
       "    }\n",
       "</style>\n",
       "<table border=\"1\" class=\"dataframe\">\n",
       "  <thead>\n",
       "    <tr style=\"text-align: right;\">\n",
       "      <th>col_0</th>\n",
       "      <th>0</th>\n",
       "      <th>1</th>\n",
       "    </tr>\n",
       "    <tr>\n",
       "      <th>Credit</th>\n",
       "      <th></th>\n",
       "      <th></th>\n",
       "    </tr>\n",
       "  </thead>\n",
       "  <tbody>\n",
       "    <tr>\n",
       "      <th>0</th>\n",
       "      <td>5633</td>\n",
       "      <td>6</td>\n",
       "    </tr>\n",
       "    <tr>\n",
       "      <th>1</th>\n",
       "      <td>373</td>\n",
       "      <td>7</td>\n",
       "    </tr>\n",
       "  </tbody>\n",
       "</table>\n",
       "</div>"
      ],
      "text/plain": [
       "col_0      0  1\n",
       "Credit         \n",
       "0       5633  6\n",
       "1        373  7"
      ]
     },
     "execution_count": 43,
     "metadata": {},
     "output_type": "execute_result"
    }
   ],
   "source": [
    "pd.crosstab(train_Y,predic_y)# without scale"
   ]
  }
 ],
 "metadata": {
  "kernelspec": {
   "display_name": "Python 3",
   "language": "python",
   "name": "python3"
  },
  "language_info": {
   "codemirror_mode": {
    "name": "ipython",
    "version": 3
   },
   "file_extension": ".py",
   "mimetype": "text/x-python",
   "name": "python",
   "nbconvert_exporter": "python",
   "pygments_lexer": "ipython3",
   "version": "3.7.6"
  }
 },
 "nbformat": 4,
 "nbformat_minor": 4
}
