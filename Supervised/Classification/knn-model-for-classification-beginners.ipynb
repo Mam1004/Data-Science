{
 "cells": [
  {
   "cell_type": "markdown",
   "id": "charming-commonwealth",
   "metadata": {
    "papermill": {
     "duration": 0.014045,
     "end_time": "2021-04-09T00:43:19.585371",
     "exception": false,
     "start_time": "2021-04-09T00:43:19.571326",
     "status": "completed"
    },
    "tags": []
   },
   "source": [
    "The whole idea behind KNN model is ,how many clusters your data should be divided into.The optimal value of K is used to determine those clusters.\n",
    "The elbow method is the most commonly used method to decide the K value."
   ]
  },
  {
   "cell_type": "code",
   "execution_count": 1,
   "id": "involved-lucas",
   "metadata": {
    "execution": {
     "iopub.execute_input": "2021-04-09T00:43:19.614325Z",
     "iopub.status.busy": "2021-04-09T00:43:19.613348Z",
     "iopub.status.idle": "2021-04-09T00:43:19.661788Z",
     "shell.execute_reply": "2021-04-09T00:43:19.661110Z"
    },
    "papermill": {
     "duration": 0.06389,
     "end_time": "2021-04-09T00:43:19.661976",
     "exception": false,
     "start_time": "2021-04-09T00:43:19.598086",
     "status": "completed"
    },
    "tags": []
   },
   "outputs": [
    {
     "data": {
      "text/html": [
       "<div>\n",
       "<style scoped>\n",
       "    .dataframe tbody tr th:only-of-type {\n",
       "        vertical-align: middle;\n",
       "    }\n",
       "\n",
       "    .dataframe tbody tr th {\n",
       "        vertical-align: top;\n",
       "    }\n",
       "\n",
       "    .dataframe thead th {\n",
       "        text-align: right;\n",
       "    }\n",
       "</style>\n",
       "<table border=\"1\" class=\"dataframe\">\n",
       "  <thead>\n",
       "    <tr style=\"text-align: right;\">\n",
       "      <th></th>\n",
       "      <th>User ID</th>\n",
       "      <th>Gender</th>\n",
       "      <th>Age</th>\n",
       "      <th>EstimatedSalary</th>\n",
       "      <th>Purchased</th>\n",
       "    </tr>\n",
       "  </thead>\n",
       "  <tbody>\n",
       "    <tr>\n",
       "      <th>0</th>\n",
       "      <td>15624510</td>\n",
       "      <td>Male</td>\n",
       "      <td>19</td>\n",
       "      <td>19000</td>\n",
       "      <td>0</td>\n",
       "    </tr>\n",
       "    <tr>\n",
       "      <th>1</th>\n",
       "      <td>15810944</td>\n",
       "      <td>Male</td>\n",
       "      <td>35</td>\n",
       "      <td>20000</td>\n",
       "      <td>0</td>\n",
       "    </tr>\n",
       "    <tr>\n",
       "      <th>2</th>\n",
       "      <td>15668575</td>\n",
       "      <td>Female</td>\n",
       "      <td>26</td>\n",
       "      <td>43000</td>\n",
       "      <td>0</td>\n",
       "    </tr>\n",
       "    <tr>\n",
       "      <th>3</th>\n",
       "      <td>15603246</td>\n",
       "      <td>Female</td>\n",
       "      <td>27</td>\n",
       "      <td>57000</td>\n",
       "      <td>0</td>\n",
       "    </tr>\n",
       "    <tr>\n",
       "      <th>4</th>\n",
       "      <td>15804002</td>\n",
       "      <td>Male</td>\n",
       "      <td>19</td>\n",
       "      <td>76000</td>\n",
       "      <td>0</td>\n",
       "    </tr>\n",
       "  </tbody>\n",
       "</table>\n",
       "</div>"
      ],
      "text/plain": [
       "    User ID  Gender  Age  EstimatedSalary  Purchased\n",
       "0  15624510    Male   19            19000          0\n",
       "1  15810944    Male   35            20000          0\n",
       "2  15668575  Female   26            43000          0\n",
       "3  15603246  Female   27            57000          0\n",
       "4  15804002    Male   19            76000          0"
      ]
     },
     "execution_count": 1,
     "metadata": {},
     "output_type": "execute_result"
    }
   ],
   "source": [
    "import pandas as pd\n",
    "\n",
    "df=pd.read_csv('/kaggle/input/social-network-ads/Social_Network_Ads.csv')\n",
    "df.head()"
   ]
  },
  {
   "cell_type": "markdown",
   "id": "approximate-highland",
   "metadata": {
    "papermill": {
     "duration": 0.012776,
     "end_time": "2021-04-09T00:43:19.688849",
     "exception": false,
     "start_time": "2021-04-09T00:43:19.676073",
     "status": "completed"
    },
    "tags": []
   },
   "source": [
    "### Exploratory Data Analysis"
   ]
  },
  {
   "cell_type": "code",
   "execution_count": 2,
   "id": "confused-harbor",
   "metadata": {
    "execution": {
     "iopub.execute_input": "2021-04-09T00:43:19.718823Z",
     "iopub.status.busy": "2021-04-09T00:43:19.718215Z",
     "iopub.status.idle": "2021-04-09T00:43:19.747393Z",
     "shell.execute_reply": "2021-04-09T00:43:19.747858Z"
    },
    "papermill": {
     "duration": 0.046307,
     "end_time": "2021-04-09T00:43:19.748055",
     "exception": false,
     "start_time": "2021-04-09T00:43:19.701748",
     "status": "completed"
    },
    "tags": []
   },
   "outputs": [
    {
     "name": "stdout",
     "output_type": "stream",
     "text": [
      "(400, 5)\n",
      "            User ID         Age  EstimatedSalary   Purchased\n",
      "count  4.000000e+02  400.000000       400.000000  400.000000\n",
      "mean   1.569154e+07   37.655000     69742.500000    0.357500\n",
      "std    7.165832e+04   10.482877     34096.960282    0.479864\n",
      "min    1.556669e+07   18.000000     15000.000000    0.000000\n",
      "25%    1.562676e+07   29.750000     43000.000000    0.000000\n",
      "50%    1.569434e+07   37.000000     70000.000000    0.000000\n",
      "75%    1.575036e+07   46.000000     88000.000000    1.000000\n",
      "max    1.581524e+07   60.000000    150000.000000    1.000000\n",
      "<class 'pandas.core.frame.DataFrame'>\n",
      "RangeIndex: 400 entries, 0 to 399\n",
      "Data columns (total 5 columns):\n",
      " #   Column           Non-Null Count  Dtype \n",
      "---  ------           --------------  ----- \n",
      " 0   User ID          400 non-null    int64 \n",
      " 1   Gender           400 non-null    object\n",
      " 2   Age              400 non-null    int64 \n",
      " 3   EstimatedSalary  400 non-null    int64 \n",
      " 4   Purchased        400 non-null    int64 \n",
      "dtypes: int64(4), object(1)\n",
      "memory usage: 15.8+ KB\n",
      "None\n"
     ]
    }
   ],
   "source": [
    "#data description\n",
    "print(df.shape)\n",
    "print(df.describe())\n",
    "print(df.info())"
   ]
  },
  {
   "cell_type": "code",
   "execution_count": 3,
   "id": "consistent-wesley",
   "metadata": {
    "execution": {
     "iopub.execute_input": "2021-04-09T00:43:19.784350Z",
     "iopub.status.busy": "2021-04-09T00:43:19.781066Z",
     "iopub.status.idle": "2021-04-09T00:43:19.787908Z",
     "shell.execute_reply": "2021-04-09T00:43:19.788362Z"
    },
    "papermill": {
     "duration": 0.027165,
     "end_time": "2021-04-09T00:43:19.788507",
     "exception": false,
     "start_time": "2021-04-09T00:43:19.761342",
     "status": "completed"
    },
    "tags": []
   },
   "outputs": [
    {
     "name": "stdout",
     "output_type": "stream",
     "text": [
      "Female    204\n",
      "Male      196\n",
      "Name: Gender, dtype: int64\n",
      "******************\n",
      "0\n",
      "******************\n",
      "User ID            0\n",
      "Gender             0\n",
      "Age                0\n",
      "EstimatedSalary    0\n",
      "Purchased          0\n",
      "dtype: int64\n",
      "******************\n"
     ]
    }
   ],
   "source": [
    "#checking the types of gender\n",
    "print(df.Gender.value_counts())\n",
    "print(\"******************\")\n",
    "#checking duplicates\n",
    "print(df.duplicated().sum())\n",
    "print(\"******************\")\n",
    "#checking the number of null values\n",
    "print(df.isna().sum())\n",
    "print(\"******************\")"
   ]
  },
  {
   "cell_type": "code",
   "execution_count": 4,
   "id": "ancient-rough",
   "metadata": {
    "execution": {
     "iopub.execute_input": "2021-04-09T00:43:19.820940Z",
     "iopub.status.busy": "2021-04-09T00:43:19.820394Z",
     "iopub.status.idle": "2021-04-09T00:43:20.852561Z",
     "shell.execute_reply": "2021-04-09T00:43:20.853035Z"
    },
    "papermill": {
     "duration": 1.049774,
     "end_time": "2021-04-09T00:43:20.853191",
     "exception": false,
     "start_time": "2021-04-09T00:43:19.803417",
     "status": "completed"
    },
    "tags": []
   },
   "outputs": [
    {
     "data": {
      "text/plain": [
       "<AxesSubplot:xlabel='EstimatedSalary', ylabel='Count'>"
      ]
     },
     "execution_count": 4,
     "metadata": {},
     "output_type": "execute_result"
    },
    {
     "data": {
      "image/png": "[encoded data removed]",
      "text/plain": [
       "<Figure size 432x288 with 1 Axes>"
      ]
     },
     "metadata": {
      "needs_background": "light"
     },
     "output_type": "display_data"
    }
   ],
   "source": [
    "#Checking the distribution of the salary\n",
    "import seaborn as sns\n",
    "\n",
    "sns.histplot(df.EstimatedSalary)"
   ]
  },
  {
   "cell_type": "code",
   "execution_count": 5,
   "id": "impossible-evanescence",
   "metadata": {
    "execution": {
     "iopub.execute_input": "2021-04-09T00:43:20.885998Z",
     "iopub.status.busy": "2021-04-09T00:43:20.885359Z",
     "iopub.status.idle": "2021-04-09T00:43:21.048028Z",
     "shell.execute_reply": "2021-04-09T00:43:21.047420Z"
    },
    "papermill": {
     "duration": 0.180392,
     "end_time": "2021-04-09T00:43:21.048180",
     "exception": false,
     "start_time": "2021-04-09T00:43:20.867788",
     "status": "completed"
    },
    "tags": []
   },
   "outputs": [
    {
     "data": {
      "text/plain": [
       "<AxesSubplot:xlabel='Gender', ylabel='EstimatedSalary'>"
      ]
     },
     "execution_count": 5,
     "metadata": {},
     "output_type": "execute_result"
    },
    {
     "data": {
      "image/png": "[encoded data removed]",
      "text/plain": [
       "<Figure size 432x288 with 1 Axes>"
      ]
     },
     "metadata": {
      "needs_background": "light"
     },
     "output_type": "display_data"
    }
   ],
   "source": [
    "sns.barplot(x=df.Gender,y=df.EstimatedSalary)\n"
   ]
  },
  {
   "cell_type": "code",
   "execution_count": 6,
   "id": "integral-highway",
   "metadata": {
    "execution": {
     "iopub.execute_input": "2021-04-09T00:43:21.083339Z",
     "iopub.status.busy": "2021-04-09T00:43:21.082484Z",
     "iopub.status.idle": "2021-04-09T00:43:21.105717Z",
     "shell.execute_reply": "2021-04-09T00:43:21.105257Z"
    },
    "papermill": {
     "duration": 0.041441,
     "end_time": "2021-04-09T00:43:21.105851",
     "exception": false,
     "start_time": "2021-04-09T00:43:21.064410",
     "status": "completed"
    },
    "tags": []
   },
   "outputs": [
    {
     "data": {
      "text/html": [
       "<div>\n",
       "<style scoped>\n",
       "    .dataframe tbody tr th:only-of-type {\n",
       "        vertical-align: middle;\n",
       "    }\n",
       "\n",
       "    .dataframe tbody tr th {\n",
       "        vertical-align: top;\n",
       "    }\n",
       "\n",
       "    .dataframe thead th {\n",
       "        text-align: right;\n",
       "    }\n",
       "</style>\n",
       "<table border=\"1\" class=\"dataframe\">\n",
       "  <thead>\n",
       "    <tr style=\"text-align: right;\">\n",
       "      <th>Purchased</th>\n",
       "      <th>0</th>\n",
       "      <th>1</th>\n",
       "    </tr>\n",
       "    <tr>\n",
       "      <th>Gender</th>\n",
       "      <th></th>\n",
       "      <th></th>\n",
       "    </tr>\n",
       "  </thead>\n",
       "  <tbody>\n",
       "    <tr>\n",
       "      <th>Female</th>\n",
       "      <td>127</td>\n",
       "      <td>77</td>\n",
       "    </tr>\n",
       "    <tr>\n",
       "      <th>Male</th>\n",
       "      <td>130</td>\n",
       "      <td>66</td>\n",
       "    </tr>\n",
       "  </tbody>\n",
       "</table>\n",
       "</div>"
      ],
      "text/plain": [
       "Purchased    0   1\n",
       "Gender            \n",
       "Female     127  77\n",
       "Male       130  66"
      ]
     },
     "execution_count": 6,
     "metadata": {},
     "output_type": "execute_result"
    }
   ],
   "source": [
    "\n",
    "pd.crosstab(df.Gender,df.Purchased)\n"
   ]
  },
  {
   "cell_type": "markdown",
   "id": "senior-consistency",
   "metadata": {
    "papermill": {
     "duration": 0.016552,
     "end_time": "2021-04-09T00:43:21.138491",
     "exception": false,
     "start_time": "2021-04-09T00:43:21.121939",
     "status": "completed"
    },
    "tags": []
   },
   "source": [
    "Analysis:\n",
    "The entire analysis on the sample data states  that, women are earning little more than men here and their purchase count is higher too.\n",
    "The salary is almost normally  distributed ."
   ]
  },
  {
   "cell_type": "code",
   "execution_count": 7,
   "id": "romance-merchandise",
   "metadata": {
    "execution": {
     "iopub.execute_input": "2021-04-09T00:43:21.179071Z",
     "iopub.status.busy": "2021-04-09T00:43:21.178209Z",
     "iopub.status.idle": "2021-04-09T00:43:21.181394Z",
     "shell.execute_reply": "2021-04-09T00:43:21.180983Z"
    },
    "papermill": {
     "duration": 0.026799,
     "end_time": "2021-04-09T00:43:21.181523",
     "exception": false,
     "start_time": "2021-04-09T00:43:21.154724",
     "status": "completed"
    },
    "tags": []
   },
   "outputs": [],
   "source": [
    "#creating dummies\n",
    "df1=pd.get_dummies(data=df,columns=['Gender'],drop_first=True)"
   ]
  },
  {
   "cell_type": "code",
   "execution_count": 8,
   "id": "patient-reserve",
   "metadata": {
    "execution": {
     "iopub.execute_input": "2021-04-09T00:43:21.220983Z",
     "iopub.status.busy": "2021-04-09T00:43:21.220273Z",
     "iopub.status.idle": "2021-04-09T00:43:21.223686Z",
     "shell.execute_reply": "2021-04-09T00:43:21.223190Z"
    },
    "papermill": {
     "duration": 0.024498,
     "end_time": "2021-04-09T00:43:21.223810",
     "exception": false,
     "start_time": "2021-04-09T00:43:21.199312",
     "status": "completed"
    },
    "tags": []
   },
   "outputs": [],
   "source": [
    "#Defining the x and y \n",
    "# we will be dropping the USER ID colum as it does not impact the Y\n",
    "x=df1.drop(columns=['User ID','Purchased'])\n",
    "y=df1.Purchased"
   ]
  },
  {
   "cell_type": "code",
   "execution_count": 9,
   "id": "juvenile-paper",
   "metadata": {
    "execution": {
     "iopub.execute_input": "2021-04-09T00:43:21.262126Z",
     "iopub.status.busy": "2021-04-09T00:43:21.261533Z",
     "iopub.status.idle": "2021-04-09T00:43:21.467157Z",
     "shell.execute_reply": "2021-04-09T00:43:21.466657Z"
    },
    "papermill": {
     "duration": 0.227024,
     "end_time": "2021-04-09T00:43:21.467286",
     "exception": false,
     "start_time": "2021-04-09T00:43:21.240262",
     "status": "completed"
    },
    "tags": []
   },
   "outputs": [],
   "source": [
    "#Splitting the dat into train and test\n",
    "from sklearn.model_selection import train_test_split\n",
    "x_train,x_test,y_train,y_test=train_test_split(x,y,random_state=10,test_size=.3)"
   ]
  },
  {
   "cell_type": "code",
   "execution_count": 10,
   "id": "legislative-crawford",
   "metadata": {
    "execution": {
     "iopub.execute_input": "2021-04-09T00:43:21.505374Z",
     "iopub.status.busy": "2021-04-09T00:43:21.504672Z",
     "iopub.status.idle": "2021-04-09T00:43:21.660434Z",
     "shell.execute_reply": "2021-04-09T00:43:21.660885Z"
    },
    "papermill": {
     "duration": 0.176933,
     "end_time": "2021-04-09T00:43:21.661059",
     "exception": false,
     "start_time": "2021-04-09T00:43:21.484126",
     "status": "completed"
    },
    "tags": []
   },
   "outputs": [],
   "source": [
    "#Standerizing the data and creating a KNN model \n",
    "# Pipeline is used to process multiple steps together in this case both standerization and KNN estimator object creation is done at the same time.\n",
    "from sklearn.preprocessing import StandardScaler\n",
    "from sklearn.neighbors import KNeighborsClassifier\n",
    "from sklearn.pipeline import Pipeline\n",
    "model_steps=[('sipStanderise',StandardScaler()),('shipModel',KNeighborsClassifier(n_neighbors=4,metric='minkowski',p=2))]#we will start with random value of k ,i.e n_neighbors"
   ]
  },
  {
   "cell_type": "code",
   "execution_count": 11,
   "id": "usual-manhattan",
   "metadata": {
    "execution": {
     "iopub.execute_input": "2021-04-09T00:43:21.704835Z",
     "iopub.status.busy": "2021-04-09T00:43:21.703933Z",
     "iopub.status.idle": "2021-04-09T00:43:21.710321Z",
     "shell.execute_reply": "2021-04-09T00:43:21.709763Z"
    },
    "papermill": {
     "duration": 0.032523,
     "end_time": "2021-04-09T00:43:21.710445",
     "exception": false,
     "start_time": "2021-04-09T00:43:21.677922",
     "status": "completed"
    },
    "tags": []
   },
   "outputs": [
    {
     "data": {
      "text/plain": [
       "Pipeline(steps=[('sipStanderise', StandardScaler()),\n",
       "                ('shipModel', KNeighborsClassifier(n_neighbors=4))])"
      ]
     },
     "execution_count": 11,
     "metadata": {},
     "output_type": "execute_result"
    }
   ],
   "source": [
    "#Fitting the model\n",
    "pipelineModel=Pipeline(steps=model_steps)\n",
    "pipelineModel.fit(x_train,y_train)"
   ]
  },
  {
   "cell_type": "code",
   "execution_count": 12,
   "id": "mobile-running",
   "metadata": {
    "execution": {
     "iopub.execute_input": "2021-04-09T00:43:21.750728Z",
     "iopub.status.busy": "2021-04-09T00:43:21.750140Z",
     "iopub.status.idle": "2021-04-09T00:43:21.763278Z",
     "shell.execute_reply": "2021-04-09T00:43:21.762708Z"
    },
    "papermill": {
     "duration": 0.036111,
     "end_time": "2021-04-09T00:43:21.763408",
     "exception": false,
     "start_time": "2021-04-09T00:43:21.727297",
     "status": "completed"
    },
    "tags": []
   },
   "outputs": [
    {
     "data": {
      "text/plain": [
       "0.9142857142857143"
      ]
     },
     "execution_count": 12,
     "metadata": {},
     "output_type": "execute_result"
    }
   ],
   "source": [
    "#Model score for train data\n",
    "pipelineModel.score(x_train,y_train)"
   ]
  },
  {
   "cell_type": "code",
   "execution_count": 13,
   "id": "demanding-mainland",
   "metadata": {
    "execution": {
     "iopub.execute_input": "2021-04-09T00:43:21.804435Z",
     "iopub.status.busy": "2021-04-09T00:43:21.803810Z",
     "iopub.status.idle": "2021-04-09T00:43:21.812704Z",
     "shell.execute_reply": "2021-04-09T00:43:21.812182Z"
    },
    "papermill": {
     "duration": 0.03213,
     "end_time": "2021-04-09T00:43:21.812841",
     "exception": false,
     "start_time": "2021-04-09T00:43:21.780711",
     "status": "completed"
    },
    "tags": []
   },
   "outputs": [
    {
     "data": {
      "text/plain": [
       "0.9166666666666666"
      ]
     },
     "execution_count": 13,
     "metadata": {},
     "output_type": "execute_result"
    }
   ],
   "source": [
    "#Model score on test data\n",
    "pipelineModel.score(x_test,y_test)"
   ]
  },
  {
   "cell_type": "code",
   "execution_count": 14,
   "id": "composite-booth",
   "metadata": {
    "execution": {
     "iopub.execute_input": "2021-04-09T00:43:21.854738Z",
     "iopub.status.busy": "2021-04-09T00:43:21.854090Z",
     "iopub.status.idle": "2021-04-09T00:43:21.875620Z",
     "shell.execute_reply": "2021-04-09T00:43:21.875162Z"
    },
    "papermill": {
     "duration": 0.045522,
     "end_time": "2021-04-09T00:43:21.875761",
     "exception": false,
     "start_time": "2021-04-09T00:43:21.830239",
     "status": "completed"
    },
    "tags": []
   },
   "outputs": [
    {
     "data": {
      "text/html": [
       "<div>\n",
       "<style scoped>\n",
       "    .dataframe tbody tr th:only-of-type {\n",
       "        vertical-align: middle;\n",
       "    }\n",
       "\n",
       "    .dataframe tbody tr th {\n",
       "        vertical-align: top;\n",
       "    }\n",
       "\n",
       "    .dataframe thead th {\n",
       "        text-align: right;\n",
       "    }\n",
       "</style>\n",
       "<table border=\"1\" class=\"dataframe\">\n",
       "  <thead>\n",
       "    <tr style=\"text-align: right;\">\n",
       "      <th>col_0</th>\n",
       "      <th>0</th>\n",
       "      <th>1</th>\n",
       "    </tr>\n",
       "    <tr>\n",
       "      <th>Purchased</th>\n",
       "      <th></th>\n",
       "      <th></th>\n",
       "    </tr>\n",
       "  </thead>\n",
       "  <tbody>\n",
       "    <tr>\n",
       "      <th>0</th>\n",
       "      <td>76</td>\n",
       "      <td>7</td>\n",
       "    </tr>\n",
       "    <tr>\n",
       "      <th>1</th>\n",
       "      <td>3</td>\n",
       "      <td>34</td>\n",
       "    </tr>\n",
       "  </tbody>\n",
       "</table>\n",
       "</div>"
      ],
      "text/plain": [
       "col_0       0   1\n",
       "Purchased        \n",
       "0          76   7\n",
       "1           3  34"
      ]
     },
     "execution_count": 14,
     "metadata": {},
     "output_type": "execute_result"
    }
   ],
   "source": [
    "#Evaluating the model prediction\n",
    "predic_test_y=pipelineModel.predict(x_test)\n",
    "pd.crosstab(y_test,predic_test_y)"
   ]
  },
  {
   "cell_type": "code",
   "execution_count": 15,
   "id": "serial-america",
   "metadata": {
    "execution": {
     "iopub.execute_input": "2021-04-09T00:43:21.919834Z",
     "iopub.status.busy": "2021-04-09T00:43:21.918126Z",
     "iopub.status.idle": "2021-04-09T00:43:21.923673Z",
     "shell.execute_reply": "2021-04-09T00:43:21.923065Z"
    },
    "papermill": {
     "duration": 0.029928,
     "end_time": "2021-04-09T00:43:21.923805",
     "exception": false,
     "start_time": "2021-04-09T00:43:21.893877",
     "status": "completed"
    },
    "tags": []
   },
   "outputs": [
    {
     "name": "stdout",
     "output_type": "stream",
     "text": [
      "              precision    recall  f1-score   support\n",
      "\n",
      "           0       0.96      0.92      0.94        83\n",
      "           1       0.83      0.92      0.87        37\n",
      "\n",
      "    accuracy                           0.92       120\n",
      "   macro avg       0.90      0.92      0.91       120\n",
      "weighted avg       0.92      0.92      0.92       120\n",
      "\n"
     ]
    }
   ],
   "source": [
    "#Model Evaluation 2\n",
    "from sklearn.metrics import classification_report\n",
    "print(classification_report(y_test,predic_test_y))"
   ]
  },
  {
   "cell_type": "markdown",
   "id": "delayed-investment",
   "metadata": {
    "papermill": {
     "duration": 0.017987,
     "end_time": "2021-04-09T00:43:21.959912",
     "exception": false,
     "start_time": "2021-04-09T00:43:21.941925",
     "status": "completed"
    },
    "tags": []
   },
   "source": [
    "### Checking the best K value for our classification Model"
   ]
  },
  {
   "cell_type": "code",
   "execution_count": 16,
   "id": "choice-prescription",
   "metadata": {
    "execution": {
     "iopub.execute_input": "2021-04-09T00:43:22.000556Z",
     "iopub.status.busy": "2021-04-09T00:43:21.999961Z",
     "iopub.status.idle": "2021-04-09T00:43:22.002575Z",
     "shell.execute_reply": "2021-04-09T00:43:22.002050Z"
    },
    "papermill": {
     "duration": 0.024438,
     "end_time": "2021-04-09T00:43:22.002701",
     "exception": false,
     "start_time": "2021-04-09T00:43:21.978263",
     "status": "completed"
    },
    "tags": []
   },
   "outputs": [],
   "source": [
    "#create 2 list for storing all the model score for diffrent K values\n",
    "trainAccuracy=[]\n",
    "testAccuracy=[]"
   ]
  },
  {
   "cell_type": "markdown",
   "id": "planned-meeting",
   "metadata": {
    "papermill": {
     "duration": 0.018519,
     "end_time": "2021-04-09T00:43:22.039735",
     "exception": false,
     "start_time": "2021-04-09T00:43:22.021216",
     "status": "completed"
    },
    "tags": []
   },
   "source": []
  },
  {
   "cell_type": "code",
   "execution_count": 17,
   "id": "enabling-horse",
   "metadata": {
    "execution": {
     "iopub.execute_input": "2021-04-09T00:43:22.085809Z",
     "iopub.status.busy": "2021-04-09T00:43:22.082835Z",
     "iopub.status.idle": "2021-04-09T00:43:22.795125Z",
     "shell.execute_reply": "2021-04-09T00:43:22.794477Z"
    },
    "papermill": {
     "duration": 0.737139,
     "end_time": "2021-04-09T00:43:22.795260",
     "exception": false,
     "start_time": "2021-04-09T00:43:22.058121",
     "status": "completed"
    },
    "tags": []
   },
   "outputs": [],
   "source": [
    "#create model for K values from 1 to 40\n",
    "for k in range(1,40):\n",
    "    model=KNeighborsClassifier(n_neighbors=k)\n",
    "    model.fit(x_train,y_train)\n",
    "    trainAccuracy.append(model.score(x_train,y_train))\n",
    "    testAccuracy.append(model.score(x_test,y_test))"
   ]
  },
  {
   "cell_type": "code",
   "execution_count": 18,
   "id": "adjacent-electron",
   "metadata": {
    "execution": {
     "iopub.execute_input": "2021-04-09T00:43:22.836579Z",
     "iopub.status.busy": "2021-04-09T00:43:22.835964Z",
     "iopub.status.idle": "2021-04-09T00:43:22.838904Z",
     "shell.execute_reply": "2021-04-09T00:43:22.838436Z"
    },
    "papermill": {
     "duration": 0.025419,
     "end_time": "2021-04-09T00:43:22.839036",
     "exception": false,
     "start_time": "2021-04-09T00:43:22.813617",
     "status": "completed"
    },
    "tags": []
   },
   "outputs": [],
   "source": [
    "from matplotlib import pyplot as plt,style\n",
    "style.use('ggplot')"
   ]
  },
  {
   "cell_type": "code",
   "execution_count": 19,
   "id": "serious-taste",
   "metadata": {
    "execution": {
     "iopub.execute_input": "2021-04-09T00:43:22.897327Z",
     "iopub.status.busy": "2021-04-09T00:43:22.895119Z",
     "iopub.status.idle": "2021-04-09T00:43:23.055374Z",
     "shell.execute_reply": "2021-04-09T00:43:23.055887Z"
    },
    "papermill": {
     "duration": 0.198678,
     "end_time": "2021-04-09T00:43:23.056055",
     "exception": false,
     "start_time": "2021-04-09T00:43:22.857377",
     "status": "completed"
    },
    "tags": []
   },
   "outputs": [
    {
     "data": {
      "image/png": "[encoded data removed]",
      "text/plain": [
       "<Figure size 864x432 with 1 Axes>"
      ]
     },
     "metadata": {},
     "output_type": "display_data"
    }
   ],
   "source": [
    "#create a plot using the information from the above loop\n",
    "plt.figure(figsize=(12,6))\n",
    "plt.plot(range(1,40),trainAccuracy,label=\"Train Score\",marker=\"o\",markerfacecolor=\"teal\",color=\"blue\",linestyle=\"dashed\")\n",
    "plt.plot(range(1,40),testAccuracy,label=\"Test Score\",marker=\"o\",markerfacecolor=\"red\",color=\"black\",linestyle=\"dashed\")\n",
    "plt.legend()\n",
    "plt.xlabel(\"Number of Neighbors\")\n",
    "plt.ylabel(\"Score\")\n",
    "plt.title(\"Nbd Vs Score\")\n",
    "plt.show()"
   ]
  },
  {
   "cell_type": "markdown",
   "id": "dated-rough",
   "metadata": {
    "papermill": {
     "duration": 0.019611,
     "end_time": "2021-04-09T00:43:23.095617",
     "exception": false,
     "start_time": "2021-04-09T00:43:23.076006",
     "status": "completed"
    },
    "tags": []
   },
   "source": [
    "We can see the optimal value of K is 8."
   ]
  },
  {
   "cell_type": "code",
   "execution_count": 20,
   "id": "korean-kazakhstan",
   "metadata": {
    "execution": {
     "iopub.execute_input": "2021-04-09T00:43:23.147865Z",
     "iopub.status.busy": "2021-04-09T00:43:23.146908Z",
     "iopub.status.idle": "2021-04-09T00:43:23.196892Z",
     "shell.execute_reply": "2021-04-09T00:43:23.196296Z"
    },
    "papermill": {
     "duration": 0.081643,
     "end_time": "2021-04-09T00:43:23.197028",
     "exception": false,
     "start_time": "2021-04-09T00:43:23.115385",
     "status": "completed"
    },
    "tags": []
   },
   "outputs": [
    {
     "name": "stdout",
     "output_type": "stream",
     "text": [
      "score is:0.9071428571428571\n",
      "********************************\n",
      "col_0        0   1\n",
      "Purchased         \n",
      "0          160  14\n",
      "1           12  94\n"
     ]
    }
   ],
   "source": [
    "#creating a model using K =8\n",
    "model_steps_20=[('sipStanderise',StandardScaler()),('shipModel',KNeighborsClassifier(n_neighbors=8,metric='minkowski',p=2))]\n",
    "pipelineModel=Pipeline(steps=model_steps_20)\n",
    "pipelineModel.fit(x_train,y_train)\n",
    "print(\"score is:\"+ str(pipelineModel.score(x_train,y_train)))\n",
    "print(\"********************************\")\n",
    "pipelineModel.score(x_test,y_test)\n",
    "predic_test_y=pipelineModel.predict(x_train)\n",
    "print(pd.crosstab(y_train,predic_test_y))"
   ]
  },
  {
   "cell_type": "markdown",
   "id": "premium-verse",
   "metadata": {
    "papermill": {
     "duration": 0.02022,
     "end_time": "2021-04-09T00:43:23.237448",
     "exception": false,
     "start_time": "2021-04-09T00:43:23.217228",
     "status": "completed"
    },
    "tags": []
   },
   "source": [
    "We can see that there is a little improvment in prediction after using the optimal valus of K."
   ]
  }
 ],
 "metadata": {
  "kernelspec": {
   "display_name": "Python 3",
   "language": "python",
   "name": "python3"
  },
  "language_info": {
   "codemirror_mode": {
    "name": "ipython",
    "version": 3
   },
   "file_extension": ".py",
   "mimetype": "text/x-python",
   "name": "python",
   "nbconvert_exporter": "python",
   "pygments_lexer": "ipython3",
   "version": "3.7.9"
  },
  "papermill": {
   "default_parameters": {},
   "duration": 9.476775,
   "end_time": "2021-04-09T00:43:23.866456",
   "environment_variables": {},
   "exception": null,
   "input_path": "__notebook__.ipynb",
   "output_path": "__notebook__.ipynb",
   "parameters": {},
   "start_time": "2021-04-09T00:43:14.389681",
   "version": "2.3.2"
  }
 },
 "nbformat": 4,
 "nbformat_minor": 5
}
