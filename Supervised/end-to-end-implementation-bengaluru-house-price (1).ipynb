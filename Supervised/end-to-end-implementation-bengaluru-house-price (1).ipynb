{
 "cells": [
  {
   "cell_type": "code",
   "execution_count": 98,
   "metadata": {
    "execution": {
     "iopub.execute_input": "2021-12-27T13:57:13.187333Z",
     "iopub.status.busy": "2021-12-27T13:57:13.186246Z",
     "iopub.status.idle": "2021-12-27T13:57:13.191728Z",
     "shell.execute_reply": "2021-12-27T13:57:13.190942Z",
     "shell.execute_reply.started": "2021-12-27T13:57:13.187287Z"
    }
   },
   "outputs": [],
   "source": [
    "# importing libarries\n",
    "import pandas as pd\n",
    "import numpy as np\n",
    "import seaborn as sns\n",
    "import re\n",
    "from sklearn.impute import SimpleImputer\n",
    "from sklearn import preprocessing\n",
    "import matplotlib.pyplot as plt\n",
    "import matplotlib"
   ]
  },
  {
   "cell_type": "code",
   "execution_count": 99,
   "metadata": {
    "execution": {
     "iopub.execute_input": "2021-12-27T13:57:13.208753Z",
     "iopub.status.busy": "2021-12-27T13:57:13.207790Z",
     "iopub.status.idle": "2021-12-27T13:57:13.247942Z",
     "shell.execute_reply": "2021-12-27T13:57:13.247033Z",
     "shell.execute_reply.started": "2021-12-27T13:57:13.208716Z"
    }
   },
   "outputs": [],
   "source": [
    "df=pd.read_csv(\"../input/banglorehousepricedataset/Bengaluru_House_Data.csv\")\n",
    "df.head()"
   ]
  },
  {
   "cell_type": "code",
   "execution_count": 100,
   "metadata": {
    "execution": {
     "iopub.execute_input": "2021-12-27T13:57:13.249867Z",
     "iopub.status.busy": "2021-12-27T13:57:13.249656Z",
     "iopub.status.idle": "2021-12-27T13:57:13.284029Z",
     "shell.execute_reply": "2021-12-27T13:57:13.283413Z",
     "shell.execute_reply.started": "2021-12-27T13:57:13.249842Z"
    }
   },
   "outputs": [],
   "source": [
    "#data description\n",
    "print(df.shape)\n",
    "print(df.describe())\n",
    "print(df.info())"
   ]
  },
  {
   "cell_type": "markdown",
   "metadata": {},
   "source": [
    "Just by looking at the describe we can see our price is highly skewed,where the mean is 112 and  the 50% is on 72"
   ]
  },
  {
   "cell_type": "code",
   "execution_count": 101,
   "metadata": {
    "execution": {
     "iopub.execute_input": "2021-12-27T13:57:13.285312Z",
     "iopub.status.busy": "2021-12-27T13:57:13.285068Z",
     "iopub.status.idle": "2021-12-27T13:57:13.288740Z",
     "shell.execute_reply": "2021-12-27T13:57:13.288143Z",
     "shell.execute_reply.started": "2021-12-27T13:57:13.285282Z"
    }
   },
   "outputs": [],
   "source": [
    "#def find_number(text):\n",
    "    #num = re.findall(r'[0-9]+',text)\n",
    "    #return \" \".join(num)\n",
    "#df['no of rooms']=df['size'].apply(lambda x: find_number(x))"
   ]
  },
  {
   "cell_type": "markdown",
   "metadata": {},
   "source": [
    "<a id='2'></a> <h1 style=\"background-color:grey; color:blue\" ><br>Exploratery data analysis<br></h1>\n",
    "<a id='3'></a>\n",
    "\n",
    "<b>\n",
    "*  Steps for EDA:\n",
    "  \n",
    "   1. Checking the missing value\n",
    "   2. checking the description,datatypes\n",
    "   3. Doing Univariate analysis on the variables to understand how the variables are affecting the outcome\n",
    "   4. Finding  the correlation between the variables\n",
    "    </b></center>\n",
    "   "
   ]
  },
  {
   "cell_type": "markdown",
   "metadata": {},
   "source": []
  },
  {
   "cell_type": "code",
   "execution_count": 102,
   "metadata": {
    "execution": {
     "iopub.execute_input": "2021-12-27T13:57:13.290698Z",
     "iopub.status.busy": "2021-12-27T13:57:13.290464Z",
     "iopub.status.idle": "2021-12-27T13:57:13.309783Z",
     "shell.execute_reply": "2021-12-27T13:57:13.308939Z",
     "shell.execute_reply.started": "2021-12-27T13:57:13.290669Z"
    }
   },
   "outputs": [],
   "source": [
    "\n",
    "# checking the datatypes of all the  features in the dataset\n",
    "print(df.select_dtypes('object').shape)\n",
    "print('********')\n",
    "print(df.select_dtypes('int64').shape)\n",
    "print('********')\n",
    "print(df.select_dtypes('float').shape)\n",
    "print('********')\n",
    "print(df.select_dtypes('bool').shape)"
   ]
  },
  {
   "cell_type": "code",
   "execution_count": 103,
   "metadata": {
    "execution": {
     "iopub.execute_input": "2021-12-27T13:57:13.312063Z",
     "iopub.status.busy": "2021-12-27T13:57:13.311489Z",
     "iopub.status.idle": "2021-12-27T13:57:13.338701Z",
     "shell.execute_reply": "2021-12-27T13:57:13.337936Z",
     "shell.execute_reply.started": "2021-12-27T13:57:13.312021Z"
    }
   },
   "outputs": [],
   "source": [
    "#checking the missing value\n",
    "def miss_val(df):\n",
    "   miss_col=df[[col for col in df.columns if df[col].isnull().any() == True]].isna().sum()\n",
    "   return miss_col\n",
    "\n",
    "print(miss_val(df))"
   ]
  },
  {
   "cell_type": "markdown",
   "metadata": {},
   "source": [
    "1>We can see here we have almost 50% of recordis in scocitey columns which are missing.we may get rid of this column .\n",
    "\n",
    "2>The bedroom in size has to be replaced by BHK ,but before doing that we need to check if there are other names used for BHK.We need to extract only the numbers from this column.\n",
    "\n",
    "3> we need to do hot encoding for the location column.\n",
    "\n",
    "4> Area_type needs to  be coded in numbers.\n",
    "\n",
    "5> we have 73 bath as null,which is not possible we need to impudate with using the size of the hous and average bath in those houses in other records.\n",
    "\n",
    "6> we will replace the balconey na values with median and drop all the other NA records\n",
    "\n"
   ]
  },
  {
   "cell_type": "code",
   "execution_count": 104,
   "metadata": {
    "execution": {
     "iopub.execute_input": "2021-12-27T13:57:13.340225Z",
     "iopub.status.busy": "2021-12-27T13:57:13.339741Z",
     "iopub.status.idle": "2021-12-27T13:57:13.343744Z",
     "shell.execute_reply": "2021-12-27T13:57:13.343116Z",
     "shell.execute_reply.started": "2021-12-27T13:57:13.340180Z"
    }
   },
   "outputs": [],
   "source": [
    "#extracting number of rooms and \n",
    "#df['size'] = df['size'].str[:2]\n",
    "#df.head(2)"
   ]
  },
  {
   "cell_type": "code",
   "execution_count": 105,
   "metadata": {
    "execution": {
     "iopub.execute_input": "2021-12-27T13:57:13.345310Z",
     "iopub.status.busy": "2021-12-27T13:57:13.344641Z",
     "iopub.status.idle": "2021-12-27T13:57:13.361573Z",
     "shell.execute_reply": "2021-12-27T13:57:13.360604Z",
     "shell.execute_reply.started": "2021-12-27T13:57:13.345277Z"
    }
   },
   "outputs": [],
   "source": [
    "#df.size=df.size.astype(int)\n",
    "df['size'].unique()"
   ]
  },
  {
   "cell_type": "code",
   "execution_count": 106,
   "metadata": {
    "execution": {
     "iopub.execute_input": "2021-12-27T13:57:13.363372Z",
     "iopub.status.busy": "2021-12-27T13:57:13.362737Z",
     "iopub.status.idle": "2021-12-27T13:57:13.394397Z",
     "shell.execute_reply": "2021-12-27T13:57:13.393697Z",
     "shell.execute_reply.started": "2021-12-27T13:57:13.363335Z"
    }
   },
   "outputs": [],
   "source": [
    "#handling balcony missing vaule in bacony using simple imputer\n",
    "Imp = SimpleImputer(missing_values=np.NaN, strategy='median')\n",
    "df.balcony=pd.DataFrame(Imp.fit_transform(df['balcony'].values.reshape(-1,1))[:,0])\n",
    "\n",
    "#values.reshap means that you are not sure about what number of rows or columns you can give and you are asking numpy\n",
    "#to suggest a number of column or rows to get reshaped in.\n",
    "df"
   ]
  },
  {
   "cell_type": "markdown",
   "metadata": {},
   "source": [
    "so using simple imputer will work for us and also there is not much of a deviation in the data  'Balcony' .Again there are multiple ways to do this but here we are using simpleimputer."
   ]
  },
  {
   "cell_type": "code",
   "execution_count": 107,
   "metadata": {
    "execution": {
     "iopub.execute_input": "2021-12-27T13:57:13.395986Z",
     "iopub.status.busy": "2021-12-27T13:57:13.395612Z",
     "iopub.status.idle": "2021-12-27T13:57:13.412347Z",
     "shell.execute_reply": "2021-12-27T13:57:13.411487Z",
     "shell.execute_reply.started": "2021-12-27T13:57:13.395945Z"
    }
   },
   "outputs": [],
   "source": [
    "#drop column socitey and all the other missing values \n",
    "\n",
    "df=df.drop(columns=['society'])\n",
    "df=df.dropna()"
   ]
  },
  {
   "cell_type": "markdown",
   "metadata": {},
   "source": [
    "### Understanding the data"
   ]
  },
  {
   "cell_type": "code",
   "execution_count": 108,
   "metadata": {
    "execution": {
     "iopub.execute_input": "2021-12-27T13:57:13.414978Z",
     "iopub.status.busy": "2021-12-27T13:57:13.414745Z",
     "iopub.status.idle": "2021-12-27T13:57:13.427198Z",
     "shell.execute_reply": "2021-12-27T13:57:13.426033Z",
     "shell.execute_reply.started": "2021-12-27T13:57:13.414950Z"
    }
   },
   "outputs": [],
   "source": [
    "#encoding the cateogrical variables\n",
    "\n",
    "\n",
    "df['availability']=np.where(df['availability']=='Ready To Move',1,0)"
   ]
  },
  {
   "cell_type": "code",
   "execution_count": 109,
   "metadata": {
    "execution": {
     "iopub.execute_input": "2021-12-27T13:57:13.428671Z",
     "iopub.status.busy": "2021-12-27T13:57:13.428454Z",
     "iopub.status.idle": "2021-12-27T13:57:13.439045Z",
     "shell.execute_reply": "2021-12-27T13:57:13.438361Z",
     "shell.execute_reply.started": "2021-12-27T13:57:13.428645Z"
    }
   },
   "outputs": [],
   "source": [
    "# handling range values in total_sqft\n",
    "# we will first extract all those records which has \"-\" in it and then extract them and then  find the average of those numbers.\n",
    "\n",
    "def is_float(x):\n",
    "    try:\n",
    "        float(x)\n",
    "    except:\n",
    "        return False\n",
    "    return True"
   ]
  },
  {
   "cell_type": "code",
   "execution_count": 110,
   "metadata": {
    "execution": {
     "iopub.execute_input": "2021-12-27T13:57:13.440721Z",
     "iopub.status.busy": "2021-12-27T13:57:13.440353Z",
     "iopub.status.idle": "2021-12-27T13:57:13.473738Z",
     "shell.execute_reply": "2021-12-27T13:57:13.473105Z",
     "shell.execute_reply.started": "2021-12-27T13:57:13.440691Z"
    }
   },
   "outputs": [],
   "source": [
    "df[~df['total_sqft'].apply(is_float)].head(10)"
   ]
  },
  {
   "cell_type": "markdown",
   "metadata": {},
   "source": [
    "we can see we have total _sqft in  sq. meter and perch,for now we will park those values aside and focus on the range average"
   ]
  },
  {
   "cell_type": "code",
   "execution_count": 111,
   "metadata": {
    "execution": {
     "iopub.execute_input": "2021-12-27T13:57:13.475388Z",
     "iopub.status.busy": "2021-12-27T13:57:13.474792Z",
     "iopub.status.idle": "2021-12-27T13:57:13.485820Z",
     "shell.execute_reply": "2021-12-27T13:57:13.484886Z",
     "shell.execute_reply.started": "2021-12-27T13:57:13.475347Z"
    }
   },
   "outputs": [],
   "source": [
    "def convert_sqft_to_num(x):\n",
    "    tokens=x.split('-')\n",
    "    if len(tokens) == 2: \n",
    "        return(float(tokens[0])+float(tokens[1]))/2\n",
    "    try:\n",
    "        return float(x)\n",
    "    except:\n",
    "        #return x--> we will use this for future conversion of sqmt and yard and acres\n",
    "        return None"
   ]
  },
  {
   "cell_type": "code",
   "execution_count": 112,
   "metadata": {
    "execution": {
     "iopub.execute_input": "2021-12-27T13:57:13.487824Z",
     "iopub.status.busy": "2021-12-27T13:57:13.487350Z",
     "iopub.status.idle": "2021-12-27T13:57:13.526174Z",
     "shell.execute_reply": "2021-12-27T13:57:13.525305Z",
     "shell.execute_reply.started": "2021-12-27T13:57:13.487785Z"
    }
   },
   "outputs": [],
   "source": [
    "df1=df.copy()\n",
    "df1['total_sqft']=df1['total_sqft'].apply(convert_sqft_to_num)\n",
    "df1.head()"
   ]
  },
  {
   "cell_type": "code",
   "execution_count": 113,
   "metadata": {
    "execution": {
     "iopub.execute_input": "2021-12-27T13:57:13.527556Z",
     "iopub.status.busy": "2021-12-27T13:57:13.527330Z",
     "iopub.status.idle": "2021-12-27T13:57:13.549457Z",
     "shell.execute_reply": "2021-12-27T13:57:13.548490Z",
     "shell.execute_reply.started": "2021-12-27T13:57:13.527529Z"
    }
   },
   "outputs": [],
   "source": [
    "# price per sqft\n",
    "df2=df1.copy()\n",
    "df2['ppsqft']=df2['price']*100000/df2['total_sqft']\n",
    "df2.head()"
   ]
  },
  {
   "cell_type": "code",
   "execution_count": 114,
   "metadata": {
    "execution": {
     "iopub.execute_input": "2021-12-27T13:57:13.550926Z",
     "iopub.status.busy": "2021-12-27T13:57:13.550695Z",
     "iopub.status.idle": "2021-12-27T13:57:13.574094Z",
     "shell.execute_reply": "2021-12-27T13:57:13.573179Z",
     "shell.execute_reply.started": "2021-12-27T13:57:13.550898Z"
    }
   },
   "outputs": [],
   "source": [
    "#handling location column\n",
    "\n",
    "en_label = preprocessing.LabelEncoder()\n",
    "\n",
    "#for i in df.select_dtypes('object'):\n",
    "#df['location']= en_label.fit_transform(df['location'])\n",
    "# curse of dimensionality so if we are doing one hot encoding or label enoding it won't be good ,we will group the values here\n",
    "df3=df2.copy()\n",
    "df3['location']=df3['location'].apply(lambda x: x.strip())\n",
    "location_stats=df3.groupby('location')['location'].agg('count').sort_values(ascending=False)\n",
    "location_stats_lessthan10=(location_stats[location_stats<=10])#grouping the location which has less than 10 hits\n",
    "location_stats_lessthan10"
   ]
  },
  {
   "cell_type": "code",
   "execution_count": 115,
   "metadata": {
    "execution": {
     "iopub.execute_input": "2021-12-27T13:57:13.575813Z",
     "iopub.status.busy": "2021-12-27T13:57:13.575599Z",
     "iopub.status.idle": "2021-12-27T13:57:13.582124Z",
     "shell.execute_reply": "2021-12-27T13:57:13.581558Z",
     "shell.execute_reply.started": "2021-12-27T13:57:13.575787Z"
    }
   },
   "outputs": [],
   "source": [
    "len(df3.location.unique())"
   ]
  },
  {
   "cell_type": "code",
   "execution_count": 116,
   "metadata": {
    "execution": {
     "iopub.execute_input": "2021-12-27T13:57:13.583785Z",
     "iopub.status.busy": "2021-12-27T13:57:13.583398Z",
     "iopub.status.idle": "2021-12-27T13:57:13.613880Z",
     "shell.execute_reply": "2021-12-27T13:57:13.613275Z",
     "shell.execute_reply.started": "2021-12-27T13:57:13.583756Z"
    }
   },
   "outputs": [],
   "source": [
    "#putting any tging with less than 10 location count as others\n",
    "df3.location=df3.location.apply(lambda x: 'other' if x in  location_stats_lessthan10 else x)#this will leave us with only 242 location"
   ]
  },
  {
   "cell_type": "code",
   "execution_count": 117,
   "metadata": {
    "execution": {
     "iopub.execute_input": "2021-12-27T13:57:13.615660Z",
     "iopub.status.busy": "2021-12-27T13:57:13.615201Z",
     "iopub.status.idle": "2021-12-27T13:57:13.629668Z",
     "shell.execute_reply": "2021-12-27T13:57:13.628918Z",
     "shell.execute_reply.started": "2021-12-27T13:57:13.615629Z"
    }
   },
   "outputs": [],
   "source": [
    "df.head()"
   ]
  },
  {
   "cell_type": "code",
   "execution_count": 118,
   "metadata": {
    "execution": {
     "iopub.execute_input": "2021-12-27T13:57:13.631301Z",
     "iopub.status.busy": "2021-12-27T13:57:13.630897Z",
     "iopub.status.idle": "2021-12-27T13:57:13.649880Z",
     "shell.execute_reply": "2021-12-27T13:57:13.649262Z",
     "shell.execute_reply.started": "2021-12-27T13:57:13.631267Z"
    }
   },
   "outputs": [],
   "source": [
    "##extracting number of rooms and \n",
    "df4=df3.copy()\n",
    "def extract_num(x):\n",
    "    tokens=x.split(' ')\n",
    "    if len(tokens) == 2: \n",
    "        return(float(tokens[0]))\n",
    "    try:\n",
    "        return float(x)\n",
    "    except:\n",
    "        #return x--> we will use this for future conversion of sqmt and yard and acres\n",
    "        return None\n",
    "    \n",
    "df4.size=df4['size'].apply(extract_num)"
   ]
  },
  {
   "cell_type": "markdown",
   "metadata": {},
   "source": [
    "### Outlier detection "
   ]
  },
  {
   "cell_type": "code",
   "execution_count": 119,
   "metadata": {
    "execution": {
     "iopub.execute_input": "2021-12-27T13:57:13.651611Z",
     "iopub.status.busy": "2021-12-27T13:57:13.651153Z",
     "iopub.status.idle": "2021-12-27T13:57:13.656742Z",
     "shell.execute_reply": "2021-12-27T13:57:13.656117Z",
     "shell.execute_reply.started": "2021-12-27T13:57:13.651579Z"
    }
   },
   "outputs": [],
   "source": [
    "df3.shape"
   ]
  },
  {
   "cell_type": "code",
   "execution_count": 120,
   "metadata": {
    "execution": {
     "iopub.execute_input": "2021-12-27T13:57:13.658883Z",
     "iopub.status.busy": "2021-12-27T13:57:13.657952Z",
     "iopub.status.idle": "2021-12-27T13:57:13.682401Z",
     "shell.execute_reply": "2021-12-27T13:57:13.681795Z",
     "shell.execute_reply.started": "2021-12-27T13:57:13.658764Z"
    }
   },
   "outputs": [],
   "source": [
    "#getting the area per room\n",
    "df4['area_per_room']=df4['total_sqft']/df4['size']\n",
    "df4.head()"
   ]
  },
  {
   "cell_type": "markdown",
   "metadata": {},
   "source": []
  },
  {
   "cell_type": "markdown",
   "metadata": {},
   "source": [
    "#### outlier removal process 1:\n",
    "##### remove records having area per room less than 300"
   ]
  },
  {
   "cell_type": "code",
   "execution_count": 121,
   "metadata": {
    "execution": {
     "iopub.execute_input": "2021-12-27T13:57:13.684013Z",
     "iopub.status.busy": "2021-12-27T13:57:13.683496Z",
     "iopub.status.idle": "2021-12-27T13:57:13.692133Z",
     "shell.execute_reply": "2021-12-27T13:57:13.691300Z",
     "shell.execute_reply.started": "2021-12-27T13:57:13.683982Z"
    }
   },
   "outputs": [],
   "source": [
    "\n",
    "df5=df4[~(df4.area_per_room<300)]\n",
    "df5.shape"
   ]
  },
  {
   "cell_type": "markdown",
   "metadata": {},
   "source": [
    "#### outlier removal process 2:\n",
    "##### we need to check and remove all the data pointers which are beyond 1st standerd deviation for all the location\n",
    "##### which means we need to find describe based on location"
   ]
  },
  {
   "cell_type": "code",
   "execution_count": 122,
   "metadata": {
    "execution": {
     "iopub.execute_input": "2021-12-27T13:57:13.696731Z",
     "iopub.status.busy": "2021-12-27T13:57:13.696023Z",
     "iopub.status.idle": "2021-12-27T13:57:13.708194Z",
     "shell.execute_reply": "2021-12-27T13:57:13.707284Z",
     "shell.execute_reply.started": "2021-12-27T13:57:13.696684Z"
    }
   },
   "outputs": [],
   "source": [
    "df5.ppsqft.describe()#we can see there are extrems end in the data."
   ]
  },
  {
   "cell_type": "code",
   "execution_count": 123,
   "metadata": {
    "execution": {
     "iopub.execute_input": "2021-12-27T13:57:13.710044Z",
     "iopub.status.busy": "2021-12-27T13:57:13.709446Z",
     "iopub.status.idle": "2021-12-27T13:57:14.216849Z",
     "shell.execute_reply": "2021-12-27T13:57:14.215942Z",
     "shell.execute_reply.started": "2021-12-27T13:57:13.710002Z"
    }
   },
   "outputs": [],
   "source": [
    "#removes the records which are beyond 1 std  from the mean based on the location\n",
    "def remove_pps_outliers(df):\n",
    "    df_out=pd.DataFrame()\n",
    "    for key,subdf in df.groupby('location'):\n",
    "        m=np.mean(subdf.ppsqft)\n",
    "        std=np.std(subdf.ppsqft)\n",
    "        reduced_df=subdf[(subdf.ppsqft>=(m-std)) & (subdf.ppsqft<=(m+std))]\n",
    "        df_out=pd.concat([df_out,reduced_df],ignore_index=True)\n",
    "    return  df_out\n",
    "df6=remove_pps_outliers(df5)\n",
    "df6.shape"
   ]
  },
  {
   "cell_type": "code",
   "execution_count": 124,
   "metadata": {
    "execution": {
     "iopub.execute_input": "2021-12-27T13:57:14.218459Z",
     "iopub.status.busy": "2021-12-27T13:57:14.218111Z",
     "iopub.status.idle": "2021-12-27T13:57:14.238804Z",
     "shell.execute_reply": "2021-12-27T13:57:14.238040Z",
     "shell.execute_reply.started": "2021-12-27T13:57:14.218427Z"
    }
   },
   "outputs": [],
   "source": [
    "df5.head()"
   ]
  },
  {
   "cell_type": "code",
   "execution_count": 125,
   "metadata": {
    "execution": {
     "iopub.execute_input": "2021-12-27T13:57:14.240437Z",
     "iopub.status.busy": "2021-12-27T13:57:14.240034Z",
     "iopub.status.idle": "2021-12-27T13:57:14.247317Z",
     "shell.execute_reply": "2021-12-27T13:57:14.246658Z",
     "shell.execute_reply.started": "2021-12-27T13:57:14.240390Z"
    }
   },
   "outputs": [],
   "source": [
    "df5.total_sqft"
   ]
  },
  {
   "cell_type": "code",
   "execution_count": 126,
   "metadata": {
    "execution": {
     "iopub.execute_input": "2021-12-27T13:57:14.250829Z",
     "iopub.status.busy": "2021-12-27T13:57:14.250591Z",
     "iopub.status.idle": "2021-12-27T13:57:14.288617Z",
     "shell.execute_reply": "2021-12-27T13:57:14.287626Z",
     "shell.execute_reply.started": "2021-12-27T13:57:14.250792Z"
    }
   },
   "outputs": [],
   "source": [
    "df5.describe()"
   ]
  },
  {
   "cell_type": "markdown",
   "metadata": {},
   "source": [
    "#### outlier removal 3:\n",
    "\n",
    "##### If the location and sqft is same  then the price of  2BHK should not be more than 3 BHK"
   ]
  },
  {
   "cell_type": "code",
   "execution_count": 127,
   "metadata": {
    "execution": {
     "iopub.execute_input": "2021-12-27T13:57:14.290846Z",
     "iopub.status.busy": "2021-12-27T13:57:14.289966Z",
     "iopub.status.idle": "2021-12-27T13:57:14.543009Z",
     "shell.execute_reply": "2021-12-27T13:57:14.542240Z",
     "shell.execute_reply.started": "2021-12-27T13:57:14.290810Z"
    }
   },
   "outputs": [],
   "source": [
    "# visualizing the condition 1st:\n",
    "\n",
    "def viz_bhk(df,location):\n",
    "    \n",
    "    plt.figure(figsize=(10,5))\n",
    "    #fig, ax = plt.subplots()\n",
    "    #matplotlib.rcParams['figure.figsize']=(20,10)\n",
    "    bhk2=df[(df['location']==location) &( df['size']==2)]\n",
    "    bhk3=df[(df['location']==location) &( df['size']==3)]\n",
    "    plt.scatter(bhk2.total_sqft,bhk2.price,color='blue',label='2 bhk',s=50)\n",
    "    plt.scatter(bhk3.total_sqft,bhk3.price,color='green',label='3 bhk',marker=\"+\",s=50)\n",
    "    #plt.xticks(np.arange(min(bhk3.total_sqft), max(bhk3.total_sqft)+1, 1.0))\n",
    "    plt.xlabel(\"toata sqft area\")\n",
    "    plt.ylabel(\"price per square feet\")\n",
    "    plt.title(location)\n",
    "    plt.legend()\n",
    "   \n",
    "    \n",
    "viz_bhk(df5,\"Rajaji Nagar\")"
   ]
  },
  {
   "cell_type": "code",
   "execution_count": 128,
   "metadata": {
    "execution": {
     "iopub.execute_input": "2021-12-27T13:57:14.544784Z",
     "iopub.status.busy": "2021-12-27T13:57:14.544288Z",
     "iopub.status.idle": "2021-12-27T13:57:14.549242Z",
     "shell.execute_reply": "2021-12-27T13:57:14.547993Z",
     "shell.execute_reply.started": "2021-12-27T13:57:14.544738Z"
    }
   },
   "outputs": [],
   "source": [
    "# removing the data points where price of 2 bhk is more than 3 BHK in the same area"
   ]
  },
  {
   "cell_type": "code",
   "execution_count": 129,
   "metadata": {
    "execution": {
     "iopub.execute_input": "2021-12-27T13:57:14.551287Z",
     "iopub.status.busy": "2021-12-27T13:57:14.550557Z",
     "iopub.status.idle": "2021-12-27T13:57:15.165984Z",
     "shell.execute_reply": "2021-12-27T13:57:15.165129Z",
     "shell.execute_reply.started": "2021-12-27T13:57:14.551253Z"
    }
   },
   "outputs": [],
   "source": [
    "def remove_bhk_outliers(df):\n",
    "    exclude_indices = np.array([])\n",
    "    for location, location_df in df.groupby('location'):\n",
    "        bhk_stats = {}\n",
    "        for size, bhk_df in location_df.groupby('size'):\n",
    "            bhk_stats[size] = {\n",
    "                'mean': np.mean(bhk_df.ppsqft),\n",
    "                'std': np.std(bhk_df.ppsqft),\n",
    "                'count': bhk_df.shape[0]\n",
    "            }\n",
    "        for size, bhk_df in location_df.groupby('size'):\n",
    "            stats = bhk_stats.get(size-1)# gets the information for size-1 from above disctionary\n",
    "            if stats and stats['count']>5:#only where the count of the size per location is grtr than 5\n",
    "                exclude_indices = np.append(exclude_indices, bhk_df[bhk_df.ppsqft<(stats['mean'])].index.values)\n",
    "    return df.drop(exclude_indices,axis='index')\n",
    "df7 = remove_bhk_outliers(df6)\n",
    "df7.shape"
   ]
  },
  {
   "cell_type": "code",
   "execution_count": 130,
   "metadata": {
    "execution": {
     "iopub.execute_input": "2021-12-27T13:57:15.167408Z",
     "iopub.status.busy": "2021-12-27T13:57:15.167000Z",
     "iopub.status.idle": "2021-12-27T13:57:15.447812Z",
     "shell.execute_reply": "2021-12-27T13:57:15.446967Z",
     "shell.execute_reply.started": "2021-12-27T13:57:15.167374Z"
    }
   },
   "outputs": [],
   "source": [
    "viz_bhk(df7,\"Rajaji Nagar\")"
   ]
  },
  {
   "cell_type": "markdown",
   "metadata": {},
   "source": [
    "#### Outlier removal process 4: \n",
    "\n",
    "will check the number of bathrooms"
   ]
  },
  {
   "cell_type": "code",
   "execution_count": 131,
   "metadata": {
    "execution": {
     "iopub.execute_input": "2021-12-27T13:57:15.449038Z",
     "iopub.status.busy": "2021-12-27T13:57:15.448834Z",
     "iopub.status.idle": "2021-12-27T13:57:15.454792Z",
     "shell.execute_reply": "2021-12-27T13:57:15.454273Z",
     "shell.execute_reply.started": "2021-12-27T13:57:15.449011Z"
    }
   },
   "outputs": [],
   "source": [
    "df7.shape"
   ]
  },
  {
   "cell_type": "code",
   "execution_count": 132,
   "metadata": {
    "execution": {
     "iopub.execute_input": "2021-12-27T13:57:15.456255Z",
     "iopub.status.busy": "2021-12-27T13:57:15.455735Z",
     "iopub.status.idle": "2021-12-27T13:57:15.467935Z",
     "shell.execute_reply": "2021-12-27T13:57:15.467302Z",
     "shell.execute_reply.started": "2021-12-27T13:57:15.456225Z"
    }
   },
   "outputs": [],
   "source": [
    "df8=df7[~(df7['bath']>df7['size']+2)]"
   ]
  },
  {
   "cell_type": "code",
   "execution_count": 133,
   "metadata": {
    "execution": {
     "iopub.execute_input": "2021-12-27T13:57:15.469398Z",
     "iopub.status.busy": "2021-12-27T13:57:15.468898Z",
     "iopub.status.idle": "2021-12-27T13:57:15.482955Z",
     "shell.execute_reply": "2021-12-27T13:57:15.481975Z",
     "shell.execute_reply.started": "2021-12-27T13:57:15.469353Z"
    }
   },
   "outputs": [],
   "source": [
    "df8.shape"
   ]
  },
  {
   "cell_type": "markdown",
   "metadata": {},
   "source": [
    "### Understanding the data:\n",
    "\n",
    "##### checking the distribution"
   ]
  },
  {
   "cell_type": "code",
   "execution_count": 134,
   "metadata": {
    "execution": {
     "iopub.execute_input": "2021-12-27T13:57:15.485167Z",
     "iopub.status.busy": "2021-12-27T13:57:15.484275Z",
     "iopub.status.idle": "2021-12-27T13:57:15.718356Z",
     "shell.execute_reply": "2021-12-27T13:57:15.717710Z",
     "shell.execute_reply.started": "2021-12-27T13:57:15.485130Z"
    }
   },
   "outputs": [],
   "source": [
    "#Checking the distribution of the price\n",
    "plt.figure(figsize=(10,5))\n",
    "ax=sns.histplot(df7.ppsqft,bins=8)\n",
    "#plt.hist(df7.ppsqft,rwidth=.8)\n",
    "ax.set(xlabel=\"PPsqft\", ylabel = \"count\")"
   ]
  },
  {
   "cell_type": "code",
   "execution_count": 135,
   "metadata": {
    "execution": {
     "iopub.execute_input": "2021-12-27T13:57:15.720205Z",
     "iopub.status.busy": "2021-12-27T13:57:15.719607Z",
     "iopub.status.idle": "2021-12-27T13:57:16.011477Z",
     "shell.execute_reply": "2021-12-27T13:57:16.010619Z",
     "shell.execute_reply.started": "2021-12-27T13:57:15.720162Z"
    }
   },
   "outputs": [],
   "source": [
    "#distribution of size \n",
    "plt.figure(figsize=(10,5))\n",
    "sns.countplot(x=df7['size'].astype(str),order=df7['size'].astype(str).value_counts().index)"
   ]
  },
  {
   "cell_type": "code",
   "execution_count": 136,
   "metadata": {
    "execution": {
     "iopub.execute_input": "2021-12-27T13:57:16.012926Z",
     "iopub.status.busy": "2021-12-27T13:57:16.012693Z",
     "iopub.status.idle": "2021-12-27T13:57:16.210190Z",
     "shell.execute_reply": "2021-12-27T13:57:16.209308Z",
     "shell.execute_reply.started": "2021-12-27T13:57:16.012896Z"
    }
   },
   "outputs": [],
   "source": [
    "plt.figure(figsize=(6,3))\n",
    "#sns.barplot(x=df.area_type,y=df.price)\n",
    "sns.countplot(x=df7['area_type'].astype(str),order=df7['area_type'].astype(str).value_counts().index)"
   ]
  },
  {
   "cell_type": "markdown",
   "metadata": {},
   "source": [
    "#### dropping unneccery columns:\n"
   ]
  },
  {
   "cell_type": "code",
   "execution_count": 137,
   "metadata": {
    "execution": {
     "iopub.execute_input": "2021-12-27T13:57:16.211785Z",
     "iopub.status.busy": "2021-12-27T13:57:16.211533Z",
     "iopub.status.idle": "2021-12-27T13:57:16.229474Z",
     "shell.execute_reply": "2021-12-27T13:57:16.228646Z",
     "shell.execute_reply.started": "2021-12-27T13:57:16.211756Z"
    }
   },
   "outputs": [],
   "source": [
    "df8.head()"
   ]
  },
  {
   "cell_type": "code",
   "execution_count": 138,
   "metadata": {
    "execution": {
     "iopub.execute_input": "2021-12-27T13:57:16.230880Z",
     "iopub.status.busy": "2021-12-27T13:57:16.230661Z",
     "iopub.status.idle": "2021-12-27T13:57:16.249781Z",
     "shell.execute_reply": "2021-12-27T13:57:16.248698Z",
     "shell.execute_reply.started": "2021-12-27T13:57:16.230852Z"
    }
   },
   "outputs": [],
   "source": [
    "df9=df8.join(pd.get_dummies(df8['location'], prefix='', prefix_sep=''))"
   ]
  },
  {
   "cell_type": "code",
   "execution_count": 139,
   "metadata": {
    "execution": {
     "iopub.execute_input": "2021-12-27T13:57:16.251182Z",
     "iopub.status.busy": "2021-12-27T13:57:16.250932Z",
     "iopub.status.idle": "2021-12-27T13:57:16.277693Z",
     "shell.execute_reply": "2021-12-27T13:57:16.276903Z",
     "shell.execute_reply.started": "2021-12-27T13:57:16.251151Z"
    }
   },
   "outputs": [],
   "source": [
    "df9.head()"
   ]
  },
  {
   "cell_type": "code",
   "execution_count": 140,
   "metadata": {
    "execution": {
     "iopub.execute_input": "2021-12-27T13:57:16.279407Z",
     "iopub.status.busy": "2021-12-27T13:57:16.279030Z",
     "iopub.status.idle": "2021-12-27T13:57:16.287798Z",
     "shell.execute_reply": "2021-12-27T13:57:16.286933Z",
     "shell.execute_reply.started": "2021-12-27T13:57:16.279363Z"
    }
   },
   "outputs": [],
   "source": [
    "df9.drop(columns=['balcony','ppsqft','area_per_room','other','area_type','location','availability'],inplace=True)"
   ]
  },
  {
   "cell_type": "code",
   "execution_count": 141,
   "metadata": {
    "execution": {
     "iopub.execute_input": "2021-12-27T13:57:16.289553Z",
     "iopub.status.busy": "2021-12-27T13:57:16.288943Z",
     "iopub.status.idle": "2021-12-27T13:57:16.317016Z",
     "shell.execute_reply": "2021-12-27T13:57:16.316200Z",
     "shell.execute_reply.started": "2021-12-27T13:57:16.289512Z"
    }
   },
   "outputs": [],
   "source": [
    "df9.head()"
   ]
  },
  {
   "cell_type": "markdown",
   "metadata": {},
   "source": [
    "### model building"
   ]
  },
  {
   "cell_type": "code",
   "execution_count": 142,
   "metadata": {
    "execution": {
     "iopub.execute_input": "2021-12-27T13:57:16.318555Z",
     "iopub.status.busy": "2021-12-27T13:57:16.318125Z",
     "iopub.status.idle": "2021-12-27T13:57:16.326448Z",
     "shell.execute_reply": "2021-12-27T13:57:16.325778Z",
     "shell.execute_reply.started": "2021-12-27T13:57:16.318514Z"
    }
   },
   "outputs": [],
   "source": [
    "#Split the datset in X and y\n",
    "x=df9.drop(columns=['price'],axis='columns')\n",
    "y=(df9.price)\n"
   ]
  },
  {
   "cell_type": "code",
   "execution_count": 143,
   "metadata": {
    "execution": {
     "iopub.execute_input": "2021-12-27T13:57:16.327999Z",
     "iopub.status.busy": "2021-12-27T13:57:16.327396Z",
     "iopub.status.idle": "2021-12-27T13:57:16.342145Z",
     "shell.execute_reply": "2021-12-27T13:57:16.341358Z",
     "shell.execute_reply.started": "2021-12-27T13:57:16.327970Z"
    }
   },
   "outputs": [],
   "source": [
    "from sklearn.model_selection import train_test_split\n",
    "x_train,x_test,y_train,y_test=train_test_split(x,y)"
   ]
  },
  {
   "cell_type": "code",
   "execution_count": 144,
   "metadata": {
    "execution": {
     "iopub.execute_input": "2021-12-27T13:57:16.344649Z",
     "iopub.status.busy": "2021-12-27T13:57:16.343685Z",
     "iopub.status.idle": "2021-12-27T13:57:16.368713Z",
     "shell.execute_reply": "2021-12-27T13:57:16.368148Z",
     "shell.execute_reply.started": "2021-12-27T13:57:16.344602Z"
    }
   },
   "outputs": [],
   "source": [
    "x.head()"
   ]
  },
  {
   "cell_type": "code",
   "execution_count": 145,
   "metadata": {
    "execution": {
     "iopub.execute_input": "2021-12-27T13:57:16.370392Z",
     "iopub.status.busy": "2021-12-27T13:57:16.369798Z",
     "iopub.status.idle": "2021-12-27T13:57:16.490126Z",
     "shell.execute_reply": "2021-12-27T13:57:16.489174Z",
     "shell.execute_reply.started": "2021-12-27T13:57:16.370355Z"
    }
   },
   "outputs": [],
   "source": [
    "from sklearn.linear_model import LinearRegression\n",
    "model1=LinearRegression(n_jobs=1000)\n",
    "model1.fit(x_train,y_train)\n",
    "print('LR train model:' + str( model1.score(x_train,y_train)))\n",
    "print('LR test model:' + str(model1.score(x_test,y_test)))"
   ]
  },
  {
   "cell_type": "code",
   "execution_count": 146,
   "metadata": {
    "execution": {
     "iopub.execute_input": "2021-12-27T13:57:16.492388Z",
     "iopub.status.busy": "2021-12-27T13:57:16.491845Z",
     "iopub.status.idle": "2021-12-27T13:57:17.067097Z",
     "shell.execute_reply": "2021-12-27T13:57:17.066246Z",
     "shell.execute_reply.started": "2021-12-27T13:57:16.492337Z"
    }
   },
   "outputs": [],
   "source": [
    "#K-fold\n",
    "\n",
    "from sklearn.model_selection import ShuffleSplit\n",
    "from sklearn.model_selection import cross_val_score\n",
    "\n",
    "cv=ShuffleSplit(n_splits=5,test_size=.25,random_state=0)\n",
    "\n",
    "cross_val_score(LinearRegression(),x,y,cv=cv)"
   ]
  },
  {
   "cell_type": "code",
   "execution_count": 147,
   "metadata": {
    "execution": {
     "iopub.execute_input": "2021-12-27T13:57:17.069794Z",
     "iopub.status.busy": "2021-12-27T13:57:17.068797Z",
     "iopub.status.idle": "2021-12-27T13:57:31.327998Z",
     "shell.execute_reply": "2021-12-27T13:57:31.327313Z",
     "shell.execute_reply.started": "2021-12-27T13:57:17.069742Z"
    }
   },
   "outputs": [],
   "source": [
    "#Trying diffrent algorithm:Hyperparameters-gridsearchmethod\n",
    "from sklearn.model_selection import GridSearchCV\n",
    "\n",
    "from sklearn.linear_model import Lasso\n",
    "from sklearn.tree import DecisionTreeRegressor\n",
    "from sklearn.linear_model import ElasticNet\n",
    "from sklearn.linear_model import Ridge\n",
    "\n",
    "\n",
    "def find_best_model(x,y):\n",
    "    algos={\n",
    "        \n",
    "        'linear_regression' :{\n",
    "        \n",
    "        'model':LinearRegression(),\n",
    "        'params':{\n",
    "            'normalize':[True,False]\n",
    "            \n",
    "        }\n",
    "    },\n",
    "\n",
    "          'lasso' :{\n",
    "        \n",
    "        'model':Lasso(),\n",
    "        'params':{\n",
    "            'selection':['random','cyclic'],\n",
    "            'alpha' :[1,2,.1,.001]            \n",
    "        }\n",
    "    },\n",
    "\n",
    "          'Elastic' :{\n",
    "        \n",
    "        'model':ElasticNet(),\n",
    "        'params':{\n",
    "            #'selection':['random','cyclic'],\n",
    "            'l1_ratio':[1,.001],\n",
    "            'alpha' : [.1,.001,1,.01]       \n",
    "        }\n",
    "    },\n",
    "     \n",
    "          'deciscion_tree' :{\n",
    "        \n",
    "        'model':DecisionTreeRegressor(),\n",
    "        'params':{\n",
    "            'criterion':['mse','friedman_mse'],\n",
    "            'splitter':['best','random']\n",
    "            \n",
    "        }\n",
    "    }\n",
    "          \n",
    "    }\n",
    "    \n",
    "    scores=[]\n",
    "    cv=ShuffleSplit(n_splits=5,test_size=.25,random_state=0)\n",
    "    for algo_name, config in algos.items():\n",
    "        gs =  GridSearchCV(config['model'], config['params'], cv=cv, return_train_score=False)\n",
    "        gs.fit(x,y)\n",
    "        scores.append({\n",
    "            'model': algo_name,\n",
    "            'best_score': gs.best_score_,\n",
    "            'best_params': gs.best_params_\n",
    "        })\n",
    "\n",
    "    return pd.DataFrame(scores,columns=['model','best_score','best_params'])\n",
    "\n",
    "find_best_model(x,y)"
   ]
  },
  {
   "cell_type": "code",
   "execution_count": 148,
   "metadata": {
    "execution": {
     "iopub.execute_input": "2021-12-27T13:57:31.329970Z",
     "iopub.status.busy": "2021-12-27T13:57:31.329268Z",
     "iopub.status.idle": "2021-12-27T13:57:31.334047Z",
     "shell.execute_reply": "2021-12-27T13:57:31.332988Z",
     "shell.execute_reply.started": "2021-12-27T13:57:31.329929Z"
    }
   },
   "outputs": [],
   "source": [
    "#np.where(x.columns=='1st Block Jayanagar')[0][0]"
   ]
  },
  {
   "cell_type": "code",
   "execution_count": 149,
   "metadata": {
    "execution": {
     "iopub.execute_input": "2021-12-27T13:57:31.335516Z",
     "iopub.status.busy": "2021-12-27T13:57:31.335291Z",
     "iopub.status.idle": "2021-12-27T13:57:31.366318Z",
     "shell.execute_reply": "2021-12-27T13:57:31.365688Z",
     "shell.execute_reply.started": "2021-12-27T13:57:31.335488Z"
    }
   },
   "outputs": [],
   "source": [
    "df9.head()"
   ]
  },
  {
   "cell_type": "code",
   "execution_count": 150,
   "metadata": {
    "execution": {
     "iopub.execute_input": "2021-12-27T13:57:31.367761Z",
     "iopub.status.busy": "2021-12-27T13:57:31.367303Z",
     "iopub.status.idle": "2021-12-27T13:57:31.373437Z",
     "shell.execute_reply": "2021-12-27T13:57:31.372521Z",
     "shell.execute_reply.started": "2021-12-27T13:57:31.367719Z"
    }
   },
   "outputs": [],
   "source": [
    "x.shape"
   ]
  },
  {
   "cell_type": "code",
   "execution_count": 151,
   "metadata": {
    "execution": {
     "iopub.execute_input": "2021-12-27T13:57:31.375608Z",
     "iopub.status.busy": "2021-12-27T13:57:31.374921Z",
     "iopub.status.idle": "2021-12-27T13:57:31.404087Z",
     "shell.execute_reply": "2021-12-27T13:57:31.402896Z",
     "shell.execute_reply.started": "2021-12-27T13:57:31.375563Z"
    }
   },
   "outputs": [],
   "source": [
    "x_train.head()"
   ]
  },
  {
   "cell_type": "code",
   "execution_count": 152,
   "metadata": {
    "execution": {
     "iopub.execute_input": "2021-12-27T13:57:31.406125Z",
     "iopub.status.busy": "2021-12-27T13:57:31.405653Z",
     "iopub.status.idle": "2021-12-27T13:57:31.413462Z",
     "shell.execute_reply": "2021-12-27T13:57:31.412688Z",
     "shell.execute_reply.started": "2021-12-27T13:57:31.406081Z"
    }
   },
   "outputs": [],
   "source": [
    "def predict_price(size,total_sqft,bath,location):    \n",
    "    loc_index = np.where(x.columns==location)[0][0]\n",
    "\n",
    "    a = np.zeros(len(x.columns))\n",
    "    a[0] = size\n",
    "    a[1] = total_sqft\n",
    "    a[2] = bath\n",
    "    if loc_index >= 0:\n",
    "        a[loc_index] = 1\n",
    "\n",
    "    return model1.predict([a])[0]"
   ]
  },
  {
   "cell_type": "code",
   "execution_count": 153,
   "metadata": {
    "execution": {
     "iopub.execute_input": "2021-12-27T13:57:31.414741Z",
     "iopub.status.busy": "2021-12-27T13:57:31.414522Z",
     "iopub.status.idle": "2021-12-27T13:57:31.425994Z",
     "shell.execute_reply": "2021-12-27T13:57:31.425336Z",
     "shell.execute_reply.started": "2021-12-27T13:57:31.414711Z"
    }
   },
   "outputs": [],
   "source": [
    "#np.where(x.columns=='1st Phase JP Nagar')[0][0]"
   ]
  },
  {
   "cell_type": "code",
   "execution_count": 154,
   "metadata": {
    "execution": {
     "iopub.execute_input": "2021-12-27T13:57:31.427734Z",
     "iopub.status.busy": "2021-12-27T13:57:31.427259Z",
     "iopub.status.idle": "2021-12-27T13:57:31.444790Z",
     "shell.execute_reply": "2021-12-27T13:57:31.444017Z",
     "shell.execute_reply.started": "2021-12-27T13:57:31.427688Z"
    }
   },
   "outputs": [],
   "source": [
    "predict_price(2, 1000, 2,'1st Phase JP Nagar')"
   ]
  },
  {
   "cell_type": "markdown",
   "metadata": {},
   "source": [
    "#### Export the tested model to a pickle file"
   ]
  },
  {
   "cell_type": "code",
   "execution_count": 156,
   "metadata": {
    "execution": {
     "iopub.execute_input": "2021-12-27T13:57:48.286401Z",
     "iopub.status.busy": "2021-12-27T13:57:48.286105Z",
     "iopub.status.idle": "2021-12-27T13:57:48.290952Z",
     "shell.execute_reply": "2021-12-27T13:57:48.290158Z",
     "shell.execute_reply.started": "2021-12-27T13:57:48.286370Z"
    }
   },
   "outputs": [],
   "source": [
    "import pickle\n",
    "with open('banglore_home_prices_model.pickle','wb') as f:\n",
    "    pickle.dump(model1,f)"
   ]
  },
  {
   "cell_type": "markdown",
   "metadata": {},
   "source": [
    "#### Export location and column information to a file that will be useful later on in our prediction application"
   ]
  },
  {
   "cell_type": "code",
   "execution_count": 157,
   "metadata": {
    "execution": {
     "iopub.execute_input": "2021-12-27T13:57:55.819331Z",
     "iopub.status.busy": "2021-12-27T13:57:55.818777Z",
     "iopub.status.idle": "2021-12-27T13:57:55.824487Z",
     "shell.execute_reply": "2021-12-27T13:57:55.823608Z",
     "shell.execute_reply.started": "2021-12-27T13:57:55.819294Z"
    }
   },
   "outputs": [],
   "source": [
    "import json\n",
    "columns = {\n",
    "    'data_columns' : [col.lower() for col in x.columns]\n",
    "}\n",
    "with open(\"columns.json\",\"w\") as f: \n",
    "    f.write(json.dumps(columns))"
   ]
  }
 ],
 "metadata": {
  "kernelspec": {
   "display_name": "Python 3",
   "language": "python",
   "name": "python3"
  },
  "language_info": {
   "codemirror_mode": {
    "name": "ipython",
    "version": 3
   },
   "file_extension": ".py",
   "mimetype": "text/x-python",
   "name": "python",
   "nbconvert_exporter": "python",
   "pygments_lexer": "ipython3",
   "version": "3.7.6"
  }
 },
 "nbformat": 4,
 "nbformat_minor": 4
}
