{
 "cells": [
  {
   "cell_type": "code",
   "execution_count": 1,
   "id": "expired-corrections",
   "metadata": {
    "execution": {
     "iopub.execute_input": "2021-05-16T22:53:32.141787Z",
     "iopub.status.busy": "2021-05-16T22:53:32.141036Z",
     "iopub.status.idle": "2021-05-16T22:53:32.852604Z",
     "shell.execute_reply": "2021-05-16T22:53:32.853151Z"
    },
    "papermill": {
     "duration": 0.751889,
     "end_time": "2021-05-16T22:53:32.853471",
     "exception": false,
     "start_time": "2021-05-16T22:53:32.101582",
     "status": "completed"
    },
    "tags": []
   },
   "outputs": [],
   "source": [
    "import pandas as pd\n",
    "df=pd.read_csv(\"/kaggle/input/costa-rican-household-poverty-prediction/train.csv\")\n",
    "df_test=pd.read_csv(\"/kaggle/input/costa-rican-household-poverty-prediction/test.csv\")\n"
   ]
  },
  {
   "cell_type": "markdown",
   "id": "understanding-geneva",
   "metadata": {
    "papermill": {
     "duration": 0.026884,
     "end_time": "2021-05-16T22:53:32.908080",
     "exception": false,
     "start_time": "2021-05-16T22:53:32.881196",
     "status": "completed"
    },
    "tags": []
   },
   "source": [
    "### Data Prepration"
   ]
  },
  {
   "cell_type": "code",
   "execution_count": 2,
   "id": "divine-donna",
   "metadata": {
    "execution": {
     "iopub.execute_input": "2021-05-16T22:53:32.980267Z",
     "iopub.status.busy": "2021-05-16T22:53:32.979588Z",
     "iopub.status.idle": "2021-05-16T22:53:33.008863Z",
     "shell.execute_reply": "2021-05-16T22:53:33.009365Z"
    },
    "papermill": {
     "duration": 0.074313,
     "end_time": "2021-05-16T22:53:33.009543",
     "exception": false,
     "start_time": "2021-05-16T22:53:32.935230",
     "status": "completed"
    },
    "tags": []
   },
   "outputs": [
    {
     "data": {
      "text/html": [
       "<div>\n",
       "<style scoped>\n",
       "    .dataframe tbody tr th:only-of-type {\n",
       "        vertical-align: middle;\n",
       "    }\n",
       "\n",
       "    .dataframe tbody tr th {\n",
       "        vertical-align: top;\n",
       "    }\n",
       "\n",
       "    .dataframe thead th {\n",
       "        text-align: right;\n",
       "    }\n",
       "</style>\n",
       "<table border=\"1\" class=\"dataframe\">\n",
       "  <thead>\n",
       "    <tr style=\"text-align: right;\">\n",
       "      <th></th>\n",
       "      <th>Id</th>\n",
       "      <th>v2a1</th>\n",
       "      <th>hacdor</th>\n",
       "      <th>rooms</th>\n",
       "      <th>hacapo</th>\n",
       "      <th>v14a</th>\n",
       "      <th>refrig</th>\n",
       "      <th>v18q</th>\n",
       "      <th>v18q1</th>\n",
       "      <th>r4h1</th>\n",
       "      <th>...</th>\n",
       "      <th>SQBescolari</th>\n",
       "      <th>SQBage</th>\n",
       "      <th>SQBhogar_total</th>\n",
       "      <th>SQBedjefe</th>\n",
       "      <th>SQBhogar_nin</th>\n",
       "      <th>SQBovercrowding</th>\n",
       "      <th>SQBdependency</th>\n",
       "      <th>SQBmeaned</th>\n",
       "      <th>agesq</th>\n",
       "      <th>Target</th>\n",
       "    </tr>\n",
       "  </thead>\n",
       "  <tbody>\n",
       "    <tr>\n",
       "      <th>0</th>\n",
       "      <td>ID_279628684</td>\n",
       "      <td>190000.0</td>\n",
       "      <td>0</td>\n",
       "      <td>3</td>\n",
       "      <td>0</td>\n",
       "      <td>1</td>\n",
       "      <td>1</td>\n",
       "      <td>0</td>\n",
       "      <td>NaN</td>\n",
       "      <td>0</td>\n",
       "      <td>...</td>\n",
       "      <td>100</td>\n",
       "      <td>1849</td>\n",
       "      <td>1</td>\n",
       "      <td>100</td>\n",
       "      <td>0</td>\n",
       "      <td>1.000000</td>\n",
       "      <td>0.0</td>\n",
       "      <td>100.0</td>\n",
       "      <td>1849</td>\n",
       "      <td>4</td>\n",
       "    </tr>\n",
       "    <tr>\n",
       "      <th>1</th>\n",
       "      <td>ID_f29eb3ddd</td>\n",
       "      <td>135000.0</td>\n",
       "      <td>0</td>\n",
       "      <td>4</td>\n",
       "      <td>0</td>\n",
       "      <td>1</td>\n",
       "      <td>1</td>\n",
       "      <td>1</td>\n",
       "      <td>1.0</td>\n",
       "      <td>0</td>\n",
       "      <td>...</td>\n",
       "      <td>144</td>\n",
       "      <td>4489</td>\n",
       "      <td>1</td>\n",
       "      <td>144</td>\n",
       "      <td>0</td>\n",
       "      <td>1.000000</td>\n",
       "      <td>64.0</td>\n",
       "      <td>144.0</td>\n",
       "      <td>4489</td>\n",
       "      <td>4</td>\n",
       "    </tr>\n",
       "    <tr>\n",
       "      <th>2</th>\n",
       "      <td>ID_68de51c94</td>\n",
       "      <td>NaN</td>\n",
       "      <td>0</td>\n",
       "      <td>8</td>\n",
       "      <td>0</td>\n",
       "      <td>1</td>\n",
       "      <td>1</td>\n",
       "      <td>0</td>\n",
       "      <td>NaN</td>\n",
       "      <td>0</td>\n",
       "      <td>...</td>\n",
       "      <td>121</td>\n",
       "      <td>8464</td>\n",
       "      <td>1</td>\n",
       "      <td>0</td>\n",
       "      <td>0</td>\n",
       "      <td>0.250000</td>\n",
       "      <td>64.0</td>\n",
       "      <td>121.0</td>\n",
       "      <td>8464</td>\n",
       "      <td>4</td>\n",
       "    </tr>\n",
       "    <tr>\n",
       "      <th>3</th>\n",
       "      <td>ID_d671db89c</td>\n",
       "      <td>180000.0</td>\n",
       "      <td>0</td>\n",
       "      <td>5</td>\n",
       "      <td>0</td>\n",
       "      <td>1</td>\n",
       "      <td>1</td>\n",
       "      <td>1</td>\n",
       "      <td>1.0</td>\n",
       "      <td>0</td>\n",
       "      <td>...</td>\n",
       "      <td>81</td>\n",
       "      <td>289</td>\n",
       "      <td>16</td>\n",
       "      <td>121</td>\n",
       "      <td>4</td>\n",
       "      <td>1.777778</td>\n",
       "      <td>1.0</td>\n",
       "      <td>121.0</td>\n",
       "      <td>289</td>\n",
       "      <td>4</td>\n",
       "    </tr>\n",
       "    <tr>\n",
       "      <th>4</th>\n",
       "      <td>ID_d56d6f5f5</td>\n",
       "      <td>180000.0</td>\n",
       "      <td>0</td>\n",
       "      <td>5</td>\n",
       "      <td>0</td>\n",
       "      <td>1</td>\n",
       "      <td>1</td>\n",
       "      <td>1</td>\n",
       "      <td>1.0</td>\n",
       "      <td>0</td>\n",
       "      <td>...</td>\n",
       "      <td>121</td>\n",
       "      <td>1369</td>\n",
       "      <td>16</td>\n",
       "      <td>121</td>\n",
       "      <td>4</td>\n",
       "      <td>1.777778</td>\n",
       "      <td>1.0</td>\n",
       "      <td>121.0</td>\n",
       "      <td>1369</td>\n",
       "      <td>4</td>\n",
       "    </tr>\n",
       "  </tbody>\n",
       "</table>\n",
       "<p>5 rows × 143 columns</p>\n",
       "</div>"
      ],
      "text/plain": [
       "             Id      v2a1  hacdor  rooms  hacapo  v14a  refrig  v18q  v18q1  \\\n",
       "0  ID_279628684  190000.0       0      3       0     1       1     0    NaN   \n",
       "1  ID_f29eb3ddd  135000.0       0      4       0     1       1     1    1.0   \n",
       "2  ID_68de51c94       NaN       0      8       0     1       1     0    NaN   \n",
       "3  ID_d671db89c  180000.0       0      5       0     1       1     1    1.0   \n",
       "4  ID_d56d6f5f5  180000.0       0      5       0     1       1     1    1.0   \n",
       "\n",
       "   r4h1  ...  SQBescolari  SQBage  SQBhogar_total  SQBedjefe  SQBhogar_nin  \\\n",
       "0     0  ...          100    1849               1        100             0   \n",
       "1     0  ...          144    4489               1        144             0   \n",
       "2     0  ...          121    8464               1          0             0   \n",
       "3     0  ...           81     289              16        121             4   \n",
       "4     0  ...          121    1369              16        121             4   \n",
       "\n",
       "   SQBovercrowding  SQBdependency  SQBmeaned  agesq  Target  \n",
       "0         1.000000            0.0      100.0   1849       4  \n",
       "1         1.000000           64.0      144.0   4489       4  \n",
       "2         0.250000           64.0      121.0   8464       4  \n",
       "3         1.777778            1.0      121.0    289       4  \n",
       "4         1.777778            1.0      121.0   1369       4  \n",
       "\n",
       "[5 rows x 143 columns]"
      ]
     },
     "execution_count": 2,
     "metadata": {},
     "output_type": "execute_result"
    }
   ],
   "source": [
    "df.head()"
   ]
  },
  {
   "cell_type": "markdown",
   "id": "acquired-dryer",
   "metadata": {
    "papermill": {
     "duration": 0.027918,
     "end_time": "2021-05-16T22:53:33.065883",
     "exception": false,
     "start_time": "2021-05-16T22:53:33.037965",
     "status": "completed"
    },
    "tags": []
   },
   "source": [
    "## Identify the output variable."
   ]
  },
  {
   "cell_type": "code",
   "execution_count": 3,
   "id": "juvenile-shareware",
   "metadata": {
    "execution": {
     "iopub.execute_input": "2021-05-16T22:53:33.127982Z",
     "iopub.status.busy": "2021-05-16T22:53:33.126854Z",
     "iopub.status.idle": "2021-05-16T22:53:33.132111Z",
     "shell.execute_reply": "2021-05-16T22:53:33.132603Z"
    },
    "papermill": {
     "duration": 0.03835,
     "end_time": "2021-05-16T22:53:33.132809",
     "exception": false,
     "start_time": "2021-05-16T22:53:33.094459",
     "status": "completed"
    },
    "tags": []
   },
   "outputs": [
    {
     "name": "stdout",
     "output_type": "stream",
     "text": [
      "(9557, 143)\n",
      "(23856, 142)\n"
     ]
    }
   ],
   "source": [
    "#checking the size\n",
    "print(df.shape)\n",
    "print(df_test.shape)"
   ]
  },
  {
   "cell_type": "markdown",
   "id": "cardiac-mouth",
   "metadata": {
    "papermill": {
     "duration": 0.028395,
     "end_time": "2021-05-16T22:53:33.190214",
     "exception": false,
     "start_time": "2021-05-16T22:53:33.161819",
     "status": "completed"
    },
    "tags": []
   },
   "source": [
    "Train has 143 column where as test has 142 column ,which means train has output column on it."
   ]
  },
  {
   "cell_type": "code",
   "execution_count": 4,
   "id": "stuck-jones",
   "metadata": {
    "execution": {
     "iopub.execute_input": "2021-05-16T22:53:33.257299Z",
     "iopub.status.busy": "2021-05-16T22:53:33.256281Z",
     "iopub.status.idle": "2021-05-16T22:53:33.260931Z",
     "shell.execute_reply": "2021-05-16T22:53:33.260368Z"
    },
    "papermill": {
     "duration": 0.041825,
     "end_time": "2021-05-16T22:53:33.261078",
     "exception": false,
     "start_time": "2021-05-16T22:53:33.219253",
     "status": "completed"
    },
    "tags": []
   },
   "outputs": [
    {
     "data": {
      "text/plain": [
       "array(['Target'], dtype=object)"
      ]
     },
     "execution_count": 4,
     "metadata": {},
     "output_type": "execute_result"
    }
   ],
   "source": [
    "#checking the output column my comparing the column names from both train and test\n",
    "import numpy as np\n",
    "np.setdiff1d(df.columns,df_test.columns)"
   ]
  },
  {
   "cell_type": "markdown",
   "id": "infrared-afternoon",
   "metadata": {
    "papermill": {
     "duration": 0.028682,
     "end_time": "2021-05-16T22:53:33.318865",
     "exception": false,
     "start_time": "2021-05-16T22:53:33.290183",
     "status": "completed"
    },
    "tags": []
   },
   "source": [
    "## 1> Handling the missing value"
   ]
  },
  {
   "cell_type": "code",
   "execution_count": 5,
   "id": "activated-worth",
   "metadata": {
    "execution": {
     "iopub.execute_input": "2021-05-16T22:53:33.418761Z",
     "iopub.status.busy": "2021-05-16T22:53:33.391854Z",
     "iopub.status.idle": "2021-05-16T22:53:33.467511Z",
     "shell.execute_reply": "2021-05-16T22:53:33.466863Z"
    },
    "papermill": {
     "duration": 0.119702,
     "end_time": "2021-05-16T22:53:33.467657",
     "exception": false,
     "start_time": "2021-05-16T22:53:33.347955",
     "status": "completed"
    },
    "tags": []
   },
   "outputs": [
    {
     "name": "stdout",
     "output_type": "stream",
     "text": [
      "v2a1         6860\n",
      "v18q1        7342\n",
      "rez_esc      7928\n",
      "meaneduc        5\n",
      "SQBmeaned       5\n",
      "dtype: int64\n",
      "*************\n",
      "v2a1         17403\n",
      "v18q1        18126\n",
      "rez_esc      19653\n",
      "meaneduc        31\n",
      "SQBmeaned       31\n",
      "dtype: int64\n"
     ]
    }
   ],
   "source": [
    "#checking the missing value\n",
    "def miss_val(df):\n",
    " # Miss_val = [col for col in df_test.columns if df[col].isnull().any() == True]\n",
    "#print(Miss_val)\n",
    "   miss_col=df[[col for col in df.columns if df[col].isnull().any() == True]].isna().sum()\n",
    "#miss_col=df[[col for col in df.columns if df[col].isnull().any() == True]].isna().sum()\n",
    "   return miss_col\n",
    "\n",
    "print(miss_val(df))\n",
    "print('*************')\n",
    "print(miss_val(df_test))"
   ]
  },
  {
   "cell_type": "markdown",
   "id": "differential-aurora",
   "metadata": {
    "papermill": {
     "duration": 0.029032,
     "end_time": "2021-05-16T22:53:33.526041",
     "exception": false,
     "start_time": "2021-05-16T22:53:33.497009",
     "status": "completed"
    },
    "tags": []
   },
   "source": [
    "### Handling the above 5 missing column:\n",
    "out of those 5 ,'v2a1', 'v18q1', 'rez_esc',  has  almost 70% missing data .We will check what kind of data these fiels stores and if there is any way to fill all these null value.\n",
    "\n",
    "rez_esc - Years behind in school\n",
    "\n",
    "v18q1 - number of tablets household owns\n",
    "\n",
    "v2a1 - Monthly rent payment\n",
    "\n",
    "meaneduc:average years of education for adults\n",
    "\n",
    "\n",
    "SQBmeaned:square of the mean years of education of adults (>=18) in the household\n",
    "\n"
   ]
  },
  {
   "cell_type": "code",
   "execution_count": 6,
   "id": "judicial-liverpool",
   "metadata": {
    "execution": {
     "iopub.execute_input": "2021-05-16T22:53:33.592405Z",
     "iopub.status.busy": "2021-05-16T22:53:33.591539Z",
     "iopub.status.idle": "2021-05-16T22:53:33.621827Z",
     "shell.execute_reply": "2021-05-16T22:53:33.622290Z"
    },
    "papermill": {
     "duration": 0.067128,
     "end_time": "2021-05-16T22:53:33.622492",
     "exception": false,
     "start_time": "2021-05-16T22:53:33.555364",
     "status": "completed"
    },
    "tags": []
   },
   "outputs": [
    {
     "name": "stdout",
     "output_type": "stream",
     "text": [
      "0\n",
      "0\n"
     ]
    }
   ],
   "source": [
    "#Handling missing value in rez_esc\n",
    "def miss_val_rez(df):\n",
    "#df.rez_esc.value_counts()\n",
    " df.loc[((df['age'] >= 18) | (df['age'] < 5)) & (df['rez_esc'].isnull()), 'rez_esc'] = 0\n",
    " df.loc[df['rez_esc'] > 5, 'rez_esc'] = 5\n",
    " df['rez_esc'] = df['rez_esc'].fillna(0)\n",
    " return df.rez_esc.isna().sum()\n",
    "\n",
    "print(miss_val_rez(df))\n",
    "print(miss_val_rez(df_test))"
   ]
  },
  {
   "cell_type": "code",
   "execution_count": 7,
   "id": "incredible-drinking",
   "metadata": {
    "execution": {
     "iopub.execute_input": "2021-05-16T22:53:33.688324Z",
     "iopub.status.busy": "2021-05-16T22:53:33.687578Z",
     "iopub.status.idle": "2021-05-16T22:53:33.692287Z",
     "shell.execute_reply": "2021-05-16T22:53:33.691735Z"
    },
    "papermill": {
     "duration": 0.039733,
     "end_time": "2021-05-16T22:53:33.692427",
     "exception": false,
     "start_time": "2021-05-16T22:53:33.652694",
     "status": "completed"
    },
    "tags": []
   },
   "outputs": [],
   "source": [
    "#Handling missing value in v18q1\n",
    "df['v18q1'] = df['v18q1'].fillna(0)\n",
    "df_test['v18q1'] = df_test['v18q1'].fillna(0)"
   ]
  },
  {
   "cell_type": "code",
   "execution_count": 8,
   "id": "opening-boutique",
   "metadata": {
    "execution": {
     "iopub.execute_input": "2021-05-16T22:53:33.755502Z",
     "iopub.status.busy": "2021-05-16T22:53:33.754870Z",
     "iopub.status.idle": "2021-05-16T22:53:33.768989Z",
     "shell.execute_reply": "2021-05-16T22:53:33.769758Z"
    },
    "papermill": {
     "duration": 0.047683,
     "end_time": "2021-05-16T22:53:33.770020",
     "exception": false,
     "start_time": "2021-05-16T22:53:33.722337",
     "status": "completed"
    },
    "tags": []
   },
   "outputs": [
    {
     "name": "stdout",
     "output_type": "stream",
     "text": [
      "0\n",
      "0\n"
     ]
    }
   ],
   "source": [
    "#Handling missing value in v2a1\n",
    "# Fill in households that own the house with 0 rent payment\n",
    "\n",
    "def miss_val_v2a1(df):\n",
    "  df.loc[(df['tipovivi1'] == 1), 'v2a1'] = 0\n",
    "  df['v2a1-miss'] = df['v2a1'].isnull()\n",
    "  df['v2a1'] = df['v2a1'].fillna(0)\n",
    "  return df.v2a1.isna().sum()\n",
    "print(miss_val_v2a1(df))\n",
    "print(miss_val_v2a1(df_test))"
   ]
  },
  {
   "cell_type": "code",
   "execution_count": 9,
   "id": "standing-signature",
   "metadata": {
    "execution": {
     "iopub.execute_input": "2021-05-16T22:53:33.841978Z",
     "iopub.status.busy": "2021-05-16T22:53:33.841277Z",
     "iopub.status.idle": "2021-05-16T22:53:33.859624Z",
     "shell.execute_reply": "2021-05-16T22:53:33.860130Z"
    },
    "papermill": {
     "duration": 0.058784,
     "end_time": "2021-05-16T22:53:33.860315",
     "exception": false,
     "start_time": "2021-05-16T22:53:33.801531",
     "status": "completed"
    },
    "tags": []
   },
   "outputs": [
    {
     "data": {
      "text/html": [
       "<div>\n",
       "<style scoped>\n",
       "    .dataframe tbody tr th:only-of-type {\n",
       "        vertical-align: middle;\n",
       "    }\n",
       "\n",
       "    .dataframe tbody tr th {\n",
       "        vertical-align: top;\n",
       "    }\n",
       "\n",
       "    .dataframe thead th {\n",
       "        text-align: right;\n",
       "    }\n",
       "</style>\n",
       "<table border=\"1\" class=\"dataframe\">\n",
       "  <thead>\n",
       "    <tr style=\"text-align: right;\">\n",
       "      <th></th>\n",
       "      <th>meaneduc</th>\n",
       "      <th>SQBmeaned</th>\n",
       "    </tr>\n",
       "  </thead>\n",
       "  <tbody>\n",
       "    <tr>\n",
       "      <th>count</th>\n",
       "      <td>9552.000000</td>\n",
       "      <td>9552.000000</td>\n",
       "    </tr>\n",
       "    <tr>\n",
       "      <th>mean</th>\n",
       "      <td>9.231523</td>\n",
       "      <td>102.588867</td>\n",
       "    </tr>\n",
       "    <tr>\n",
       "      <th>std</th>\n",
       "      <td>4.167694</td>\n",
       "      <td>93.516890</td>\n",
       "    </tr>\n",
       "    <tr>\n",
       "      <th>min</th>\n",
       "      <td>0.000000</td>\n",
       "      <td>0.000000</td>\n",
       "    </tr>\n",
       "    <tr>\n",
       "      <th>25%</th>\n",
       "      <td>6.000000</td>\n",
       "      <td>36.000000</td>\n",
       "    </tr>\n",
       "    <tr>\n",
       "      <th>50%</th>\n",
       "      <td>9.000000</td>\n",
       "      <td>81.000000</td>\n",
       "    </tr>\n",
       "    <tr>\n",
       "      <th>75%</th>\n",
       "      <td>11.600000</td>\n",
       "      <td>134.560010</td>\n",
       "    </tr>\n",
       "    <tr>\n",
       "      <th>max</th>\n",
       "      <td>37.000000</td>\n",
       "      <td>1369.000000</td>\n",
       "    </tr>\n",
       "  </tbody>\n",
       "</table>\n",
       "</div>"
      ],
      "text/plain": [
       "          meaneduc    SQBmeaned\n",
       "count  9552.000000  9552.000000\n",
       "mean      9.231523   102.588867\n",
       "std       4.167694    93.516890\n",
       "min       0.000000     0.000000\n",
       "25%       6.000000    36.000000\n",
       "50%       9.000000    81.000000\n",
       "75%      11.600000   134.560010\n",
       "max      37.000000  1369.000000"
      ]
     },
     "execution_count": 9,
     "metadata": {},
     "output_type": "execute_result"
    }
   ],
   "source": [
    "df[['meaneduc', 'SQBmeaned']].describe()"
   ]
  },
  {
   "cell_type": "markdown",
   "id": "lined-customs",
   "metadata": {
    "papermill": {
     "duration": 0.03061,
     "end_time": "2021-05-16T22:53:33.921889",
     "exception": false,
     "start_time": "2021-05-16T22:53:33.891279",
     "status": "completed"
    },
    "tags": []
   },
   "source": [
    "Both the column represent education ,so using simple imputer will work for us and also there is not much of a deviation in the data\n",
    "'SQBmeaned' has outlier values ,so we will use simple imputer with median .Again there are multiple ways to do this but here we are using simpleimputer."
   ]
  },
  {
   "cell_type": "code",
   "execution_count": 10,
   "id": "quantitative-population",
   "metadata": {
    "execution": {
     "iopub.execute_input": "2021-05-16T22:53:33.991592Z",
     "iopub.status.busy": "2021-05-16T22:53:33.990915Z",
     "iopub.status.idle": "2021-05-16T22:53:35.213919Z",
     "shell.execute_reply": "2021-05-16T22:53:35.214650Z"
    },
    "papermill": {
     "duration": 1.262259,
     "end_time": "2021-05-16T22:53:35.214923",
     "exception": false,
     "start_time": "2021-05-16T22:53:33.952664",
     "status": "completed"
    },
    "tags": []
   },
   "outputs": [
    {
     "name": "stdout",
     "output_type": "stream",
     "text": [
      "meaneduc     0\n",
      "SQBmeaned    0\n",
      "dtype: int64\n",
      "meaneduc     0\n",
      "SQBmeaned    0\n",
      "dtype: int64\n"
     ]
    }
   ],
   "source": [
    "#handling missing values for column 'meaneduc', 'SQBmeaned' using iterative imputer\n",
    "\n",
    "\n",
    "from sklearn.impute import SimpleImputer\n",
    "import numpy as np\n",
    "\n",
    "def miss_val_others(df):\n",
    "  df1=df[['meaneduc', 'SQBmeaned']]\n",
    "  Imp = SimpleImputer(missing_values=np.NaN, strategy='median')\n",
    "  df2=pd.DataFrame(Imp.fit_transform(df1))\n",
    "  df2.columns=['meaneduc', 'SQBmeaned']\n",
    "#assigning values to the original dataframe\n",
    "  df.meaneduc=df2.meaneduc\n",
    "  df.SQBmeaned=df2.SQBmeaned\n",
    "  \n",
    "  return df[['meaneduc', 'SQBmeaned']].isna().sum()\n",
    "print(miss_val_others(df))\n",
    "print(miss_val_others(df_test))"
   ]
  },
  {
   "cell_type": "code",
   "execution_count": 11,
   "id": "determined-thermal",
   "metadata": {
    "execution": {
     "iopub.execute_input": "2021-05-16T22:53:35.324333Z",
     "iopub.status.busy": "2021-05-16T22:53:35.320305Z",
     "iopub.status.idle": "2021-05-16T22:53:35.371854Z",
     "shell.execute_reply": "2021-05-16T22:53:35.371142Z"
    },
    "papermill": {
     "duration": 0.124509,
     "end_time": "2021-05-16T22:53:35.372003",
     "exception": false,
     "start_time": "2021-05-16T22:53:35.247494",
     "status": "completed"
    },
    "tags": []
   },
   "outputs": [
    {
     "name": "stdout",
     "output_type": "stream",
     "text": [
      "Series([], dtype: float64)\n",
      "Series([], dtype: float64)\n"
     ]
    }
   ],
   "source": [
    "#Final check of missing value  in both df and df_test data\n",
    "print(df[[col for col in df.columns if df[col].isnull().any() == True]].isna().sum())\n",
    "print(df_test[[col for col in df_test.columns if df_test[col].isnull().any() == True]].isna().sum())"
   ]
  },
  {
   "cell_type": "markdown",
   "id": "exciting-cricket",
   "metadata": {
    "papermill": {
     "duration": 0.03159,
     "end_time": "2021-05-16T22:53:35.435803",
     "exception": false,
     "start_time": "2021-05-16T22:53:35.404213",
     "status": "completed"
    },
    "tags": []
   },
   "source": [
    "## 2> Understanding the type of data for Model building "
   ]
  },
  {
   "cell_type": "code",
   "execution_count": 12,
   "id": "fuzzy-blame",
   "metadata": {
    "execution": {
     "iopub.execute_input": "2021-05-16T22:53:35.510149Z",
     "iopub.status.busy": "2021-05-16T22:53:35.507894Z",
     "iopub.status.idle": "2021-05-16T22:53:35.531689Z",
     "shell.execute_reply": "2021-05-16T22:53:35.531119Z"
    },
    "papermill": {
     "duration": 0.063908,
     "end_time": "2021-05-16T22:53:35.531860",
     "exception": false,
     "start_time": "2021-05-16T22:53:35.467952",
     "status": "completed"
    },
    "tags": []
   },
   "outputs": [
    {
     "name": "stdout",
     "output_type": "stream",
     "text": [
      "(23856, 5)\n",
      "********\n",
      "(23856, 129)\n",
      "********\n",
      "(9557, 8)\n",
      "********\n",
      "(9557, 1)\n"
     ]
    }
   ],
   "source": [
    "# checking the datatypes of all the  features in the dataset\n",
    "print(df_test.select_dtypes('object').shape)\n",
    "print('********')\n",
    "print(df_test.select_dtypes('int64').shape)\n",
    "print('********')\n",
    "print(df.select_dtypes('float').shape)\n",
    "print('********')\n",
    "print(df.select_dtypes('bool').shape)\n"
   ]
  },
  {
   "cell_type": "markdown",
   "id": "written-highlight",
   "metadata": {
    "papermill": {
     "duration": 0.031998,
     "end_time": "2021-05-16T22:53:35.596236",
     "exception": false,
     "start_time": "2021-05-16T22:53:35.564238",
     "status": "completed"
    },
    "tags": []
   },
   "source": [
    "Analysis:There are 130 integer columns, 8 float columns, and 5 object columns.\n",
    "\n",
    "The object columns  cannot be fed directly into a machine learning model.So we neet to change the string value using label encoding or hot encoding.\n",
    " \n"
   ]
  },
  {
   "cell_type": "code",
   "execution_count": 13,
   "id": "valued-sixth",
   "metadata": {
    "execution": {
     "iopub.execute_input": "2021-05-16T22:53:35.675178Z",
     "iopub.status.busy": "2021-05-16T22:53:35.666628Z",
     "iopub.status.idle": "2021-05-16T22:53:35.680134Z",
     "shell.execute_reply": "2021-05-16T22:53:35.679432Z"
    },
    "papermill": {
     "duration": 0.051467,
     "end_time": "2021-05-16T22:53:35.680283",
     "exception": false,
     "start_time": "2021-05-16T22:53:35.628816",
     "status": "completed"
    },
    "tags": []
   },
   "outputs": [
    {
     "data": {
      "text/html": [
       "<div>\n",
       "<style scoped>\n",
       "    .dataframe tbody tr th:only-of-type {\n",
       "        vertical-align: middle;\n",
       "    }\n",
       "\n",
       "    .dataframe tbody tr th {\n",
       "        vertical-align: top;\n",
       "    }\n",
       "\n",
       "    .dataframe thead th {\n",
       "        text-align: right;\n",
       "    }\n",
       "</style>\n",
       "<table border=\"1\" class=\"dataframe\">\n",
       "  <thead>\n",
       "    <tr style=\"text-align: right;\">\n",
       "      <th></th>\n",
       "      <th>Id</th>\n",
       "      <th>idhogar</th>\n",
       "      <th>dependency</th>\n",
       "      <th>edjefe</th>\n",
       "      <th>edjefa</th>\n",
       "    </tr>\n",
       "  </thead>\n",
       "  <tbody>\n",
       "    <tr>\n",
       "      <th>0</th>\n",
       "      <td>ID_2f6873615</td>\n",
       "      <td>72958b30c</td>\n",
       "      <td>.5</td>\n",
       "      <td>no</td>\n",
       "      <td>17</td>\n",
       "    </tr>\n",
       "    <tr>\n",
       "      <th>1</th>\n",
       "      <td>ID_1c78846d2</td>\n",
       "      <td>72958b30c</td>\n",
       "      <td>.5</td>\n",
       "      <td>no</td>\n",
       "      <td>17</td>\n",
       "    </tr>\n",
       "    <tr>\n",
       "      <th>2</th>\n",
       "      <td>ID_e5442cf6a</td>\n",
       "      <td>72958b30c</td>\n",
       "      <td>.5</td>\n",
       "      <td>no</td>\n",
       "      <td>17</td>\n",
       "    </tr>\n",
       "    <tr>\n",
       "      <th>3</th>\n",
       "      <td>ID_a8db26a79</td>\n",
       "      <td>5b598fbc9</td>\n",
       "      <td>no</td>\n",
       "      <td>16</td>\n",
       "      <td>no</td>\n",
       "    </tr>\n",
       "    <tr>\n",
       "      <th>4</th>\n",
       "      <td>ID_a62966799</td>\n",
       "      <td>1e2fc704e</td>\n",
       "      <td>8</td>\n",
       "      <td>no</td>\n",
       "      <td>11</td>\n",
       "    </tr>\n",
       "  </tbody>\n",
       "</table>\n",
       "</div>"
      ],
      "text/plain": [
       "             Id    idhogar dependency edjefe edjefa\n",
       "0  ID_2f6873615  72958b30c         .5     no     17\n",
       "1  ID_1c78846d2  72958b30c         .5     no     17\n",
       "2  ID_e5442cf6a  72958b30c         .5     no     17\n",
       "3  ID_a8db26a79  5b598fbc9         no     16     no\n",
       "4  ID_a62966799  1e2fc704e          8     no     11"
      ]
     },
     "execution_count": 13,
     "metadata": {},
     "output_type": "execute_result"
    }
   ],
   "source": [
    "# checking for categorical features in the dataset\n",
    "df_test.select_dtypes('object').head()\n"
   ]
  },
  {
   "cell_type": "markdown",
   "id": "special-assault",
   "metadata": {
    "_kg_hide-input": true,
    "papermill": {
     "duration": 0.032513,
     "end_time": "2021-05-16T22:53:35.746549",
     "exception": false,
     "start_time": "2021-05-16T22:53:35.714036",
     "status": "completed"
    },
    "tags": []
   },
   "source": [
    "Analysis: Id and Idhogar are indentifiers.Id is for all the individual and idhogar is for all the individual houehold .Later we will drop these column  while defining x and y.\n",
    "\n",
    "After analysing column  we found the other 3 columns (dependency,edjefe,edjefa) has a bunch of string and numbers .we will encode  no and yes to 0 and 1.We wn't worry about ID and Idhogar as they are just identifier columns\n",
    "\n"
   ]
  },
  {
   "cell_type": "code",
   "execution_count": 14,
   "id": "yellow-cartridge",
   "metadata": {
    "execution": {
     "iopub.execute_input": "2021-05-16T22:53:35.825849Z",
     "iopub.status.busy": "2021-05-16T22:53:35.824278Z",
     "iopub.status.idle": "2021-05-16T22:53:35.878179Z",
     "shell.execute_reply": "2021-05-16T22:53:35.878669Z"
    },
    "papermill": {
     "duration": 0.099511,
     "end_time": "2021-05-16T22:53:35.878883",
     "exception": false,
     "start_time": "2021-05-16T22:53:35.779372",
     "status": "completed"
    },
    "tags": []
   },
   "outputs": [
    {
     "name": "stdout",
     "output_type": "stream",
     "text": [
      "             Id    idhogar\n",
      "0  ID_279628684  21eb7fcc1\n",
      "1  ID_f29eb3ddd  0e5d7a658\n",
      "2  ID_68de51c94  2c7317ea8\n",
      "3  ID_d671db89c  2b58d945f\n",
      "4  ID_d56d6f5f5  2b58d945f\n",
      "*********\n",
      "             Id    idhogar\n",
      "0  ID_2f6873615  72958b30c\n",
      "1  ID_1c78846d2  72958b30c\n",
      "2  ID_e5442cf6a  72958b30c\n",
      "3  ID_a8db26a79  5b598fbc9\n",
      "4  ID_a62966799  1e2fc704e\n"
     ]
    }
   ],
   "source": [
    "#replacing yes and no with 0 and 1 in the dataset\n",
    "def encod_rep(df):\n",
    "  df[['dependency','edjefe','edjefa']] = df[['dependency','edjefe','edjefa']].replace(['yes','no'],['1','0']).astype(np.float)\n",
    "  return df.select_dtypes('object').head()\n",
    "print(encod_rep(df))\n",
    "print('*********')\n",
    "print(encod_rep(df_test))"
   ]
  },
  {
   "cell_type": "markdown",
   "id": "plain-screw",
   "metadata": {
    "papermill": {
     "duration": 0.032892,
     "end_time": "2021-05-16T22:53:35.945384",
     "exception": false,
     "start_time": "2021-05-16T22:53:35.912492",
     "status": "completed"
    },
    "tags": []
   },
   "source": [
    "## 3>Check if there are any biases in your dataset."
   ]
  },
  {
   "cell_type": "code",
   "execution_count": 15,
   "id": "resident-cholesterol",
   "metadata": {
    "execution": {
     "iopub.execute_input": "2021-05-16T22:53:36.019679Z",
     "iopub.status.busy": "2021-05-16T22:53:36.018974Z",
     "iopub.status.idle": "2021-05-16T22:53:36.266655Z",
     "shell.execute_reply": "2021-05-16T22:53:36.267299Z"
    },
    "papermill": {
     "duration": 0.288841,
     "end_time": "2021-05-16T22:53:36.267520",
     "exception": false,
     "start_time": "2021-05-16T22:53:35.978679",
     "status": "completed"
    },
    "tags": []
   },
   "outputs": [
    {
     "data": {
      "text/plain": [
       "<AxesSubplot:xlabel='Target', ylabel='count'>"
      ]
     },
     "execution_count": 15,
     "metadata": {},
     "output_type": "execute_result"
    },
    {
     "data": {
      "image/png": "[encoded data removed]",
      "text/plain": [
       "<Figure size 432x288 with 1 Axes>"
      ]
     },
     "metadata": {
      "needs_background": "light"
     },
     "output_type": "display_data"
    }
   ],
   "source": [
    "import seaborn as sns\n",
    "sns.countplot(x=\"Target\", data=df)"
   ]
  },
  {
   "cell_type": "markdown",
   "id": "muslim-stretch",
   "metadata": {
    "papermill": {
     "duration": 0.035257,
     "end_time": "2021-05-16T22:53:36.337666",
     "exception": false,
     "start_time": "2021-05-16T22:53:36.302409",
     "status": "completed"
    },
    "tags": []
   },
   "source": [
    "The data is divided into the below 4 categories.\n",
    "\n",
    "1 : extreme  poor\n",
    "\n",
    "2:  very poor\n",
    "\n",
    "3:  poor\n",
    "\n",
    "4:  middle class\n",
    "\n",
    "\n",
    "The majority of our data comed under Traget=4 ,which makes this dataset as an imbalance data.We will use Random forest to handle the imbalance data.\n",
    "\n",
    "\n",
    "\n",
    "#### Performance of the standard algorithm is not great on imbalanced classification problems,so we will use Random forest classifier for our data model."
   ]
  },
  {
   "cell_type": "markdown",
   "id": "ahead-object",
   "metadata": {
    "papermill": {
     "duration": 0.034933,
     "end_time": "2021-05-16T22:53:36.407802",
     "exception": false,
     "start_time": "2021-05-16T22:53:36.372869",
     "status": "completed"
    },
    "tags": []
   },
   "source": [
    "## 4> Check if there is a house without a family head."
   ]
  },
  {
   "cell_type": "code",
   "execution_count": 16,
   "id": "average-trader",
   "metadata": {
    "execution": {
     "iopub.execute_input": "2021-05-16T22:53:36.487209Z",
     "iopub.status.busy": "2021-05-16T22:53:36.486490Z",
     "iopub.status.idle": "2021-05-16T22:53:36.531301Z",
     "shell.execute_reply": "2021-05-16T22:53:36.531879Z"
    },
    "papermill": {
     "duration": 0.088955,
     "end_time": "2021-05-16T22:53:36.532064",
     "exception": false,
     "start_time": "2021-05-16T22:53:36.443109",
     "status": "completed"
    },
    "tags": []
   },
   "outputs": [
    {
     "name": "stdout",
     "output_type": "stream",
     "text": [
      "(9534, 144)\n",
      "(23830, 143)\n"
     ]
    }
   ],
   "source": [
    "#checking the idhoghar without a famiily head.Idhogar is a family identifier.\n",
    "def filter_nohead(df):\n",
    "  A=df.groupby(['idhogar'])['parentesco1'].sum().to_frame('counta').reset_index()\n",
    "  no_head=A[A.counta==0]\n",
    "  no_head_l=list(no_head[\"idhogar\"])\n",
    "  df=df[~df[\"idhogar\"].isin(no_head_l)]\n",
    "  return df.shape\n",
    "print(filter_nohead(df))\n",
    "print(filter_nohead(df_test))\n"
   ]
  },
  {
   "cell_type": "markdown",
   "id": "legitimate-essex",
   "metadata": {
    "papermill": {
     "duration": 0.035054,
     "end_time": "2021-05-16T22:53:36.602068",
     "exception": false,
     "start_time": "2021-05-16T22:53:36.567014",
     "status": "completed"
    },
    "tags": []
   },
   "source": [
    "we have 23 household in df and 26 records in df_test  without a family head.We won't need these records for our model training and hence we have reomved it from our datset"
   ]
  },
  {
   "cell_type": "markdown",
   "id": "classified-membrane",
   "metadata": {
    "papermill": {
     "duration": 0.035524,
     "end_time": "2021-05-16T22:53:36.673294",
     "exception": false,
     "start_time": "2021-05-16T22:53:36.637770",
     "status": "completed"
    },
    "tags": []
   },
   "source": [
    "## 5> Check whether all members of the house have the same poverty level(Target )."
   ]
  },
  {
   "cell_type": "code",
   "execution_count": 17,
   "id": "destroyed-today",
   "metadata": {
    "execution": {
     "iopub.execute_input": "2021-05-16T22:53:36.753118Z",
     "iopub.status.busy": "2021-05-16T22:53:36.751885Z",
     "iopub.status.idle": "2021-05-16T22:53:36.783326Z",
     "shell.execute_reply": "2021-05-16T22:53:36.783858Z"
    },
    "papermill": {
     "duration": 0.075406,
     "end_time": "2021-05-16T22:53:36.784068",
     "exception": false,
     "start_time": "2021-05-16T22:53:36.708662",
     "status": "completed"
    },
    "tags": []
   },
   "outputs": [
    {
     "data": {
      "text/html": [
       "<div>\n",
       "<style scoped>\n",
       "    .dataframe tbody tr th:only-of-type {\n",
       "        vertical-align: middle;\n",
       "    }\n",
       "\n",
       "    .dataframe tbody tr th {\n",
       "        vertical-align: top;\n",
       "    }\n",
       "\n",
       "    .dataframe thead th {\n",
       "        text-align: right;\n",
       "    }\n",
       "</style>\n",
       "<table border=\"1\" class=\"dataframe\">\n",
       "  <thead>\n",
       "    <tr style=\"text-align: right;\">\n",
       "      <th></th>\n",
       "      <th>idhogar</th>\n",
       "      <th>Targ_Mean</th>\n",
       "      <th>Tar_Count</th>\n",
       "    </tr>\n",
       "  </thead>\n",
       "  <tbody>\n",
       "    <tr>\n",
       "      <th>0</th>\n",
       "      <td>0172ab1d9</td>\n",
       "      <td>2.5</td>\n",
       "      <td>2</td>\n",
       "    </tr>\n",
       "    <tr>\n",
       "      <th>1</th>\n",
       "      <td>03f4e5f4d</td>\n",
       "      <td>1.5</td>\n",
       "      <td>2</td>\n",
       "    </tr>\n",
       "    <tr>\n",
       "      <th>2</th>\n",
       "      <td>0511912b6</td>\n",
       "      <td>3.5</td>\n",
       "      <td>2</td>\n",
       "    </tr>\n",
       "    <tr>\n",
       "      <th>3</th>\n",
       "      <td>078a0b6e2</td>\n",
       "      <td>1.5</td>\n",
       "      <td>2</td>\n",
       "    </tr>\n",
       "    <tr>\n",
       "      <th>4</th>\n",
       "      <td>09e25d616</td>\n",
       "      <td>1.5</td>\n",
       "      <td>2</td>\n",
       "    </tr>\n",
       "    <tr>\n",
       "      <th>...</th>\n",
       "      <td>...</td>\n",
       "      <td>...</td>\n",
       "      <td>...</td>\n",
       "    </tr>\n",
       "    <tr>\n",
       "      <th>80</th>\n",
       "      <td>e65d4b943</td>\n",
       "      <td>2.5</td>\n",
       "      <td>2</td>\n",
       "    </tr>\n",
       "    <tr>\n",
       "      <th>81</th>\n",
       "      <td>efd3aec61</td>\n",
       "      <td>2.5</td>\n",
       "      <td>2</td>\n",
       "    </tr>\n",
       "    <tr>\n",
       "      <th>82</th>\n",
       "      <td>f006348ed</td>\n",
       "      <td>2.5</td>\n",
       "      <td>2</td>\n",
       "    </tr>\n",
       "    <tr>\n",
       "      <th>83</th>\n",
       "      <td>f7b421c2c</td>\n",
       "      <td>1.5</td>\n",
       "      <td>2</td>\n",
       "    </tr>\n",
       "    <tr>\n",
       "      <th>84</th>\n",
       "      <td>f94589d38</td>\n",
       "      <td>1.5</td>\n",
       "      <td>2</td>\n",
       "    </tr>\n",
       "  </tbody>\n",
       "</table>\n",
       "<p>85 rows × 3 columns</p>\n",
       "</div>"
      ],
      "text/plain": [
       "      idhogar  Targ_Mean  Tar_Count\n",
       "0   0172ab1d9        2.5          2\n",
       "1   03f4e5f4d        1.5          2\n",
       "2   0511912b6        3.5          2\n",
       "3   078a0b6e2        1.5          2\n",
       "4   09e25d616        1.5          2\n",
       "..        ...        ...        ...\n",
       "80  e65d4b943        2.5          2\n",
       "81  efd3aec61        2.5          2\n",
       "82  f006348ed        2.5          2\n",
       "83  f7b421c2c        1.5          2\n",
       "84  f94589d38        1.5          2\n",
       "\n",
       "[85 rows x 3 columns]"
      ]
     },
     "execution_count": 17,
     "metadata": {},
     "output_type": "execute_result"
    }
   ],
   "source": [
    "#df.idhogar.value_counts().sort_values(ascending=False)\n",
    "#Check whether all members of the house have the same poverty level or not \n",
    "df_check=df[['idhogar','parentesco1','Target']]\n",
    "df_check_unique=df_check[['idhogar','Target']].drop_duplicates().groupby(['idhogar']).agg(['mean', 'count']).reset_index()\n",
    "df_check_unique.columns=['idhogar','Targ_Mean','Tar_Count']\n",
    "df_check_unique=df_check_unique[df_check_unique.Tar_Count>1]#if the mean \n",
    "df_check_unique.reset_index(drop=True, inplace=True)\n",
    "df_check_unique \n"
   ]
  },
  {
   "cell_type": "markdown",
   "id": "sound-boost",
   "metadata": {
    "papermill": {
     "duration": 0.035848,
     "end_time": "2021-05-16T22:53:36.856284",
     "exception": false,
     "start_time": "2021-05-16T22:53:36.820436",
     "status": "completed"
    },
    "tags": []
   },
   "source": [
    "idhogar column is a unique Household level identifier.We need to make sure that each idhogar has same 'Target' value.\n",
    "\n",
    "#The logic : dropping all the duplicate row in df_check[['idhogar','Target']] will leave us with the idhogar where there are  more than one type of Target value.The count greater than 1 will give us all the idhogar where we have 2 Target values.\n",
    "\n",
    " \n",
    "We can see that there are 85 idhoghar  where  the Target values are diffrent.To handle this ,we will assign the Target value of parentesco1,household head  of the same idhoghar \n",
    " \n"
   ]
  },
  {
   "cell_type": "markdown",
   "id": "answering-merit",
   "metadata": {
    "papermill": {
     "duration": 0.036714,
     "end_time": "2021-05-16T22:53:36.929233",
     "exception": false,
     "start_time": "2021-05-16T22:53:36.892519",
     "status": "completed"
    },
    "tags": []
   },
   "source": [
    "## 6> Set poverty level of the members and the head of the house within a family."
   ]
  },
  {
   "cell_type": "code",
   "execution_count": 18,
   "id": "architectural-lincoln",
   "metadata": {
    "execution": {
     "iopub.execute_input": "2021-05-16T22:53:37.005842Z",
     "iopub.status.busy": "2021-05-16T22:53:37.005086Z",
     "iopub.status.idle": "2021-05-16T22:53:37.023211Z",
     "shell.execute_reply": "2021-05-16T22:53:37.023745Z"
    },
    "papermill": {
     "duration": 0.058947,
     "end_time": "2021-05-16T22:53:37.023943",
     "exception": false,
     "start_time": "2021-05-16T22:53:36.964996",
     "status": "completed"
    },
    "tags": []
   },
   "outputs": [
    {
     "data": {
      "text/html": [
       "<div>\n",
       "<style scoped>\n",
       "    .dataframe tbody tr th:only-of-type {\n",
       "        vertical-align: middle;\n",
       "    }\n",
       "\n",
       "    .dataframe tbody tr th {\n",
       "        vertical-align: top;\n",
       "    }\n",
       "\n",
       "    .dataframe thead th {\n",
       "        text-align: right;\n",
       "    }\n",
       "</style>\n",
       "<table border=\"1\" class=\"dataframe\">\n",
       "  <thead>\n",
       "    <tr style=\"text-align: right;\">\n",
       "      <th></th>\n",
       "      <th>idhogar</th>\n",
       "      <th>parentesco1</th>\n",
       "      <th>Target</th>\n",
       "    </tr>\n",
       "  </thead>\n",
       "  <tbody>\n",
       "    <tr>\n",
       "      <th>0</th>\n",
       "      <td>4b6077882</td>\n",
       "      <td>1</td>\n",
       "      <td>1</td>\n",
       "    </tr>\n",
       "    <tr>\n",
       "      <th>1</th>\n",
       "      <td>6833ac5dc</td>\n",
       "      <td>1</td>\n",
       "      <td>2</td>\n",
       "    </tr>\n",
       "    <tr>\n",
       "      <th>2</th>\n",
       "      <td>43b9c83e5</td>\n",
       "      <td>1</td>\n",
       "      <td>2</td>\n",
       "    </tr>\n",
       "    <tr>\n",
       "      <th>3</th>\n",
       "      <td>5c3f7725d</td>\n",
       "      <td>1</td>\n",
       "      <td>3</td>\n",
       "    </tr>\n",
       "    <tr>\n",
       "      <th>4</th>\n",
       "      <td>0f9494d3a</td>\n",
       "      <td>1</td>\n",
       "      <td>2</td>\n",
       "    </tr>\n",
       "    <tr>\n",
       "      <th>...</th>\n",
       "      <td>...</td>\n",
       "      <td>...</td>\n",
       "      <td>...</td>\n",
       "    </tr>\n",
       "    <tr>\n",
       "      <th>80</th>\n",
       "      <td>cc971b690</td>\n",
       "      <td>1</td>\n",
       "      <td>2</td>\n",
       "    </tr>\n",
       "    <tr>\n",
       "      <th>81</th>\n",
       "      <td>7e9d58c5c</td>\n",
       "      <td>1</td>\n",
       "      <td>2</td>\n",
       "    </tr>\n",
       "    <tr>\n",
       "      <th>82</th>\n",
       "      <td>e235a4eec</td>\n",
       "      <td>1</td>\n",
       "      <td>2</td>\n",
       "    </tr>\n",
       "    <tr>\n",
       "      <th>83</th>\n",
       "      <td>c7ce4e30c</td>\n",
       "      <td>1</td>\n",
       "      <td>2</td>\n",
       "    </tr>\n",
       "    <tr>\n",
       "      <th>84</th>\n",
       "      <td>9bbf7c6ca</td>\n",
       "      <td>1</td>\n",
       "      <td>1</td>\n",
       "    </tr>\n",
       "  </tbody>\n",
       "</table>\n",
       "<p>85 rows × 3 columns</p>\n",
       "</div>"
      ],
      "text/plain": [
       "      idhogar  parentesco1  Target\n",
       "0   4b6077882            1       1\n",
       "1   6833ac5dc            1       2\n",
       "2   43b9c83e5            1       2\n",
       "3   5c3f7725d            1       3\n",
       "4   0f9494d3a            1       2\n",
       "..        ...          ...     ...\n",
       "80  cc971b690            1       2\n",
       "81  7e9d58c5c            1       2\n",
       "82  e235a4eec            1       2\n",
       "83  c7ce4e30c            1       2\n",
       "84  9bbf7c6ca            1       1\n",
       "\n",
       "[85 rows x 3 columns]"
      ]
     },
     "execution_count": 18,
     "metadata": {},
     "output_type": "execute_result"
    }
   ],
   "source": [
    "#getting the target  for head parent for all those 85 idhoghar and creating a new dataframe\n",
    "df_filter=df.idhogar.isin(df_check_unique.idhogar)\n",
    "df_filter1=df[['idhogar','parentesco1','Target']][df_filter & df.parentesco1==1]\n",
    "df_filter1.reset_index(drop=True, inplace=True)\n",
    "df_filter1\n",
    "\n"
   ]
  },
  {
   "cell_type": "code",
   "execution_count": 19,
   "id": "expensive-highlight",
   "metadata": {
    "execution": {
     "iopub.execute_input": "2021-05-16T22:53:37.104423Z",
     "iopub.status.busy": "2021-05-16T22:53:37.103339Z",
     "iopub.status.idle": "2021-05-16T22:53:37.144785Z",
     "shell.execute_reply": "2021-05-16T22:53:37.144067Z"
    },
    "papermill": {
     "duration": 0.084508,
     "end_time": "2021-05-16T22:53:37.144944",
     "exception": false,
     "start_time": "2021-05-16T22:53:37.060436",
     "status": "completed"
    },
    "tags": []
   },
   "outputs": [],
   "source": [
    "#replacing df.Target  based on df_filter1 values\n",
    "df1 = df.set_index('idhogar')\n",
    "df2 = df_filter1.set_index('idhogar')\n",
    "df1.update(df2)\n",
    "df1.reset_index(inplace=True)\n"
   ]
  },
  {
   "cell_type": "code",
   "execution_count": 20,
   "id": "intense-background",
   "metadata": {
    "execution": {
     "iopub.execute_input": "2021-05-16T22:53:37.231643Z",
     "iopub.status.busy": "2021-05-16T22:53:37.230896Z",
     "iopub.status.idle": "2021-05-16T22:53:37.233895Z",
     "shell.execute_reply": "2021-05-16T22:53:37.234620Z"
    },
    "papermill": {
     "duration": 0.052006,
     "end_time": "2021-05-16T22:53:37.234886",
     "exception": false,
     "start_time": "2021-05-16T22:53:37.182880",
     "status": "completed"
    },
    "tags": []
   },
   "outputs": [
    {
     "name": "stdout",
     "output_type": "stream",
     "text": [
      "285    2\n",
      "286    2\n",
      "287    2\n",
      "288    2\n",
      "289    2\n",
      "290    1\n",
      "Name: Target, dtype: int64\n",
      "285    2.0\n",
      "286    2.0\n",
      "287    2.0\n",
      "288    2.0\n",
      "289    2.0\n",
      "290    2.0\n",
      "Name: Target, dtype: float64\n"
     ]
    }
   ],
   "source": [
    "#checking the idhogar before and after logic:\n",
    "print(df.Target[df.idhogar=='6833ac5dc'])\n",
    "print(df1.Target[df1.idhogar=='6833ac5dc'])"
   ]
  },
  {
   "cell_type": "code",
   "execution_count": 21,
   "id": "important-reasoning",
   "metadata": {
    "execution": {
     "iopub.execute_input": "2021-05-16T22:53:37.315114Z",
     "iopub.status.busy": "2021-05-16T22:53:37.314439Z",
     "iopub.status.idle": "2021-05-16T22:53:37.323903Z",
     "shell.execute_reply": "2021-05-16T22:53:37.324377Z"
    },
    "papermill": {
     "duration": 0.051417,
     "end_time": "2021-05-16T22:53:37.324576",
     "exception": false,
     "start_time": "2021-05-16T22:53:37.273159",
     "status": "completed"
    },
    "tags": []
   },
   "outputs": [],
   "source": [
    "#getting the x and y from df\n",
    "\n",
    "x=df1.drop(columns=['Id','idhogar','Target'])\n",
    "y=df1.Target"
   ]
  },
  {
   "cell_type": "code",
   "execution_count": 22,
   "id": "express-energy",
   "metadata": {
    "execution": {
     "iopub.execute_input": "2021-05-16T22:53:37.402840Z",
     "iopub.status.busy": "2021-05-16T22:53:37.402103Z",
     "iopub.status.idle": "2021-05-16T22:53:37.417528Z",
     "shell.execute_reply": "2021-05-16T22:53:37.418066Z"
    },
    "papermill": {
     "duration": 0.056513,
     "end_time": "2021-05-16T22:53:37.418259",
     "exception": false,
     "start_time": "2021-05-16T22:53:37.361746",
     "status": "completed"
    },
    "tags": []
   },
   "outputs": [
    {
     "data": {
      "text/plain": [
       "(23856, 141)"
      ]
     },
     "execution_count": 22,
     "metadata": {},
     "output_type": "execute_result"
    }
   ],
   "source": [
    "#getting th x from df_test for predicyion\n",
    "x_t=df_test.drop(columns=['Id','idhogar'])\n",
    "x_t.shape"
   ]
  },
  {
   "cell_type": "code",
   "execution_count": 23,
   "id": "vulnerable-respect",
   "metadata": {
    "execution": {
     "iopub.execute_input": "2021-05-16T22:53:37.497419Z",
     "iopub.status.busy": "2021-05-16T22:53:37.496680Z",
     "iopub.status.idle": "2021-05-16T22:53:37.513137Z",
     "shell.execute_reply": "2021-05-16T22:53:37.513662Z"
    },
    "papermill": {
     "duration": 0.057937,
     "end_time": "2021-05-16T22:53:37.513889",
     "exception": false,
     "start_time": "2021-05-16T22:53:37.455952",
     "status": "completed"
    },
    "tags": []
   },
   "outputs": [],
   "source": [
    "\n",
    "from sklearn.model_selection import train_test_split\n",
    "from sklearn.preprocessing import StandardScaler\n",
    "\n",
    "train_X,test_x,train_Y,test_y=train_test_split(x,y,random_state=0)"
   ]
  },
  {
   "cell_type": "code",
   "execution_count": 24,
   "id": "proprietary-prophet",
   "metadata": {
    "execution": {
     "iopub.execute_input": "2021-05-16T22:53:37.593832Z",
     "iopub.status.busy": "2021-05-16T22:53:37.593090Z",
     "iopub.status.idle": "2021-05-16T22:53:37.860830Z",
     "shell.execute_reply": "2021-05-16T22:53:37.859605Z"
    },
    "papermill": {
     "duration": 0.308386,
     "end_time": "2021-05-16T22:53:37.860998",
     "exception": false,
     "start_time": "2021-05-16T22:53:37.552612",
     "status": "completed"
    },
    "tags": []
   },
   "outputs": [],
   "source": [
    "#standerizing the data\n",
    "stdSC=StandardScaler()\n",
    "stdSC.fit(train_X)\n",
    "train_new_X=pd.DataFrame(stdSC.transform(train_X))"
   ]
  },
  {
   "cell_type": "code",
   "execution_count": 25,
   "id": "underlying-blast",
   "metadata": {
    "execution": {
     "iopub.execute_input": "2021-05-16T22:53:37.943593Z",
     "iopub.status.busy": "2021-05-16T22:53:37.942696Z",
     "iopub.status.idle": "2021-05-16T22:53:40.078906Z",
     "shell.execute_reply": "2021-05-16T22:53:40.077390Z"
    },
    "papermill": {
     "duration": 2.180111,
     "end_time": "2021-05-16T22:53:40.079073",
     "exception": false,
     "start_time": "2021-05-16T22:53:37.898962",
     "status": "completed"
    },
    "tags": []
   },
   "outputs": [
    {
     "data": {
      "text/plain": [
       "0.9292887029288703"
      ]
     },
     "execution_count": 25,
     "metadata": {},
     "output_type": "execute_result"
    }
   ],
   "source": [
    "from sklearn.ensemble import RandomForestClassifier\n",
    "\n",
    "rfModel=RandomForestClassifier(n_jobs=-1,n_estimators=200,random_state=7)\n",
    "rfModel.fit(train_X,train_Y)\n",
    "rfModel.score(train_X,train_Y)\n",
    "rfModel.score(test_x,test_y)\n",
    "#rfModel.predict(x_t)"
   ]
  },
  {
   "cell_type": "code",
   "execution_count": 26,
   "id": "excited-emergency",
   "metadata": {
    "execution": {
     "iopub.execute_input": "2021-05-16T22:53:40.165306Z",
     "iopub.status.busy": "2021-05-16T22:53:40.164504Z",
     "iopub.status.idle": "2021-05-16T22:53:40.428414Z",
     "shell.execute_reply": "2021-05-16T22:53:40.427770Z"
    },
    "papermill": {
     "duration": 0.31054,
     "end_time": "2021-05-16T22:53:40.428554",
     "exception": false,
     "start_time": "2021-05-16T22:53:40.118014",
     "status": "completed"
    },
    "tags": []
   },
   "outputs": [
    {
     "data": {
      "text/html": [
       "<div>\n",
       "<style scoped>\n",
       "    .dataframe tbody tr th:only-of-type {\n",
       "        vertical-align: middle;\n",
       "    }\n",
       "\n",
       "    .dataframe tbody tr th {\n",
       "        vertical-align: top;\n",
       "    }\n",
       "\n",
       "    .dataframe thead th {\n",
       "        text-align: right;\n",
       "    }\n",
       "</style>\n",
       "<table border=\"1\" class=\"dataframe\">\n",
       "  <thead>\n",
       "    <tr style=\"text-align: right;\">\n",
       "      <th>col_0</th>\n",
       "      <th>1.0</th>\n",
       "      <th>2.0</th>\n",
       "      <th>3.0</th>\n",
       "      <th>4.0</th>\n",
       "    </tr>\n",
       "    <tr>\n",
       "      <th>Target</th>\n",
       "      <th></th>\n",
       "      <th></th>\n",
       "      <th></th>\n",
       "      <th></th>\n",
       "    </tr>\n",
       "  </thead>\n",
       "  <tbody>\n",
       "    <tr>\n",
       "      <th>1.0</th>\n",
       "      <td>155</td>\n",
       "      <td>2</td>\n",
       "      <td>0</td>\n",
       "      <td>38</td>\n",
       "    </tr>\n",
       "    <tr>\n",
       "      <th>2.0</th>\n",
       "      <td>0</td>\n",
       "      <td>347</td>\n",
       "      <td>3</td>\n",
       "      <td>56</td>\n",
       "    </tr>\n",
       "    <tr>\n",
       "      <th>3.0</th>\n",
       "      <td>2</td>\n",
       "      <td>0</td>\n",
       "      <td>245</td>\n",
       "      <td>65</td>\n",
       "    </tr>\n",
       "    <tr>\n",
       "      <th>4.0</th>\n",
       "      <td>0</td>\n",
       "      <td>2</td>\n",
       "      <td>1</td>\n",
       "      <td>1474</td>\n",
       "    </tr>\n",
       "  </tbody>\n",
       "</table>\n",
       "</div>"
      ],
      "text/plain": [
       "col_0   1.0  2.0  3.0   4.0\n",
       "Target                     \n",
       "1.0     155    2    0    38\n",
       "2.0       0  347    3    56\n",
       "3.0       2    0  245    65\n",
       "4.0       0    2    1  1474"
      ]
     },
     "execution_count": 26,
     "metadata": {},
     "output_type": "execute_result"
    }
   ],
   "source": [
    "#Crosschecvking the accuracy of the model for both train and test\n",
    "pd.crosstab(test_y,rfModel.predict(test_x))"
   ]
  },
  {
   "cell_type": "code",
   "execution_count": 27,
   "id": "complete-horror",
   "metadata": {
    "execution": {
     "iopub.execute_input": "2021-05-16T22:53:40.533561Z",
     "iopub.status.busy": "2021-05-16T22:53:40.532424Z",
     "iopub.status.idle": "2021-05-16T22:53:41.260990Z",
     "shell.execute_reply": "2021-05-16T22:53:41.260241Z"
    },
    "papermill": {
     "duration": 0.793164,
     "end_time": "2021-05-16T22:53:41.261142",
     "exception": false,
     "start_time": "2021-05-16T22:53:40.467978",
     "status": "completed"
    },
    "tags": []
   },
   "outputs": [
    {
     "data": {
      "text/plain": [
       "array([4., 4., 4., ..., 4., 4., 4.])"
      ]
     },
     "execution_count": 27,
     "metadata": {},
     "output_type": "execute_result"
    }
   ],
   "source": [
    "#predicting the Target for test datset df_test\n",
    "rfModel.predict(x_t)"
   ]
  },
  {
   "cell_type": "code",
   "execution_count": 28,
   "id": "surface-carnival",
   "metadata": {
    "execution": {
     "iopub.execute_input": "2021-05-16T22:53:41.351573Z",
     "iopub.status.busy": "2021-05-16T22:53:41.349875Z",
     "iopub.status.idle": "2021-05-16T22:53:42.102554Z",
     "shell.execute_reply": "2021-05-16T22:53:42.101233Z"
    },
    "papermill": {
     "duration": 0.800971,
     "end_time": "2021-05-16T22:53:42.102735",
     "exception": false,
     "start_time": "2021-05-16T22:53:41.301764",
     "status": "completed"
    },
    "tags": []
   },
   "outputs": [],
   "source": [
    "df_test['Target']=pd.DataFrame(rfModel.predict(x_t))"
   ]
  },
  {
   "cell_type": "code",
   "execution_count": 29,
   "id": "pregnant-mother",
   "metadata": {
    "execution": {
     "iopub.execute_input": "2021-05-16T22:53:42.186734Z",
     "iopub.status.busy": "2021-05-16T22:53:42.186103Z",
     "iopub.status.idle": "2021-05-16T22:53:43.090806Z",
     "shell.execute_reply": "2021-05-16T22:53:43.090145Z"
    },
    "papermill": {
     "duration": 0.948633,
     "end_time": "2021-05-16T22:53:43.090951",
     "exception": false,
     "start_time": "2021-05-16T22:53:42.142318",
     "status": "completed"
    },
    "tags": []
   },
   "outputs": [],
   "source": [
    "df_test.to_csv(\"submission.csv\",index=False)"
   ]
  },
  {
   "cell_type": "code",
   "execution_count": 30,
   "id": "suited-robert",
   "metadata": {
    "execution": {
     "iopub.execute_input": "2021-05-16T22:53:43.177334Z",
     "iopub.status.busy": "2021-05-16T22:53:43.176297Z",
     "iopub.status.idle": "2021-05-16T22:53:43.324886Z",
     "shell.execute_reply": "2021-05-16T22:53:43.324284Z"
    },
    "papermill": {
     "duration": 0.193664,
     "end_time": "2021-05-16T22:53:43.325028",
     "exception": false,
     "start_time": "2021-05-16T22:53:43.131364",
     "status": "completed"
    },
    "tags": []
   },
   "outputs": [
    {
     "data": {
      "text/plain": [
       "Text(0.5, 1.0, 'Target for test')"
      ]
     },
     "execution_count": 30,
     "metadata": {},
     "output_type": "execute_result"
    },
    {
     "data": {
      "image/png": "[encoded data removed]",
      "text/plain": [
       "<Figure size 432x288 with 1 Axes>"
      ]
     },
     "metadata": {
      "needs_background": "light"
     },
     "output_type": "display_data"
    }
   ],
   "source": [
    "sns.countplot(x=\"Target\", data=df_test).set_title('Target for test')"
   ]
  }
 ],
 "metadata": {
  "kernelspec": {
   "display_name": "Python 3",
   "language": "python",
   "name": "python3"
  },
  "language_info": {
   "codemirror_mode": {
    "name": "ipython",
    "version": 3
   },
   "file_extension": ".py",
   "mimetype": "text/x-python",
   "name": "python",
   "nbconvert_exporter": "python",
   "pygments_lexer": "ipython3",
   "version": "3.7.10"
  },
  "papermill": {
   "default_parameters": {},
   "duration": 21.995007,
   "end_time": "2021-05-16T22:53:45.011943",
   "environment_variables": {},
   "exception": null,
   "input_path": "__notebook__.ipynb",
   "output_path": "__notebook__.ipynb",
   "parameters": {},
   "start_time": "2021-05-16T22:53:23.016936",
   "version": "2.3.3"
  }
 },
 "nbformat": 4,
 "nbformat_minor": 5
}
