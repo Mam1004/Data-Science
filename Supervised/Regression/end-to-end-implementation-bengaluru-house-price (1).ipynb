{
 "cells": [
  {
   "cell_type": "code",
   "execution_count": 1,
   "id": "81e8666e",
   "metadata": {
    "execution": {
     "iopub.execute_input": "2021-12-28T19:16:57.637751Z",
     "iopub.status.busy": "2021-12-28T19:16:57.635920Z",
     "iopub.status.idle": "2021-12-28T19:16:59.030386Z",
     "shell.execute_reply": "2021-12-28T19:16:59.030986Z",
     "shell.execute_reply.started": "2021-12-28T00:21:51.584102Z"
    },
    "papermill": {
     "duration": 1.457173,
     "end_time": "2021-12-28T19:16:59.031295",
     "exception": false,
     "start_time": "2021-12-28T19:16:57.574122",
     "status": "completed"
    },
    "tags": []
   },
   "outputs": [],
   "source": [
    "# importing libarries\n",
    "import pandas as pd\n",
    "import numpy as np\n",
    "import seaborn as sns\n",
    "import re\n",
    "from sklearn.impute import SimpleImputer\n",
    "from sklearn import preprocessing\n",
    "import matplotlib.pyplot as plt\n",
    "import matplotlib"
   ]
  },
  {
   "cell_type": "code",
   "execution_count": 2,
   "id": "54e717eb",
   "metadata": {
    "execution": {
     "iopub.execute_input": "2021-12-28T19:16:59.147555Z",
     "iopub.status.busy": "2021-12-28T19:16:59.146492Z",
     "iopub.status.idle": "2021-12-28T19:16:59.223717Z",
     "shell.execute_reply": "2021-12-28T19:16:59.224278Z",
     "shell.execute_reply.started": "2021-12-28T00:21:52.865067Z"
    },
    "papermill": {
     "duration": 0.136467,
     "end_time": "2021-12-28T19:16:59.224454",
     "exception": false,
     "start_time": "2021-12-28T19:16:59.087987",
     "status": "completed"
    },
    "tags": []
   },
   "outputs": [
    {
     "data": {
      "text/html": [
       "<div>\n",
       "<style scoped>\n",
       "    .dataframe tbody tr th:only-of-type {\n",
       "        vertical-align: middle;\n",
       "    }\n",
       "\n",
       "    .dataframe tbody tr th {\n",
       "        vertical-align: top;\n",
       "    }\n",
       "\n",
       "    .dataframe thead th {\n",
       "        text-align: right;\n",
       "    }\n",
       "</style>\n",
       "<table border=\"1\" class=\"dataframe\">\n",
       "  <thead>\n",
       "    <tr style=\"text-align: right;\">\n",
       "      <th></th>\n",
       "      <th>area_type</th>\n",
       "      <th>availability</th>\n",
       "      <th>location</th>\n",
       "      <th>size</th>\n",
       "      <th>society</th>\n",
       "      <th>total_sqft</th>\n",
       "      <th>bath</th>\n",
       "      <th>balcony</th>\n",
       "      <th>price</th>\n",
       "    </tr>\n",
       "  </thead>\n",
       "  <tbody>\n",
       "    <tr>\n",
       "      <th>0</th>\n",
       "      <td>Super built-up  Area</td>\n",
       "      <td>19-Dec</td>\n",
       "      <td>Electronic City Phase II</td>\n",
       "      <td>2 BHK</td>\n",
       "      <td>Coomee</td>\n",
       "      <td>1056</td>\n",
       "      <td>2.0</td>\n",
       "      <td>1.0</td>\n",
       "      <td>39.07</td>\n",
       "    </tr>\n",
       "    <tr>\n",
       "      <th>1</th>\n",
       "      <td>Plot  Area</td>\n",
       "      <td>Ready To Move</td>\n",
       "      <td>Chikka Tirupathi</td>\n",
       "      <td>4 Bedroom</td>\n",
       "      <td>Theanmp</td>\n",
       "      <td>2600</td>\n",
       "      <td>5.0</td>\n",
       "      <td>3.0</td>\n",
       "      <td>120.00</td>\n",
       "    </tr>\n",
       "    <tr>\n",
       "      <th>2</th>\n",
       "      <td>Built-up  Area</td>\n",
       "      <td>Ready To Move</td>\n",
       "      <td>Uttarahalli</td>\n",
       "      <td>3 BHK</td>\n",
       "      <td>NaN</td>\n",
       "      <td>1440</td>\n",
       "      <td>2.0</td>\n",
       "      <td>3.0</td>\n",
       "      <td>62.00</td>\n",
       "    </tr>\n",
       "    <tr>\n",
       "      <th>3</th>\n",
       "      <td>Super built-up  Area</td>\n",
       "      <td>Ready To Move</td>\n",
       "      <td>Lingadheeranahalli</td>\n",
       "      <td>3 BHK</td>\n",
       "      <td>Soiewre</td>\n",
       "      <td>1521</td>\n",
       "      <td>3.0</td>\n",
       "      <td>1.0</td>\n",
       "      <td>95.00</td>\n",
       "    </tr>\n",
       "    <tr>\n",
       "      <th>4</th>\n",
       "      <td>Super built-up  Area</td>\n",
       "      <td>Ready To Move</td>\n",
       "      <td>Kothanur</td>\n",
       "      <td>2 BHK</td>\n",
       "      <td>NaN</td>\n",
       "      <td>1200</td>\n",
       "      <td>2.0</td>\n",
       "      <td>1.0</td>\n",
       "      <td>51.00</td>\n",
       "    </tr>\n",
       "  </tbody>\n",
       "</table>\n",
       "</div>"
      ],
      "text/plain": [
       "              area_type   availability                  location       size  \\\n",
       "0  Super built-up  Area         19-Dec  Electronic City Phase II      2 BHK   \n",
       "1            Plot  Area  Ready To Move          Chikka Tirupathi  4 Bedroom   \n",
       "2        Built-up  Area  Ready To Move               Uttarahalli      3 BHK   \n",
       "3  Super built-up  Area  Ready To Move        Lingadheeranahalli      3 BHK   \n",
       "4  Super built-up  Area  Ready To Move                  Kothanur      2 BHK   \n",
       "\n",
       "   society total_sqft  bath  balcony   price  \n",
       "0  Coomee        1056   2.0      1.0   39.07  \n",
       "1  Theanmp       2600   5.0      3.0  120.00  \n",
       "2      NaN       1440   2.0      3.0   62.00  \n",
       "3  Soiewre       1521   3.0      1.0   95.00  \n",
       "4      NaN       1200   2.0      1.0   51.00  "
      ]
     },
     "execution_count": 2,
     "metadata": {},
     "output_type": "execute_result"
    }
   ],
   "source": [
    "df=pd.read_csv(\"../input/banglorehousepricedataset/Bengaluru_House_Data.csv\")\n",
    "df.head()"
   ]
  },
  {
   "cell_type": "code",
   "execution_count": 3,
   "id": "2c3ad73e",
   "metadata": {
    "execution": {
     "iopub.execute_input": "2021-12-28T19:16:59.341228Z",
     "iopub.status.busy": "2021-12-28T19:16:59.340217Z",
     "iopub.status.idle": "2021-12-28T19:16:59.386103Z",
     "shell.execute_reply": "2021-12-28T19:16:59.386764Z",
     "shell.execute_reply.started": "2021-12-28T00:21:52.941515Z"
    },
    "papermill": {
     "duration": 0.104942,
     "end_time": "2021-12-28T19:16:59.386961",
     "exception": false,
     "start_time": "2021-12-28T19:16:59.282019",
     "status": "completed"
    },
    "tags": []
   },
   "outputs": [
    {
     "name": "stdout",
     "output_type": "stream",
     "text": [
      "(13320, 9)\n",
      "               bath       balcony         price\n",
      "count  13247.000000  12711.000000  13320.000000\n",
      "mean       2.692610      1.584376    112.565627\n",
      "std        1.341458      0.817263    148.971674\n",
      "min        1.000000      0.000000      8.000000\n",
      "25%        2.000000      1.000000     50.000000\n",
      "50%        2.000000      2.000000     72.000000\n",
      "75%        3.000000      2.000000    120.000000\n",
      "max       40.000000      3.000000   3600.000000\n",
      "<class 'pandas.core.frame.DataFrame'>\n",
      "RangeIndex: 13320 entries, 0 to 13319\n",
      "Data columns (total 9 columns):\n",
      " #   Column        Non-Null Count  Dtype  \n",
      "---  ------        --------------  -----  \n",
      " 0   area_type     13320 non-null  object \n",
      " 1   availability  13320 non-null  object \n",
      " 2   location      13319 non-null  object \n",
      " 3   size          13304 non-null  object \n",
      " 4   society       7818 non-null   object \n",
      " 5   total_sqft    13320 non-null  object \n",
      " 6   bath          13247 non-null  float64\n",
      " 7   balcony       12711 non-null  float64\n",
      " 8   price         13320 non-null  float64\n",
      "dtypes: float64(3), object(6)\n",
      "memory usage: 936.7+ KB\n",
      "None\n"
     ]
    }
   ],
   "source": [
    "#data description\n",
    "print(df.shape)\n",
    "print(df.describe())\n",
    "print(df.info())"
   ]
  },
  {
   "cell_type": "markdown",
   "id": "3d61022c",
   "metadata": {
    "papermill": {
     "duration": 0.055667,
     "end_time": "2021-12-28T19:16:59.500272",
     "exception": false,
     "start_time": "2021-12-28T19:16:59.444605",
     "status": "completed"
    },
    "tags": []
   },
   "source": [
    "Just by looking at the describe we can see our price is highly skewed,where the mean is 112 and  the 50% is on 72"
   ]
  },
  {
   "cell_type": "code",
   "execution_count": 4,
   "id": "c1f8c5b1",
   "metadata": {
    "execution": {
     "iopub.execute_input": "2021-12-28T19:16:59.615217Z",
     "iopub.status.busy": "2021-12-28T19:16:59.614529Z",
     "iopub.status.idle": "2021-12-28T19:16:59.618864Z",
     "shell.execute_reply": "2021-12-28T19:16:59.618338Z",
     "shell.execute_reply.started": "2021-12-28T00:21:52.988866Z"
    },
    "papermill": {
     "duration": 0.063021,
     "end_time": "2021-12-28T19:16:59.619072",
     "exception": false,
     "start_time": "2021-12-28T19:16:59.556051",
     "status": "completed"
    },
    "tags": []
   },
   "outputs": [],
   "source": [
    "#def find_number(text):\n",
    "    #num = re.findall(r'[0-9]+',text)\n",
    "    #return \" \".join(num)\n",
    "#df['no of rooms']=df['size'].apply(lambda x: find_number(x))"
   ]
  },
  {
   "cell_type": "markdown",
   "id": "aac28b9e",
   "metadata": {
    "papermill": {
     "duration": 0.058722,
     "end_time": "2021-12-28T19:16:59.734475",
     "exception": false,
     "start_time": "2021-12-28T19:16:59.675753",
     "status": "completed"
    },
    "tags": []
   },
   "source": [
    "<a id='2'></a> <h1 style=\"background-color:grey; color:blue\" ><br>Exploratery data analysis<br></h1>\n",
    "<a id='3'></a>\n",
    "\n",
    "<b>\n",
    "*  Steps for EDA:\n",
    "  \n",
    "   1. Checking the missing value\n",
    "   2. checking the description,datatypes\n",
    "   3. Doing Univariate analysis on the variables to understand how the variables are affecting the outcome\n",
    "   4. Finding  the correlation between the variables\n",
    "    </b></center>\n",
    "   "
   ]
  },
  {
   "cell_type": "markdown",
   "id": "8fd6752f",
   "metadata": {
    "papermill": {
     "duration": 0.055331,
     "end_time": "2021-12-28T19:16:59.845577",
     "exception": false,
     "start_time": "2021-12-28T19:16:59.790246",
     "status": "completed"
    },
    "tags": []
   },
   "source": []
  },
  {
   "cell_type": "code",
   "execution_count": 5,
   "id": "8140c983",
   "metadata": {
    "execution": {
     "iopub.execute_input": "2021-12-28T19:16:59.962303Z",
     "iopub.status.busy": "2021-12-28T19:16:59.961520Z",
     "iopub.status.idle": "2021-12-28T19:16:59.974352Z",
     "shell.execute_reply": "2021-12-28T19:16:59.974816Z",
     "shell.execute_reply.started": "2021-12-28T00:21:52.994158Z"
    },
    "papermill": {
     "duration": 0.073339,
     "end_time": "2021-12-28T19:16:59.975046",
     "exception": false,
     "start_time": "2021-12-28T19:16:59.901707",
     "status": "completed"
    },
    "tags": []
   },
   "outputs": [
    {
     "name": "stdout",
     "output_type": "stream",
     "text": [
      "(13320, 6)\n",
      "********\n",
      "(13320, 0)\n",
      "********\n",
      "(13320, 3)\n",
      "********\n",
      "(13320, 0)\n"
     ]
    }
   ],
   "source": [
    "\n",
    "# checking the datatypes of all the  features in the dataset\n",
    "print(df.select_dtypes('object').shape)\n",
    "print('********')\n",
    "print(df.select_dtypes('int64').shape)\n",
    "print('********')\n",
    "print(df.select_dtypes('float').shape)\n",
    "print('********')\n",
    "print(df.select_dtypes('bool').shape)"
   ]
  },
  {
   "cell_type": "code",
   "execution_count": 6,
   "id": "0d14b755",
   "metadata": {
    "execution": {
     "iopub.execute_input": "2021-12-28T19:17:00.090841Z",
     "iopub.status.busy": "2021-12-28T19:17:00.090199Z",
     "iopub.status.idle": "2021-12-28T19:17:00.112653Z",
     "shell.execute_reply": "2021-12-28T19:17:00.113177Z",
     "shell.execute_reply.started": "2021-12-28T00:21:53.016136Z"
    },
    "papermill": {
     "duration": 0.081893,
     "end_time": "2021-12-28T19:17:00.113351",
     "exception": false,
     "start_time": "2021-12-28T19:17:00.031458",
     "status": "completed"
    },
    "tags": []
   },
   "outputs": [
    {
     "name": "stdout",
     "output_type": "stream",
     "text": [
      "location       1\n",
      "size          16\n",
      "society     5502\n",
      "bath          73\n",
      "balcony      609\n",
      "dtype: int64\n"
     ]
    }
   ],
   "source": [
    "#checking the missing value\n",
    "def miss_val(df):\n",
    "   miss_col=df[[col for col in df.columns if df[col].isnull().any() == True]].isna().sum()\n",
    "   return miss_col\n",
    "\n",
    "print(miss_val(df))"
   ]
  },
  {
   "cell_type": "markdown",
   "id": "3bf49ae8",
   "metadata": {
    "papermill": {
     "duration": 0.055736,
     "end_time": "2021-12-28T19:17:00.224995",
     "exception": false,
     "start_time": "2021-12-28T19:17:00.169259",
     "status": "completed"
    },
    "tags": []
   },
   "source": [
    "1>We can see here we have almost 50% of recordis in scocitey columns which are missing.we may get rid of this column .\n",
    "\n",
    "2>The bedroom in size has to be replaced by BHK ,but before doing that we need to check if there are other names used for BHK.We need to extract only the numbers from this column.\n",
    "\n",
    "3> we need to do hot encoding for the location column.\n",
    "\n",
    "4> Area_type needs to  be coded in numbers.\n",
    "\n",
    "5> we have 73 bath as null,which is not possible we need to impudate with using the size of the hous and average bath in those houses in other records.\n",
    "\n",
    "6> we will replace the balconey na values with median and drop all the other NA records\n",
    "\n"
   ]
  },
  {
   "cell_type": "code",
   "execution_count": 7,
   "id": "712de061",
   "metadata": {
    "execution": {
     "iopub.execute_input": "2021-12-28T19:17:00.341689Z",
     "iopub.status.busy": "2021-12-28T19:17:00.341017Z",
     "iopub.status.idle": "2021-12-28T19:17:00.342564Z",
     "shell.execute_reply": "2021-12-28T19:17:00.343124Z",
     "shell.execute_reply.started": "2021-12-28T00:21:53.04167Z"
    },
    "papermill": {
     "duration": 0.061964,
     "end_time": "2021-12-28T19:17:00.343297",
     "exception": false,
     "start_time": "2021-12-28T19:17:00.281333",
     "status": "completed"
    },
    "tags": []
   },
   "outputs": [],
   "source": [
    "#extracting number of rooms and \n",
    "#df['size'] = df['size'].str[:2]\n",
    "#df.head(2)"
   ]
  },
  {
   "cell_type": "code",
   "execution_count": 8,
   "id": "50ff4ad7",
   "metadata": {
    "execution": {
     "iopub.execute_input": "2021-12-28T19:17:00.461595Z",
     "iopub.status.busy": "2021-12-28T19:17:00.460665Z",
     "iopub.status.idle": "2021-12-28T19:17:00.464156Z",
     "shell.execute_reply": "2021-12-28T19:17:00.464606Z",
     "shell.execute_reply.started": "2021-12-28T00:21:53.047028Z"
    },
    "papermill": {
     "duration": 0.065981,
     "end_time": "2021-12-28T19:17:00.464790",
     "exception": false,
     "start_time": "2021-12-28T19:17:00.398809",
     "status": "completed"
    },
    "tags": []
   },
   "outputs": [
    {
     "data": {
      "text/plain": [
       "array(['2 BHK', '4 Bedroom', '3 BHK', '4 BHK', '6 Bedroom', '3 Bedroom',\n",
       "       '1 BHK', '1 RK', '1 Bedroom', '8 Bedroom', '2 Bedroom',\n",
       "       '7 Bedroom', '5 BHK', '7 BHK', '6 BHK', '5 Bedroom', '11 BHK',\n",
       "       '9 BHK', nan, '9 Bedroom', '27 BHK', '10 Bedroom', '11 Bedroom',\n",
       "       '10 BHK', '19 BHK', '16 BHK', '43 Bedroom', '14 BHK', '8 BHK',\n",
       "       '12 Bedroom', '13 BHK', '18 Bedroom'], dtype=object)"
      ]
     },
     "execution_count": 8,
     "metadata": {},
     "output_type": "execute_result"
    }
   ],
   "source": [
    "#df.size=df.size.astype(int)\n",
    "df['size'].unique()"
   ]
  },
  {
   "cell_type": "code",
   "execution_count": 9,
   "id": "87da6422",
   "metadata": {
    "execution": {
     "iopub.execute_input": "2021-12-28T19:17:00.587239Z",
     "iopub.status.busy": "2021-12-28T19:17:00.586099Z",
     "iopub.status.idle": "2021-12-28T19:17:00.608085Z",
     "shell.execute_reply": "2021-12-28T19:17:00.608654Z",
     "shell.execute_reply.started": "2021-12-28T00:21:53.061854Z"
    },
    "papermill": {
     "duration": 0.086608,
     "end_time": "2021-12-28T19:17:00.608830",
     "exception": false,
     "start_time": "2021-12-28T19:17:00.522222",
     "status": "completed"
    },
    "tags": []
   },
   "outputs": [
    {
     "data": {
      "text/html": [
       "<div>\n",
       "<style scoped>\n",
       "    .dataframe tbody tr th:only-of-type {\n",
       "        vertical-align: middle;\n",
       "    }\n",
       "\n",
       "    .dataframe tbody tr th {\n",
       "        vertical-align: top;\n",
       "    }\n",
       "\n",
       "    .dataframe thead th {\n",
       "        text-align: right;\n",
       "    }\n",
       "</style>\n",
       "<table border=\"1\" class=\"dataframe\">\n",
       "  <thead>\n",
       "    <tr style=\"text-align: right;\">\n",
       "      <th></th>\n",
       "      <th>area_type</th>\n",
       "      <th>availability</th>\n",
       "      <th>location</th>\n",
       "      <th>size</th>\n",
       "      <th>society</th>\n",
       "      <th>total_sqft</th>\n",
       "      <th>bath</th>\n",
       "      <th>balcony</th>\n",
       "      <th>price</th>\n",
       "    </tr>\n",
       "  </thead>\n",
       "  <tbody>\n",
       "    <tr>\n",
       "      <th>0</th>\n",
       "      <td>Super built-up  Area</td>\n",
       "      <td>19-Dec</td>\n",
       "      <td>Electronic City Phase II</td>\n",
       "      <td>2 BHK</td>\n",
       "      <td>Coomee</td>\n",
       "      <td>1056</td>\n",
       "      <td>2.0</td>\n",
       "      <td>1.0</td>\n",
       "      <td>39.07</td>\n",
       "    </tr>\n",
       "    <tr>\n",
       "      <th>1</th>\n",
       "      <td>Plot  Area</td>\n",
       "      <td>Ready To Move</td>\n",
       "      <td>Chikka Tirupathi</td>\n",
       "      <td>4 Bedroom</td>\n",
       "      <td>Theanmp</td>\n",
       "      <td>2600</td>\n",
       "      <td>5.0</td>\n",
       "      <td>3.0</td>\n",
       "      <td>120.00</td>\n",
       "    </tr>\n",
       "    <tr>\n",
       "      <th>2</th>\n",
       "      <td>Built-up  Area</td>\n",
       "      <td>Ready To Move</td>\n",
       "      <td>Uttarahalli</td>\n",
       "      <td>3 BHK</td>\n",
       "      <td>NaN</td>\n",
       "      <td>1440</td>\n",
       "      <td>2.0</td>\n",
       "      <td>3.0</td>\n",
       "      <td>62.00</td>\n",
       "    </tr>\n",
       "    <tr>\n",
       "      <th>3</th>\n",
       "      <td>Super built-up  Area</td>\n",
       "      <td>Ready To Move</td>\n",
       "      <td>Lingadheeranahalli</td>\n",
       "      <td>3 BHK</td>\n",
       "      <td>Soiewre</td>\n",
       "      <td>1521</td>\n",
       "      <td>3.0</td>\n",
       "      <td>1.0</td>\n",
       "      <td>95.00</td>\n",
       "    </tr>\n",
       "    <tr>\n",
       "      <th>4</th>\n",
       "      <td>Super built-up  Area</td>\n",
       "      <td>Ready To Move</td>\n",
       "      <td>Kothanur</td>\n",
       "      <td>2 BHK</td>\n",
       "      <td>NaN</td>\n",
       "      <td>1200</td>\n",
       "      <td>2.0</td>\n",
       "      <td>1.0</td>\n",
       "      <td>51.00</td>\n",
       "    </tr>\n",
       "    <tr>\n",
       "      <th>...</th>\n",
       "      <td>...</td>\n",
       "      <td>...</td>\n",
       "      <td>...</td>\n",
       "      <td>...</td>\n",
       "      <td>...</td>\n",
       "      <td>...</td>\n",
       "      <td>...</td>\n",
       "      <td>...</td>\n",
       "      <td>...</td>\n",
       "    </tr>\n",
       "    <tr>\n",
       "      <th>13315</th>\n",
       "      <td>Built-up  Area</td>\n",
       "      <td>Ready To Move</td>\n",
       "      <td>Whitefield</td>\n",
       "      <td>5 Bedroom</td>\n",
       "      <td>ArsiaEx</td>\n",
       "      <td>3453</td>\n",
       "      <td>4.0</td>\n",
       "      <td>0.0</td>\n",
       "      <td>231.00</td>\n",
       "    </tr>\n",
       "    <tr>\n",
       "      <th>13316</th>\n",
       "      <td>Super built-up  Area</td>\n",
       "      <td>Ready To Move</td>\n",
       "      <td>Richards Town</td>\n",
       "      <td>4 BHK</td>\n",
       "      <td>NaN</td>\n",
       "      <td>3600</td>\n",
       "      <td>5.0</td>\n",
       "      <td>2.0</td>\n",
       "      <td>400.00</td>\n",
       "    </tr>\n",
       "    <tr>\n",
       "      <th>13317</th>\n",
       "      <td>Built-up  Area</td>\n",
       "      <td>Ready To Move</td>\n",
       "      <td>Raja Rajeshwari Nagar</td>\n",
       "      <td>2 BHK</td>\n",
       "      <td>Mahla T</td>\n",
       "      <td>1141</td>\n",
       "      <td>2.0</td>\n",
       "      <td>1.0</td>\n",
       "      <td>60.00</td>\n",
       "    </tr>\n",
       "    <tr>\n",
       "      <th>13318</th>\n",
       "      <td>Super built-up  Area</td>\n",
       "      <td>18-Jun</td>\n",
       "      <td>Padmanabhanagar</td>\n",
       "      <td>4 BHK</td>\n",
       "      <td>SollyCl</td>\n",
       "      <td>4689</td>\n",
       "      <td>4.0</td>\n",
       "      <td>1.0</td>\n",
       "      <td>488.00</td>\n",
       "    </tr>\n",
       "    <tr>\n",
       "      <th>13319</th>\n",
       "      <td>Super built-up  Area</td>\n",
       "      <td>Ready To Move</td>\n",
       "      <td>Doddathoguru</td>\n",
       "      <td>1 BHK</td>\n",
       "      <td>NaN</td>\n",
       "      <td>550</td>\n",
       "      <td>1.0</td>\n",
       "      <td>1.0</td>\n",
       "      <td>17.00</td>\n",
       "    </tr>\n",
       "  </tbody>\n",
       "</table>\n",
       "<p>13320 rows × 9 columns</p>\n",
       "</div>"
      ],
      "text/plain": [
       "                  area_type   availability                  location  \\\n",
       "0      Super built-up  Area         19-Dec  Electronic City Phase II   \n",
       "1                Plot  Area  Ready To Move          Chikka Tirupathi   \n",
       "2            Built-up  Area  Ready To Move               Uttarahalli   \n",
       "3      Super built-up  Area  Ready To Move        Lingadheeranahalli   \n",
       "4      Super built-up  Area  Ready To Move                  Kothanur   \n",
       "...                     ...            ...                       ...   \n",
       "13315        Built-up  Area  Ready To Move                Whitefield   \n",
       "13316  Super built-up  Area  Ready To Move             Richards Town   \n",
       "13317        Built-up  Area  Ready To Move     Raja Rajeshwari Nagar   \n",
       "13318  Super built-up  Area         18-Jun           Padmanabhanagar   \n",
       "13319  Super built-up  Area  Ready To Move              Doddathoguru   \n",
       "\n",
       "            size  society total_sqft  bath  balcony   price  \n",
       "0          2 BHK  Coomee        1056   2.0      1.0   39.07  \n",
       "1      4 Bedroom  Theanmp       2600   5.0      3.0  120.00  \n",
       "2          3 BHK      NaN       1440   2.0      3.0   62.00  \n",
       "3          3 BHK  Soiewre       1521   3.0      1.0   95.00  \n",
       "4          2 BHK      NaN       1200   2.0      1.0   51.00  \n",
       "...          ...      ...        ...   ...      ...     ...  \n",
       "13315  5 Bedroom  ArsiaEx       3453   4.0      0.0  231.00  \n",
       "13316      4 BHK      NaN       3600   5.0      2.0  400.00  \n",
       "13317      2 BHK  Mahla T       1141   2.0      1.0   60.00  \n",
       "13318      4 BHK  SollyCl       4689   4.0      1.0  488.00  \n",
       "13319      1 BHK      NaN        550   1.0      1.0   17.00  \n",
       "\n",
       "[13320 rows x 9 columns]"
      ]
     },
     "execution_count": 9,
     "metadata": {},
     "output_type": "execute_result"
    }
   ],
   "source": [
    "#handling balcony missing vaule in bacony using simple imputer\n",
    "Imp = SimpleImputer(missing_values=np.NaN, strategy='median')\n",
    "df.balcony=pd.DataFrame(Imp.fit_transform(df['balcony'].values.reshape(-1,1))[:,0])\n",
    "\n",
    "#values.reshap means that you are not sure about what number of rows or columns you can give and you are asking numpy\n",
    "#to suggest a number of column or rows to get reshaped in.\n",
    "df"
   ]
  },
  {
   "cell_type": "markdown",
   "id": "22ac8186",
   "metadata": {
    "papermill": {
     "duration": 0.056979,
     "end_time": "2021-12-28T19:17:00.723733",
     "exception": false,
     "start_time": "2021-12-28T19:17:00.666754",
     "status": "completed"
    },
    "tags": []
   },
   "source": [
    "so using simple imputer will work for us and also there is not much of a deviation in the data  'Balcony' .Again there are multiple ways to do this but here we are using simpleimputer."
   ]
  },
  {
   "cell_type": "code",
   "execution_count": 10,
   "id": "3166899c",
   "metadata": {
    "execution": {
     "iopub.execute_input": "2021-12-28T19:17:00.845167Z",
     "iopub.status.busy": "2021-12-28T19:17:00.844500Z",
     "iopub.status.idle": "2021-12-28T19:17:00.860236Z",
     "shell.execute_reply": "2021-12-28T19:17:00.859671Z",
     "shell.execute_reply.started": "2021-12-28T00:21:53.093112Z"
    },
    "papermill": {
     "duration": 0.07807,
     "end_time": "2021-12-28T19:17:00.860386",
     "exception": false,
     "start_time": "2021-12-28T19:17:00.782316",
     "status": "completed"
    },
    "tags": []
   },
   "outputs": [],
   "source": [
    "#drop column socitey and all the other missing values \n",
    "\n",
    "df=df.drop(columns=['society'])\n",
    "df=df.dropna()"
   ]
  },
  {
   "cell_type": "markdown",
   "id": "f1478133",
   "metadata": {
    "papermill": {
     "duration": 0.056574,
     "end_time": "2021-12-28T19:17:00.974890",
     "exception": false,
     "start_time": "2021-12-28T19:17:00.918316",
     "status": "completed"
    },
    "tags": []
   },
   "source": [
    "### Understanding the data"
   ]
  },
  {
   "cell_type": "code",
   "execution_count": 11,
   "id": "ebe9da5a",
   "metadata": {
    "execution": {
     "iopub.execute_input": "2021-12-28T19:17:01.097540Z",
     "iopub.status.busy": "2021-12-28T19:17:01.096328Z",
     "iopub.status.idle": "2021-12-28T19:17:01.099808Z",
     "shell.execute_reply": "2021-12-28T19:17:01.100358Z",
     "shell.execute_reply.started": "2021-12-28T00:21:53.111546Z"
    },
    "papermill": {
     "duration": 0.068953,
     "end_time": "2021-12-28T19:17:01.100547",
     "exception": false,
     "start_time": "2021-12-28T19:17:01.031594",
     "status": "completed"
    },
    "tags": []
   },
   "outputs": [],
   "source": [
    "#encoding the cateogrical variables\n",
    "\n",
    "\n",
    "df['availability']=np.where(df['availability']=='Ready To Move',1,0)"
   ]
  },
  {
   "cell_type": "code",
   "execution_count": 12,
   "id": "126f7dfd",
   "metadata": {
    "execution": {
     "iopub.execute_input": "2021-12-28T19:17:01.224362Z",
     "iopub.status.busy": "2021-12-28T19:17:01.223442Z",
     "iopub.status.idle": "2021-12-28T19:17:01.226437Z",
     "shell.execute_reply": "2021-12-28T19:17:01.225827Z",
     "shell.execute_reply.started": "2021-12-28T00:21:53.122911Z"
    },
    "papermill": {
     "duration": 0.066516,
     "end_time": "2021-12-28T19:17:01.226594",
     "exception": false,
     "start_time": "2021-12-28T19:17:01.160078",
     "status": "completed"
    },
    "tags": []
   },
   "outputs": [],
   "source": [
    "# handling range values in total_sqft\n",
    "# we will first extract all those records which has \"-\" in it and then extract them and then  find the average of those numbers.\n",
    "\n",
    "def is_float(x):\n",
    "    try:\n",
    "        float(x)\n",
    "    except:\n",
    "        return False\n",
    "    return True"
   ]
  },
  {
   "cell_type": "code",
   "execution_count": 13,
   "id": "3a6a38c1",
   "metadata": {
    "execution": {
     "iopub.execute_input": "2021-12-28T19:17:01.368930Z",
     "iopub.status.busy": "2021-12-28T19:17:01.367957Z",
     "iopub.status.idle": "2021-12-28T19:17:01.372411Z",
     "shell.execute_reply": "2021-12-28T19:17:01.371829Z",
     "shell.execute_reply.started": "2021-12-28T00:21:53.131785Z"
    },
    "papermill": {
     "duration": 0.086313,
     "end_time": "2021-12-28T19:17:01.372556",
     "exception": false,
     "start_time": "2021-12-28T19:17:01.286243",
     "status": "completed"
    },
    "tags": []
   },
   "outputs": [
    {
     "data": {
      "text/html": [
       "<div>\n",
       "<style scoped>\n",
       "    .dataframe tbody tr th:only-of-type {\n",
       "        vertical-align: middle;\n",
       "    }\n",
       "\n",
       "    .dataframe tbody tr th {\n",
       "        vertical-align: top;\n",
       "    }\n",
       "\n",
       "    .dataframe thead th {\n",
       "        text-align: right;\n",
       "    }\n",
       "</style>\n",
       "<table border=\"1\" class=\"dataframe\">\n",
       "  <thead>\n",
       "    <tr style=\"text-align: right;\">\n",
       "      <th></th>\n",
       "      <th>area_type</th>\n",
       "      <th>availability</th>\n",
       "      <th>location</th>\n",
       "      <th>size</th>\n",
       "      <th>total_sqft</th>\n",
       "      <th>bath</th>\n",
       "      <th>balcony</th>\n",
       "      <th>price</th>\n",
       "    </tr>\n",
       "  </thead>\n",
       "  <tbody>\n",
       "    <tr>\n",
       "      <th>30</th>\n",
       "      <td>Super built-up  Area</td>\n",
       "      <td>0</td>\n",
       "      <td>Yelahanka</td>\n",
       "      <td>4 BHK</td>\n",
       "      <td>2100 - 2850</td>\n",
       "      <td>4.0</td>\n",
       "      <td>0.0</td>\n",
       "      <td>186.000</td>\n",
       "    </tr>\n",
       "    <tr>\n",
       "      <th>122</th>\n",
       "      <td>Super built-up  Area</td>\n",
       "      <td>0</td>\n",
       "      <td>Hebbal</td>\n",
       "      <td>4 BHK</td>\n",
       "      <td>3067 - 8156</td>\n",
       "      <td>4.0</td>\n",
       "      <td>0.0</td>\n",
       "      <td>477.000</td>\n",
       "    </tr>\n",
       "    <tr>\n",
       "      <th>137</th>\n",
       "      <td>Super built-up  Area</td>\n",
       "      <td>0</td>\n",
       "      <td>8th Phase JP Nagar</td>\n",
       "      <td>2 BHK</td>\n",
       "      <td>1042 - 1105</td>\n",
       "      <td>2.0</td>\n",
       "      <td>0.0</td>\n",
       "      <td>54.005</td>\n",
       "    </tr>\n",
       "    <tr>\n",
       "      <th>165</th>\n",
       "      <td>Super built-up  Area</td>\n",
       "      <td>0</td>\n",
       "      <td>Sarjapur</td>\n",
       "      <td>2 BHK</td>\n",
       "      <td>1145 - 1340</td>\n",
       "      <td>2.0</td>\n",
       "      <td>0.0</td>\n",
       "      <td>43.490</td>\n",
       "    </tr>\n",
       "    <tr>\n",
       "      <th>188</th>\n",
       "      <td>Super built-up  Area</td>\n",
       "      <td>1</td>\n",
       "      <td>KR Puram</td>\n",
       "      <td>2 BHK</td>\n",
       "      <td>1015 - 1540</td>\n",
       "      <td>2.0</td>\n",
       "      <td>0.0</td>\n",
       "      <td>56.800</td>\n",
       "    </tr>\n",
       "    <tr>\n",
       "      <th>410</th>\n",
       "      <td>Super built-up  Area</td>\n",
       "      <td>1</td>\n",
       "      <td>Kengeri</td>\n",
       "      <td>1 BHK</td>\n",
       "      <td>34.46Sq. Meter</td>\n",
       "      <td>1.0</td>\n",
       "      <td>0.0</td>\n",
       "      <td>18.500</td>\n",
       "    </tr>\n",
       "    <tr>\n",
       "      <th>549</th>\n",
       "      <td>Super built-up  Area</td>\n",
       "      <td>0</td>\n",
       "      <td>Hennur Road</td>\n",
       "      <td>2 BHK</td>\n",
       "      <td>1195 - 1440</td>\n",
       "      <td>2.0</td>\n",
       "      <td>0.0</td>\n",
       "      <td>63.770</td>\n",
       "    </tr>\n",
       "    <tr>\n",
       "      <th>648</th>\n",
       "      <td>Built-up  Area</td>\n",
       "      <td>1</td>\n",
       "      <td>Arekere</td>\n",
       "      <td>9 Bedroom</td>\n",
       "      <td>4125Perch</td>\n",
       "      <td>9.0</td>\n",
       "      <td>2.0</td>\n",
       "      <td>265.000</td>\n",
       "    </tr>\n",
       "    <tr>\n",
       "      <th>661</th>\n",
       "      <td>Super built-up  Area</td>\n",
       "      <td>1</td>\n",
       "      <td>Yelahanka</td>\n",
       "      <td>2 BHK</td>\n",
       "      <td>1120 - 1145</td>\n",
       "      <td>2.0</td>\n",
       "      <td>0.0</td>\n",
       "      <td>48.130</td>\n",
       "    </tr>\n",
       "    <tr>\n",
       "      <th>672</th>\n",
       "      <td>Built-up  Area</td>\n",
       "      <td>0</td>\n",
       "      <td>Bettahalsoor</td>\n",
       "      <td>4 Bedroom</td>\n",
       "      <td>3090 - 5002</td>\n",
       "      <td>4.0</td>\n",
       "      <td>0.0</td>\n",
       "      <td>445.000</td>\n",
       "    </tr>\n",
       "  </tbody>\n",
       "</table>\n",
       "</div>"
      ],
      "text/plain": [
       "                area_type  availability            location       size  \\\n",
       "30   Super built-up  Area             0           Yelahanka      4 BHK   \n",
       "122  Super built-up  Area             0              Hebbal      4 BHK   \n",
       "137  Super built-up  Area             0  8th Phase JP Nagar      2 BHK   \n",
       "165  Super built-up  Area             0            Sarjapur      2 BHK   \n",
       "188  Super built-up  Area             1            KR Puram      2 BHK   \n",
       "410  Super built-up  Area             1             Kengeri      1 BHK   \n",
       "549  Super built-up  Area             0         Hennur Road      2 BHK   \n",
       "648        Built-up  Area             1             Arekere  9 Bedroom   \n",
       "661  Super built-up  Area             1           Yelahanka      2 BHK   \n",
       "672        Built-up  Area             0        Bettahalsoor  4 Bedroom   \n",
       "\n",
       "         total_sqft  bath  balcony    price  \n",
       "30      2100 - 2850   4.0      0.0  186.000  \n",
       "122     3067 - 8156   4.0      0.0  477.000  \n",
       "137     1042 - 1105   2.0      0.0   54.005  \n",
       "165     1145 - 1340   2.0      0.0   43.490  \n",
       "188     1015 - 1540   2.0      0.0   56.800  \n",
       "410  34.46Sq. Meter   1.0      0.0   18.500  \n",
       "549     1195 - 1440   2.0      0.0   63.770  \n",
       "648       4125Perch   9.0      2.0  265.000  \n",
       "661     1120 - 1145   2.0      0.0   48.130  \n",
       "672     3090 - 5002   4.0      0.0  445.000  "
      ]
     },
     "execution_count": 13,
     "metadata": {},
     "output_type": "execute_result"
    }
   ],
   "source": [
    "df[~df['total_sqft'].apply(is_float)].head(10)"
   ]
  },
  {
   "cell_type": "markdown",
   "id": "5aae19f2",
   "metadata": {
    "papermill": {
     "duration": 0.057006,
     "end_time": "2021-12-28T19:17:01.487189",
     "exception": false,
     "start_time": "2021-12-28T19:17:01.430183",
     "status": "completed"
    },
    "tags": []
   },
   "source": [
    "we can see we have total _sqft in  sq. meter and perch,for now we will park those values aside and focus on the range average"
   ]
  },
  {
   "cell_type": "code",
   "execution_count": 14,
   "id": "6fb405c1",
   "metadata": {
    "execution": {
     "iopub.execute_input": "2021-12-28T19:17:01.611349Z",
     "iopub.status.busy": "2021-12-28T19:17:01.610593Z",
     "iopub.status.idle": "2021-12-28T19:17:01.612552Z",
     "shell.execute_reply": "2021-12-28T19:17:01.613059Z",
     "shell.execute_reply.started": "2021-12-28T00:21:53.165467Z"
    },
    "papermill": {
     "duration": 0.067182,
     "end_time": "2021-12-28T19:17:01.613242",
     "exception": false,
     "start_time": "2021-12-28T19:17:01.546060",
     "status": "completed"
    },
    "tags": []
   },
   "outputs": [],
   "source": [
    "def convert_sqft_to_num(x):\n",
    "    tokens=x.split('-')\n",
    "    if len(tokens) == 2: \n",
    "        return(float(tokens[0])+float(tokens[1]))/2\n",
    "    try:\n",
    "        return float(x)\n",
    "    except:\n",
    "        #return x--> we will use this for future conversion of sqmt and yard and acres\n",
    "        return None"
   ]
  },
  {
   "cell_type": "code",
   "execution_count": 15,
   "id": "8bb16983",
   "metadata": {
    "execution": {
     "iopub.execute_input": "2021-12-28T19:17:01.752292Z",
     "iopub.status.busy": "2021-12-28T19:17:01.751209Z",
     "iopub.status.idle": "2021-12-28T19:17:01.788204Z",
     "shell.execute_reply": "2021-12-28T19:17:01.789020Z",
     "shell.execute_reply.started": "2021-12-28T00:21:53.172577Z"
    },
    "papermill": {
     "duration": 0.110441,
     "end_time": "2021-12-28T19:17:01.789289",
     "exception": false,
     "start_time": "2021-12-28T19:17:01.678848",
     "status": "completed"
    },
    "tags": []
   },
   "outputs": [
    {
     "data": {
      "text/html": [
       "<div>\n",
       "<style scoped>\n",
       "    .dataframe tbody tr th:only-of-type {\n",
       "        vertical-align: middle;\n",
       "    }\n",
       "\n",
       "    .dataframe tbody tr th {\n",
       "        vertical-align: top;\n",
       "    }\n",
       "\n",
       "    .dataframe thead th {\n",
       "        text-align: right;\n",
       "    }\n",
       "</style>\n",
       "<table border=\"1\" class=\"dataframe\">\n",
       "  <thead>\n",
       "    <tr style=\"text-align: right;\">\n",
       "      <th></th>\n",
       "      <th>area_type</th>\n",
       "      <th>availability</th>\n",
       "      <th>location</th>\n",
       "      <th>size</th>\n",
       "      <th>total_sqft</th>\n",
       "      <th>bath</th>\n",
       "      <th>balcony</th>\n",
       "      <th>price</th>\n",
       "    </tr>\n",
       "  </thead>\n",
       "  <tbody>\n",
       "    <tr>\n",
       "      <th>0</th>\n",
       "      <td>Super built-up  Area</td>\n",
       "      <td>0</td>\n",
       "      <td>Electronic City Phase II</td>\n",
       "      <td>2 BHK</td>\n",
       "      <td>1056.0</td>\n",
       "      <td>2.0</td>\n",
       "      <td>1.0</td>\n",
       "      <td>39.07</td>\n",
       "    </tr>\n",
       "    <tr>\n",
       "      <th>1</th>\n",
       "      <td>Plot  Area</td>\n",
       "      <td>1</td>\n",
       "      <td>Chikka Tirupathi</td>\n",
       "      <td>4 Bedroom</td>\n",
       "      <td>2600.0</td>\n",
       "      <td>5.0</td>\n",
       "      <td>3.0</td>\n",
       "      <td>120.00</td>\n",
       "    </tr>\n",
       "    <tr>\n",
       "      <th>2</th>\n",
       "      <td>Built-up  Area</td>\n",
       "      <td>1</td>\n",
       "      <td>Uttarahalli</td>\n",
       "      <td>3 BHK</td>\n",
       "      <td>1440.0</td>\n",
       "      <td>2.0</td>\n",
       "      <td>3.0</td>\n",
       "      <td>62.00</td>\n",
       "    </tr>\n",
       "    <tr>\n",
       "      <th>3</th>\n",
       "      <td>Super built-up  Area</td>\n",
       "      <td>1</td>\n",
       "      <td>Lingadheeranahalli</td>\n",
       "      <td>3 BHK</td>\n",
       "      <td>1521.0</td>\n",
       "      <td>3.0</td>\n",
       "      <td>1.0</td>\n",
       "      <td>95.00</td>\n",
       "    </tr>\n",
       "    <tr>\n",
       "      <th>4</th>\n",
       "      <td>Super built-up  Area</td>\n",
       "      <td>1</td>\n",
       "      <td>Kothanur</td>\n",
       "      <td>2 BHK</td>\n",
       "      <td>1200.0</td>\n",
       "      <td>2.0</td>\n",
       "      <td>1.0</td>\n",
       "      <td>51.00</td>\n",
       "    </tr>\n",
       "  </tbody>\n",
       "</table>\n",
       "</div>"
      ],
      "text/plain": [
       "              area_type  availability                  location       size  \\\n",
       "0  Super built-up  Area             0  Electronic City Phase II      2 BHK   \n",
       "1            Plot  Area             1          Chikka Tirupathi  4 Bedroom   \n",
       "2        Built-up  Area             1               Uttarahalli      3 BHK   \n",
       "3  Super built-up  Area             1        Lingadheeranahalli      3 BHK   \n",
       "4  Super built-up  Area             1                  Kothanur      2 BHK   \n",
       "\n",
       "   total_sqft  bath  balcony   price  \n",
       "0      1056.0   2.0      1.0   39.07  \n",
       "1      2600.0   5.0      3.0  120.00  \n",
       "2      1440.0   2.0      3.0   62.00  \n",
       "3      1521.0   3.0      1.0   95.00  \n",
       "4      1200.0   2.0      1.0   51.00  "
      ]
     },
     "execution_count": 15,
     "metadata": {},
     "output_type": "execute_result"
    }
   ],
   "source": [
    "df1=df.copy()\n",
    "df1['total_sqft']=df1['total_sqft'].apply(convert_sqft_to_num)\n",
    "df1.head()"
   ]
  },
  {
   "cell_type": "code",
   "execution_count": 16,
   "id": "cd023b4c",
   "metadata": {
    "execution": {
     "iopub.execute_input": "2021-12-28T19:17:01.928837Z",
     "iopub.status.busy": "2021-12-28T19:17:01.927848Z",
     "iopub.status.idle": "2021-12-28T19:17:01.946200Z",
     "shell.execute_reply": "2021-12-28T19:17:01.946776Z",
     "shell.execute_reply.started": "2021-12-28T00:21:53.211583Z"
    },
    "papermill": {
     "duration": 0.093277,
     "end_time": "2021-12-28T19:17:01.946966",
     "exception": false,
     "start_time": "2021-12-28T19:17:01.853689",
     "status": "completed"
    },
    "tags": []
   },
   "outputs": [
    {
     "data": {
      "text/html": [
       "<div>\n",
       "<style scoped>\n",
       "    .dataframe tbody tr th:only-of-type {\n",
       "        vertical-align: middle;\n",
       "    }\n",
       "\n",
       "    .dataframe tbody tr th {\n",
       "        vertical-align: top;\n",
       "    }\n",
       "\n",
       "    .dataframe thead th {\n",
       "        text-align: right;\n",
       "    }\n",
       "</style>\n",
       "<table border=\"1\" class=\"dataframe\">\n",
       "  <thead>\n",
       "    <tr style=\"text-align: right;\">\n",
       "      <th></th>\n",
       "      <th>area_type</th>\n",
       "      <th>availability</th>\n",
       "      <th>location</th>\n",
       "      <th>size</th>\n",
       "      <th>total_sqft</th>\n",
       "      <th>bath</th>\n",
       "      <th>balcony</th>\n",
       "      <th>price</th>\n",
       "      <th>ppsqft</th>\n",
       "    </tr>\n",
       "  </thead>\n",
       "  <tbody>\n",
       "    <tr>\n",
       "      <th>0</th>\n",
       "      <td>Super built-up  Area</td>\n",
       "      <td>0</td>\n",
       "      <td>Electronic City Phase II</td>\n",
       "      <td>2 BHK</td>\n",
       "      <td>1056.0</td>\n",
       "      <td>2.0</td>\n",
       "      <td>1.0</td>\n",
       "      <td>39.07</td>\n",
       "      <td>3699.810606</td>\n",
       "    </tr>\n",
       "    <tr>\n",
       "      <th>1</th>\n",
       "      <td>Plot  Area</td>\n",
       "      <td>1</td>\n",
       "      <td>Chikka Tirupathi</td>\n",
       "      <td>4 Bedroom</td>\n",
       "      <td>2600.0</td>\n",
       "      <td>5.0</td>\n",
       "      <td>3.0</td>\n",
       "      <td>120.00</td>\n",
       "      <td>4615.384615</td>\n",
       "    </tr>\n",
       "    <tr>\n",
       "      <th>2</th>\n",
       "      <td>Built-up  Area</td>\n",
       "      <td>1</td>\n",
       "      <td>Uttarahalli</td>\n",
       "      <td>3 BHK</td>\n",
       "      <td>1440.0</td>\n",
       "      <td>2.0</td>\n",
       "      <td>3.0</td>\n",
       "      <td>62.00</td>\n",
       "      <td>4305.555556</td>\n",
       "    </tr>\n",
       "    <tr>\n",
       "      <th>3</th>\n",
       "      <td>Super built-up  Area</td>\n",
       "      <td>1</td>\n",
       "      <td>Lingadheeranahalli</td>\n",
       "      <td>3 BHK</td>\n",
       "      <td>1521.0</td>\n",
       "      <td>3.0</td>\n",
       "      <td>1.0</td>\n",
       "      <td>95.00</td>\n",
       "      <td>6245.890861</td>\n",
       "    </tr>\n",
       "    <tr>\n",
       "      <th>4</th>\n",
       "      <td>Super built-up  Area</td>\n",
       "      <td>1</td>\n",
       "      <td>Kothanur</td>\n",
       "      <td>2 BHK</td>\n",
       "      <td>1200.0</td>\n",
       "      <td>2.0</td>\n",
       "      <td>1.0</td>\n",
       "      <td>51.00</td>\n",
       "      <td>4250.000000</td>\n",
       "    </tr>\n",
       "  </tbody>\n",
       "</table>\n",
       "</div>"
      ],
      "text/plain": [
       "              area_type  availability                  location       size  \\\n",
       "0  Super built-up  Area             0  Electronic City Phase II      2 BHK   \n",
       "1            Plot  Area             1          Chikka Tirupathi  4 Bedroom   \n",
       "2        Built-up  Area             1               Uttarahalli      3 BHK   \n",
       "3  Super built-up  Area             1        Lingadheeranahalli      3 BHK   \n",
       "4  Super built-up  Area             1                  Kothanur      2 BHK   \n",
       "\n",
       "   total_sqft  bath  balcony   price       ppsqft  \n",
       "0      1056.0   2.0      1.0   39.07  3699.810606  \n",
       "1      2600.0   5.0      3.0  120.00  4615.384615  \n",
       "2      1440.0   2.0      3.0   62.00  4305.555556  \n",
       "3      1521.0   3.0      1.0   95.00  6245.890861  \n",
       "4      1200.0   2.0      1.0   51.00  4250.000000  "
      ]
     },
     "execution_count": 16,
     "metadata": {},
     "output_type": "execute_result"
    }
   ],
   "source": [
    "# price per sqft\n",
    "df2=df1.copy()\n",
    "df2['ppsqft']=df2['price']*100000/df2['total_sqft']\n",
    "df2.head()"
   ]
  },
  {
   "cell_type": "code",
   "execution_count": 17,
   "id": "d5119559",
   "metadata": {
    "execution": {
     "iopub.execute_input": "2021-12-28T19:17:02.078397Z",
     "iopub.status.busy": "2021-12-28T19:17:02.077628Z",
     "iopub.status.idle": "2021-12-28T19:17:02.107025Z",
     "shell.execute_reply": "2021-12-28T19:17:02.106418Z",
     "shell.execute_reply.started": "2021-12-28T00:21:53.235502Z"
    },
    "papermill": {
     "duration": 0.091788,
     "end_time": "2021-12-28T19:17:02.107178",
     "exception": false,
     "start_time": "2021-12-28T19:17:02.015390",
     "status": "completed"
    },
    "tags": []
   },
   "outputs": [
    {
     "data": {
      "text/plain": [
       "location\n",
       "Basapura                 10\n",
       "1st Block Koramangala    10\n",
       "Gunjur Palya             10\n",
       "Kalkere                  10\n",
       "Sector 1 HSR Layout      10\n",
       "                         ..\n",
       "1 Giri Nagar              1\n",
       "Kanakapura Road,          1\n",
       "Kanakapura main  Road     1\n",
       "Karnataka Shabarimala     1\n",
       "whitefiled                1\n",
       "Name: location, Length: 1052, dtype: int64"
      ]
     },
     "execution_count": 17,
     "metadata": {},
     "output_type": "execute_result"
    }
   ],
   "source": [
    "#handling location column\n",
    "\n",
    "en_label = preprocessing.LabelEncoder()\n",
    "\n",
    "#for i in df.select_dtypes('object'):\n",
    "#df['location']= en_label.fit_transform(df['location'])\n",
    "# curse of dimensionality so if we are doing one hot encoding or label enoding it won't be good ,we will group the values here\n",
    "df3=df2.copy()\n",
    "df3['location']=df3['location'].apply(lambda x: x.strip())\n",
    "location_stats=df3.groupby('location')['location'].agg('count').sort_values(ascending=False)\n",
    "location_stats_lessthan10=(location_stats[location_stats<=10])#grouping the location which has less than 10 hits\n",
    "location_stats_lessthan10"
   ]
  },
  {
   "cell_type": "code",
   "execution_count": 18,
   "id": "b432d813",
   "metadata": {
    "execution": {
     "iopub.execute_input": "2021-12-28T19:17:02.237160Z",
     "iopub.status.busy": "2021-12-28T19:17:02.236312Z",
     "iopub.status.idle": "2021-12-28T19:17:02.239534Z",
     "shell.execute_reply": "2021-12-28T19:17:02.240054Z",
     "shell.execute_reply.started": "2021-12-28T00:21:53.259565Z"
    },
    "papermill": {
     "duration": 0.072095,
     "end_time": "2021-12-28T19:17:02.240232",
     "exception": false,
     "start_time": "2021-12-28T19:17:02.168137",
     "status": "completed"
    },
    "tags": []
   },
   "outputs": [
    {
     "data": {
      "text/plain": [
       "1293"
      ]
     },
     "execution_count": 18,
     "metadata": {},
     "output_type": "execute_result"
    }
   ],
   "source": [
    "len(df3.location.unique())"
   ]
  },
  {
   "cell_type": "code",
   "execution_count": 19,
   "id": "6d98425b",
   "metadata": {
    "execution": {
     "iopub.execute_input": "2021-12-28T19:17:02.365012Z",
     "iopub.status.busy": "2021-12-28T19:17:02.364003Z",
     "iopub.status.idle": "2021-12-28T19:17:02.388255Z",
     "shell.execute_reply": "2021-12-28T19:17:02.388846Z",
     "shell.execute_reply.started": "2021-12-28T00:21:53.269938Z"
    },
    "papermill": {
     "duration": 0.088437,
     "end_time": "2021-12-28T19:17:02.389068",
     "exception": false,
     "start_time": "2021-12-28T19:17:02.300631",
     "status": "completed"
    },
    "tags": []
   },
   "outputs": [],
   "source": [
    "#putting any tging with less than 10 location count as others\n",
    "df3.location=df3.location.apply(lambda x: 'other' if x in  location_stats_lessthan10 else x)#this will leave us with only 242 location"
   ]
  },
  {
   "cell_type": "code",
   "execution_count": 20,
   "id": "efb79ddd",
   "metadata": {
    "execution": {
     "iopub.execute_input": "2021-12-28T19:17:02.516053Z",
     "iopub.status.busy": "2021-12-28T19:17:02.515014Z",
     "iopub.status.idle": "2021-12-28T19:17:02.530027Z",
     "shell.execute_reply": "2021-12-28T19:17:02.530682Z",
     "shell.execute_reply.started": "2021-12-28T00:21:53.303663Z"
    },
    "papermill": {
     "duration": 0.079105,
     "end_time": "2021-12-28T19:17:02.530868",
     "exception": false,
     "start_time": "2021-12-28T19:17:02.451763",
     "status": "completed"
    },
    "tags": []
   },
   "outputs": [
    {
     "data": {
      "text/html": [
       "<div>\n",
       "<style scoped>\n",
       "    .dataframe tbody tr th:only-of-type {\n",
       "        vertical-align: middle;\n",
       "    }\n",
       "\n",
       "    .dataframe tbody tr th {\n",
       "        vertical-align: top;\n",
       "    }\n",
       "\n",
       "    .dataframe thead th {\n",
       "        text-align: right;\n",
       "    }\n",
       "</style>\n",
       "<table border=\"1\" class=\"dataframe\">\n",
       "  <thead>\n",
       "    <tr style=\"text-align: right;\">\n",
       "      <th></th>\n",
       "      <th>area_type</th>\n",
       "      <th>availability</th>\n",
       "      <th>location</th>\n",
       "      <th>size</th>\n",
       "      <th>total_sqft</th>\n",
       "      <th>bath</th>\n",
       "      <th>balcony</th>\n",
       "      <th>price</th>\n",
       "    </tr>\n",
       "  </thead>\n",
       "  <tbody>\n",
       "    <tr>\n",
       "      <th>0</th>\n",
       "      <td>Super built-up  Area</td>\n",
       "      <td>0</td>\n",
       "      <td>Electronic City Phase II</td>\n",
       "      <td>2 BHK</td>\n",
       "      <td>1056</td>\n",
       "      <td>2.0</td>\n",
       "      <td>1.0</td>\n",
       "      <td>39.07</td>\n",
       "    </tr>\n",
       "    <tr>\n",
       "      <th>1</th>\n",
       "      <td>Plot  Area</td>\n",
       "      <td>1</td>\n",
       "      <td>Chikka Tirupathi</td>\n",
       "      <td>4 Bedroom</td>\n",
       "      <td>2600</td>\n",
       "      <td>5.0</td>\n",
       "      <td>3.0</td>\n",
       "      <td>120.00</td>\n",
       "    </tr>\n",
       "    <tr>\n",
       "      <th>2</th>\n",
       "      <td>Built-up  Area</td>\n",
       "      <td>1</td>\n",
       "      <td>Uttarahalli</td>\n",
       "      <td>3 BHK</td>\n",
       "      <td>1440</td>\n",
       "      <td>2.0</td>\n",
       "      <td>3.0</td>\n",
       "      <td>62.00</td>\n",
       "    </tr>\n",
       "    <tr>\n",
       "      <th>3</th>\n",
       "      <td>Super built-up  Area</td>\n",
       "      <td>1</td>\n",
       "      <td>Lingadheeranahalli</td>\n",
       "      <td>3 BHK</td>\n",
       "      <td>1521</td>\n",
       "      <td>3.0</td>\n",
       "      <td>1.0</td>\n",
       "      <td>95.00</td>\n",
       "    </tr>\n",
       "    <tr>\n",
       "      <th>4</th>\n",
       "      <td>Super built-up  Area</td>\n",
       "      <td>1</td>\n",
       "      <td>Kothanur</td>\n",
       "      <td>2 BHK</td>\n",
       "      <td>1200</td>\n",
       "      <td>2.0</td>\n",
       "      <td>1.0</td>\n",
       "      <td>51.00</td>\n",
       "    </tr>\n",
       "  </tbody>\n",
       "</table>\n",
       "</div>"
      ],
      "text/plain": [
       "              area_type  availability                  location       size  \\\n",
       "0  Super built-up  Area             0  Electronic City Phase II      2 BHK   \n",
       "1            Plot  Area             1          Chikka Tirupathi  4 Bedroom   \n",
       "2        Built-up  Area             1               Uttarahalli      3 BHK   \n",
       "3  Super built-up  Area             1        Lingadheeranahalli      3 BHK   \n",
       "4  Super built-up  Area             1                  Kothanur      2 BHK   \n",
       "\n",
       "  total_sqft  bath  balcony   price  \n",
       "0       1056   2.0      1.0   39.07  \n",
       "1       2600   5.0      3.0  120.00  \n",
       "2       1440   2.0      3.0   62.00  \n",
       "3       1521   3.0      1.0   95.00  \n",
       "4       1200   2.0      1.0   51.00  "
      ]
     },
     "execution_count": 20,
     "metadata": {},
     "output_type": "execute_result"
    }
   ],
   "source": [
    "df.head()"
   ]
  },
  {
   "cell_type": "code",
   "execution_count": 21,
   "id": "29b386eb",
   "metadata": {
    "execution": {
     "iopub.execute_input": "2021-12-28T19:17:02.657725Z",
     "iopub.status.busy": "2021-12-28T19:17:02.656563Z",
     "iopub.status.idle": "2021-12-28T19:17:02.677837Z",
     "shell.execute_reply": "2021-12-28T19:17:02.678635Z",
     "shell.execute_reply.started": "2021-12-28T00:21:53.321215Z"
    },
    "papermill": {
     "duration": 0.086065,
     "end_time": "2021-12-28T19:17:02.678836",
     "exception": false,
     "start_time": "2021-12-28T19:17:02.592771",
     "status": "completed"
    },
    "tags": []
   },
   "outputs": [],
   "source": [
    "##extracting number of rooms and \n",
    "df4=df3.copy()\n",
    "def extract_num(x):\n",
    "    tokens=x.split(' ')\n",
    "    if len(tokens) == 2: \n",
    "        return(float(tokens[0]))\n",
    "    try:\n",
    "        return float(x)\n",
    "    except:\n",
    "        #return x--> we will use this for future conversion of sqmt and yard and acres\n",
    "        return None\n",
    "    \n",
    "df4.size=df4['size'].apply(extract_num)"
   ]
  },
  {
   "cell_type": "markdown",
   "id": "a59eba8e",
   "metadata": {
    "papermill": {
     "duration": 0.059893,
     "end_time": "2021-12-28T19:17:02.799498",
     "exception": false,
     "start_time": "2021-12-28T19:17:02.739605",
     "status": "completed"
    },
    "tags": []
   },
   "source": [
    "### Outlier detection "
   ]
  },
  {
   "cell_type": "code",
   "execution_count": 22,
   "id": "2cf621d4",
   "metadata": {
    "execution": {
     "iopub.execute_input": "2021-12-28T19:17:02.927197Z",
     "iopub.status.busy": "2021-12-28T19:17:02.926511Z",
     "iopub.status.idle": "2021-12-28T19:17:02.932450Z",
     "shell.execute_reply": "2021-12-28T19:17:02.933103Z",
     "shell.execute_reply.started": "2021-12-28T00:21:53.341485Z"
    },
    "papermill": {
     "duration": 0.073498,
     "end_time": "2021-12-28T19:17:02.933278",
     "exception": false,
     "start_time": "2021-12-28T19:17:02.859780",
     "status": "completed"
    },
    "tags": []
   },
   "outputs": [
    {
     "data": {
      "text/plain": [
       "(13246, 9)"
      ]
     },
     "execution_count": 22,
     "metadata": {},
     "output_type": "execute_result"
    }
   ],
   "source": [
    "df3.shape"
   ]
  },
  {
   "cell_type": "code",
   "execution_count": 23,
   "id": "b7294c13",
   "metadata": {
    "execution": {
     "iopub.execute_input": "2021-12-28T19:17:03.059511Z",
     "iopub.status.busy": "2021-12-28T19:17:03.058742Z",
     "iopub.status.idle": "2021-12-28T19:17:03.077035Z",
     "shell.execute_reply": "2021-12-28T19:17:03.077711Z",
     "shell.execute_reply.started": "2021-12-28T00:21:53.348307Z"
    },
    "papermill": {
     "duration": 0.082717,
     "end_time": "2021-12-28T19:17:03.077890",
     "exception": false,
     "start_time": "2021-12-28T19:17:02.995173",
     "status": "completed"
    },
    "tags": []
   },
   "outputs": [
    {
     "data": {
      "text/html": [
       "<div>\n",
       "<style scoped>\n",
       "    .dataframe tbody tr th:only-of-type {\n",
       "        vertical-align: middle;\n",
       "    }\n",
       "\n",
       "    .dataframe tbody tr th {\n",
       "        vertical-align: top;\n",
       "    }\n",
       "\n",
       "    .dataframe thead th {\n",
       "        text-align: right;\n",
       "    }\n",
       "</style>\n",
       "<table border=\"1\" class=\"dataframe\">\n",
       "  <thead>\n",
       "    <tr style=\"text-align: right;\">\n",
       "      <th></th>\n",
       "      <th>area_type</th>\n",
       "      <th>availability</th>\n",
       "      <th>location</th>\n",
       "      <th>size</th>\n",
       "      <th>total_sqft</th>\n",
       "      <th>bath</th>\n",
       "      <th>balcony</th>\n",
       "      <th>price</th>\n",
       "      <th>ppsqft</th>\n",
       "      <th>area_per_room</th>\n",
       "    </tr>\n",
       "  </thead>\n",
       "  <tbody>\n",
       "    <tr>\n",
       "      <th>0</th>\n",
       "      <td>Super built-up  Area</td>\n",
       "      <td>0</td>\n",
       "      <td>Electronic City Phase II</td>\n",
       "      <td>2.0</td>\n",
       "      <td>1056.0</td>\n",
       "      <td>2.0</td>\n",
       "      <td>1.0</td>\n",
       "      <td>39.07</td>\n",
       "      <td>3699.810606</td>\n",
       "      <td>528.0</td>\n",
       "    </tr>\n",
       "    <tr>\n",
       "      <th>1</th>\n",
       "      <td>Plot  Area</td>\n",
       "      <td>1</td>\n",
       "      <td>Chikka Tirupathi</td>\n",
       "      <td>4.0</td>\n",
       "      <td>2600.0</td>\n",
       "      <td>5.0</td>\n",
       "      <td>3.0</td>\n",
       "      <td>120.00</td>\n",
       "      <td>4615.384615</td>\n",
       "      <td>650.0</td>\n",
       "    </tr>\n",
       "    <tr>\n",
       "      <th>2</th>\n",
       "      <td>Built-up  Area</td>\n",
       "      <td>1</td>\n",
       "      <td>Uttarahalli</td>\n",
       "      <td>3.0</td>\n",
       "      <td>1440.0</td>\n",
       "      <td>2.0</td>\n",
       "      <td>3.0</td>\n",
       "      <td>62.00</td>\n",
       "      <td>4305.555556</td>\n",
       "      <td>480.0</td>\n",
       "    </tr>\n",
       "    <tr>\n",
       "      <th>3</th>\n",
       "      <td>Super built-up  Area</td>\n",
       "      <td>1</td>\n",
       "      <td>Lingadheeranahalli</td>\n",
       "      <td>3.0</td>\n",
       "      <td>1521.0</td>\n",
       "      <td>3.0</td>\n",
       "      <td>1.0</td>\n",
       "      <td>95.00</td>\n",
       "      <td>6245.890861</td>\n",
       "      <td>507.0</td>\n",
       "    </tr>\n",
       "    <tr>\n",
       "      <th>4</th>\n",
       "      <td>Super built-up  Area</td>\n",
       "      <td>1</td>\n",
       "      <td>Kothanur</td>\n",
       "      <td>2.0</td>\n",
       "      <td>1200.0</td>\n",
       "      <td>2.0</td>\n",
       "      <td>1.0</td>\n",
       "      <td>51.00</td>\n",
       "      <td>4250.000000</td>\n",
       "      <td>600.0</td>\n",
       "    </tr>\n",
       "  </tbody>\n",
       "</table>\n",
       "</div>"
      ],
      "text/plain": [
       "              area_type  availability                  location  size  \\\n",
       "0  Super built-up  Area             0  Electronic City Phase II   2.0   \n",
       "1            Plot  Area             1          Chikka Tirupathi   4.0   \n",
       "2        Built-up  Area             1               Uttarahalli   3.0   \n",
       "3  Super built-up  Area             1        Lingadheeranahalli   3.0   \n",
       "4  Super built-up  Area             1                  Kothanur   2.0   \n",
       "\n",
       "   total_sqft  bath  balcony   price       ppsqft  area_per_room  \n",
       "0      1056.0   2.0      1.0   39.07  3699.810606          528.0  \n",
       "1      2600.0   5.0      3.0  120.00  4615.384615          650.0  \n",
       "2      1440.0   2.0      3.0   62.00  4305.555556          480.0  \n",
       "3      1521.0   3.0      1.0   95.00  6245.890861          507.0  \n",
       "4      1200.0   2.0      1.0   51.00  4250.000000          600.0  "
      ]
     },
     "execution_count": 23,
     "metadata": {},
     "output_type": "execute_result"
    }
   ],
   "source": [
    "#getting the area per room\n",
    "df4['area_per_room']=df4['total_sqft']/df4['size']\n",
    "df4.head()"
   ]
  },
  {
   "cell_type": "markdown",
   "id": "593fa0fd",
   "metadata": {
    "papermill": {
     "duration": 0.061927,
     "end_time": "2021-12-28T19:17:03.201367",
     "exception": false,
     "start_time": "2021-12-28T19:17:03.139440",
     "status": "completed"
    },
    "tags": []
   },
   "source": []
  },
  {
   "cell_type": "markdown",
   "id": "ead375d2",
   "metadata": {
    "papermill": {
     "duration": 0.06141,
     "end_time": "2021-12-28T19:17:03.326379",
     "exception": false,
     "start_time": "2021-12-28T19:17:03.264969",
     "status": "completed"
    },
    "tags": []
   },
   "source": [
    "#### outlier removal process 1:\n",
    "##### remove records having area per room less than 300"
   ]
  },
  {
   "cell_type": "code",
   "execution_count": 24,
   "id": "cb8b9bb2",
   "metadata": {
    "execution": {
     "iopub.execute_input": "2021-12-28T19:17:03.454886Z",
     "iopub.status.busy": "2021-12-28T19:17:03.454214Z",
     "iopub.status.idle": "2021-12-28T19:17:03.462602Z",
     "shell.execute_reply": "2021-12-28T19:17:03.463286Z",
     "shell.execute_reply.started": "2021-12-28T00:21:53.375395Z"
    },
    "papermill": {
     "duration": 0.07558,
     "end_time": "2021-12-28T19:17:03.463472",
     "exception": false,
     "start_time": "2021-12-28T19:17:03.387892",
     "status": "completed"
    },
    "tags": []
   },
   "outputs": [
    {
     "data": {
      "text/plain": [
       "(12502, 10)"
      ]
     },
     "execution_count": 24,
     "metadata": {},
     "output_type": "execute_result"
    }
   ],
   "source": [
    "\n",
    "df5=df4[~(df4.area_per_room<300)]\n",
    "df5.shape"
   ]
  },
  {
   "cell_type": "markdown",
   "id": "78e5948f",
   "metadata": {
    "papermill": {
     "duration": 0.062477,
     "end_time": "2021-12-28T19:17:03.587876",
     "exception": false,
     "start_time": "2021-12-28T19:17:03.525399",
     "status": "completed"
    },
    "tags": []
   },
   "source": [
    "#### outlier removal process 2:\n",
    "##### we need to check and remove all the data pointers which are beyond 1st standerd deviation for all the location\n",
    "##### which means we need to find describe based on location"
   ]
  },
  {
   "cell_type": "code",
   "execution_count": 25,
   "id": "f0e8b6a3",
   "metadata": {
    "execution": {
     "iopub.execute_input": "2021-12-28T19:17:03.716388Z",
     "iopub.status.busy": "2021-12-28T19:17:03.715699Z",
     "iopub.status.idle": "2021-12-28T19:17:03.722068Z",
     "shell.execute_reply": "2021-12-28T19:17:03.722663Z",
     "shell.execute_reply.started": "2021-12-28T00:21:53.386501Z"
    },
    "papermill": {
     "duration": 0.073597,
     "end_time": "2021-12-28T19:17:03.722837",
     "exception": false,
     "start_time": "2021-12-28T19:17:03.649240",
     "status": "completed"
    },
    "tags": []
   },
   "outputs": [
    {
     "data": {
      "text/plain": [
       "count     12456.000000\n",
       "mean       6308.502826\n",
       "std        4168.127339\n",
       "min         267.829813\n",
       "25%        4210.526316\n",
       "50%        5294.117647\n",
       "75%        6916.666667\n",
       "max      176470.588235\n",
       "Name: ppsqft, dtype: float64"
      ]
     },
     "execution_count": 25,
     "metadata": {},
     "output_type": "execute_result"
    }
   ],
   "source": [
    "df5.ppsqft.describe()#we can see there are extrems end in the data."
   ]
  },
  {
   "cell_type": "code",
   "execution_count": 26,
   "id": "057a33b1",
   "metadata": {
    "execution": {
     "iopub.execute_input": "2021-12-28T19:17:03.854585Z",
     "iopub.status.busy": "2021-12-28T19:17:03.848718Z",
     "iopub.status.idle": "2021-12-28T19:17:04.387299Z",
     "shell.execute_reply": "2021-12-28T19:17:04.386718Z",
     "shell.execute_reply.started": "2021-12-28T00:21:53.400855Z"
    },
    "papermill": {
     "duration": 0.602879,
     "end_time": "2021-12-28T19:17:04.387443",
     "exception": false,
     "start_time": "2021-12-28T19:17:03.784564",
     "status": "completed"
    },
    "tags": []
   },
   "outputs": [
    {
     "data": {
      "text/plain": [
       "(10241, 10)"
      ]
     },
     "execution_count": 26,
     "metadata": {},
     "output_type": "execute_result"
    }
   ],
   "source": [
    "#removes the records which are beyond 1 std  from the mean based on the location\n",
    "def remove_pps_outliers(df):\n",
    "    df_out=pd.DataFrame()\n",
    "    for key,subdf in df.groupby('location'):\n",
    "        m=np.mean(subdf.ppsqft)\n",
    "        std=np.std(subdf.ppsqft)\n",
    "        reduced_df=subdf[(subdf.ppsqft>=(m-std)) & (subdf.ppsqft<=(m+std))]\n",
    "        df_out=pd.concat([df_out,reduced_df],ignore_index=True)\n",
    "    return  df_out\n",
    "df6=remove_pps_outliers(df5)\n",
    "df6.shape"
   ]
  },
  {
   "cell_type": "code",
   "execution_count": 27,
   "id": "657ca2c8",
   "metadata": {
    "execution": {
     "iopub.execute_input": "2021-12-28T19:17:04.516247Z",
     "iopub.status.busy": "2021-12-28T19:17:04.515603Z",
     "iopub.status.idle": "2021-12-28T19:17:04.531830Z",
     "shell.execute_reply": "2021-12-28T19:17:04.532399Z",
     "shell.execute_reply.started": "2021-12-28T00:21:53.977466Z"
    },
    "papermill": {
     "duration": 0.081581,
     "end_time": "2021-12-28T19:17:04.532569",
     "exception": false,
     "start_time": "2021-12-28T19:17:04.450988",
     "status": "completed"
    },
    "tags": []
   },
   "outputs": [
    {
     "data": {
      "text/html": [
       "<div>\n",
       "<style scoped>\n",
       "    .dataframe tbody tr th:only-of-type {\n",
       "        vertical-align: middle;\n",
       "    }\n",
       "\n",
       "    .dataframe tbody tr th {\n",
       "        vertical-align: top;\n",
       "    }\n",
       "\n",
       "    .dataframe thead th {\n",
       "        text-align: right;\n",
       "    }\n",
       "</style>\n",
       "<table border=\"1\" class=\"dataframe\">\n",
       "  <thead>\n",
       "    <tr style=\"text-align: right;\">\n",
       "      <th></th>\n",
       "      <th>area_type</th>\n",
       "      <th>availability</th>\n",
       "      <th>location</th>\n",
       "      <th>size</th>\n",
       "      <th>total_sqft</th>\n",
       "      <th>bath</th>\n",
       "      <th>balcony</th>\n",
       "      <th>price</th>\n",
       "      <th>ppsqft</th>\n",
       "      <th>area_per_room</th>\n",
       "    </tr>\n",
       "  </thead>\n",
       "  <tbody>\n",
       "    <tr>\n",
       "      <th>0</th>\n",
       "      <td>Super built-up  Area</td>\n",
       "      <td>0</td>\n",
       "      <td>Electronic City Phase II</td>\n",
       "      <td>2.0</td>\n",
       "      <td>1056.0</td>\n",
       "      <td>2.0</td>\n",
       "      <td>1.0</td>\n",
       "      <td>39.07</td>\n",
       "      <td>3699.810606</td>\n",
       "      <td>528.0</td>\n",
       "    </tr>\n",
       "    <tr>\n",
       "      <th>1</th>\n",
       "      <td>Plot  Area</td>\n",
       "      <td>1</td>\n",
       "      <td>Chikka Tirupathi</td>\n",
       "      <td>4.0</td>\n",
       "      <td>2600.0</td>\n",
       "      <td>5.0</td>\n",
       "      <td>3.0</td>\n",
       "      <td>120.00</td>\n",
       "      <td>4615.384615</td>\n",
       "      <td>650.0</td>\n",
       "    </tr>\n",
       "    <tr>\n",
       "      <th>2</th>\n",
       "      <td>Built-up  Area</td>\n",
       "      <td>1</td>\n",
       "      <td>Uttarahalli</td>\n",
       "      <td>3.0</td>\n",
       "      <td>1440.0</td>\n",
       "      <td>2.0</td>\n",
       "      <td>3.0</td>\n",
       "      <td>62.00</td>\n",
       "      <td>4305.555556</td>\n",
       "      <td>480.0</td>\n",
       "    </tr>\n",
       "    <tr>\n",
       "      <th>3</th>\n",
       "      <td>Super built-up  Area</td>\n",
       "      <td>1</td>\n",
       "      <td>Lingadheeranahalli</td>\n",
       "      <td>3.0</td>\n",
       "      <td>1521.0</td>\n",
       "      <td>3.0</td>\n",
       "      <td>1.0</td>\n",
       "      <td>95.00</td>\n",
       "      <td>6245.890861</td>\n",
       "      <td>507.0</td>\n",
       "    </tr>\n",
       "    <tr>\n",
       "      <th>4</th>\n",
       "      <td>Super built-up  Area</td>\n",
       "      <td>1</td>\n",
       "      <td>Kothanur</td>\n",
       "      <td>2.0</td>\n",
       "      <td>1200.0</td>\n",
       "      <td>2.0</td>\n",
       "      <td>1.0</td>\n",
       "      <td>51.00</td>\n",
       "      <td>4250.000000</td>\n",
       "      <td>600.0</td>\n",
       "    </tr>\n",
       "  </tbody>\n",
       "</table>\n",
       "</div>"
      ],
      "text/plain": [
       "              area_type  availability                  location  size  \\\n",
       "0  Super built-up  Area             0  Electronic City Phase II   2.0   \n",
       "1            Plot  Area             1          Chikka Tirupathi   4.0   \n",
       "2        Built-up  Area             1               Uttarahalli   3.0   \n",
       "3  Super built-up  Area             1        Lingadheeranahalli   3.0   \n",
       "4  Super built-up  Area             1                  Kothanur   2.0   \n",
       "\n",
       "   total_sqft  bath  balcony   price       ppsqft  area_per_room  \n",
       "0      1056.0   2.0      1.0   39.07  3699.810606          528.0  \n",
       "1      2600.0   5.0      3.0  120.00  4615.384615          650.0  \n",
       "2      1440.0   2.0      3.0   62.00  4305.555556          480.0  \n",
       "3      1521.0   3.0      1.0   95.00  6245.890861          507.0  \n",
       "4      1200.0   2.0      1.0   51.00  4250.000000          600.0  "
      ]
     },
     "execution_count": 27,
     "metadata": {},
     "output_type": "execute_result"
    }
   ],
   "source": [
    "df5.head()"
   ]
  },
  {
   "cell_type": "code",
   "execution_count": 28,
   "id": "f70bd06e",
   "metadata": {
    "execution": {
     "iopub.execute_input": "2021-12-28T19:17:04.664543Z",
     "iopub.status.busy": "2021-12-28T19:17:04.661697Z",
     "iopub.status.idle": "2021-12-28T19:17:04.669747Z",
     "shell.execute_reply": "2021-12-28T19:17:04.670232Z",
     "shell.execute_reply.started": "2021-12-28T00:21:54.002679Z"
    },
    "papermill": {
     "duration": 0.075417,
     "end_time": "2021-12-28T19:17:04.670411",
     "exception": false,
     "start_time": "2021-12-28T19:17:04.594994",
     "status": "completed"
    },
    "tags": []
   },
   "outputs": [
    {
     "data": {
      "text/plain": [
       "0        1056.0\n",
       "1        2600.0\n",
       "2        1440.0\n",
       "3        1521.0\n",
       "4        1200.0\n",
       "          ...  \n",
       "13315    3453.0\n",
       "13316    3600.0\n",
       "13317    1141.0\n",
       "13318    4689.0\n",
       "13319     550.0\n",
       "Name: total_sqft, Length: 12502, dtype: float64"
      ]
     },
     "execution_count": 28,
     "metadata": {},
     "output_type": "execute_result"
    }
   ],
   "source": [
    "df5.total_sqft"
   ]
  },
  {
   "cell_type": "code",
   "execution_count": 29,
   "id": "70f1c0c0",
   "metadata": {
    "execution": {
     "iopub.execute_input": "2021-12-28T19:17:04.805133Z",
     "iopub.status.busy": "2021-12-28T19:17:04.804075Z",
     "iopub.status.idle": "2021-12-28T19:17:04.838888Z",
     "shell.execute_reply": "2021-12-28T19:17:04.838243Z",
     "shell.execute_reply.started": "2021-12-28T00:21:54.012883Z"
    },
    "papermill": {
     "duration": 0.105319,
     "end_time": "2021-12-28T19:17:04.839058",
     "exception": false,
     "start_time": "2021-12-28T19:17:04.733739",
     "status": "completed"
    },
    "tags": []
   },
   "outputs": [
    {
     "data": {
      "text/html": [
       "<div>\n",
       "<style scoped>\n",
       "    .dataframe tbody tr th:only-of-type {\n",
       "        vertical-align: middle;\n",
       "    }\n",
       "\n",
       "    .dataframe tbody tr th {\n",
       "        vertical-align: top;\n",
       "    }\n",
       "\n",
       "    .dataframe thead th {\n",
       "        text-align: right;\n",
       "    }\n",
       "</style>\n",
       "<table border=\"1\" class=\"dataframe\">\n",
       "  <thead>\n",
       "    <tr style=\"text-align: right;\">\n",
       "      <th></th>\n",
       "      <th>availability</th>\n",
       "      <th>size</th>\n",
       "      <th>total_sqft</th>\n",
       "      <th>bath</th>\n",
       "      <th>balcony</th>\n",
       "      <th>price</th>\n",
       "      <th>ppsqft</th>\n",
       "      <th>area_per_room</th>\n",
       "    </tr>\n",
       "  </thead>\n",
       "  <tbody>\n",
       "    <tr>\n",
       "      <th>count</th>\n",
       "      <td>12502.000000</td>\n",
       "      <td>12502.000000</td>\n",
       "      <td>12456.000000</td>\n",
       "      <td>12502.000000</td>\n",
       "      <td>12502.000000</td>\n",
       "      <td>12502.000000</td>\n",
       "      <td>12456.000000</td>\n",
       "      <td>12456.000000</td>\n",
       "    </tr>\n",
       "    <tr>\n",
       "      <th>mean</th>\n",
       "      <td>0.788034</td>\n",
       "      <td>2.650696</td>\n",
       "      <td>1590.189927</td>\n",
       "      <td>2.564790</td>\n",
       "      <td>1.601024</td>\n",
       "      <td>111.311915</td>\n",
       "      <td>6308.502826</td>\n",
       "      <td>596.635185</td>\n",
       "    </tr>\n",
       "    <tr>\n",
       "      <th>std</th>\n",
       "      <td>0.408717</td>\n",
       "      <td>0.981698</td>\n",
       "      <td>1260.404795</td>\n",
       "      <td>1.084946</td>\n",
       "      <td>0.798562</td>\n",
       "      <td>152.089966</td>\n",
       "      <td>4168.127339</td>\n",
       "      <td>387.540157</td>\n",
       "    </tr>\n",
       "    <tr>\n",
       "      <th>min</th>\n",
       "      <td>0.000000</td>\n",
       "      <td>1.000000</td>\n",
       "      <td>300.000000</td>\n",
       "      <td>1.000000</td>\n",
       "      <td>0.000000</td>\n",
       "      <td>9.000000</td>\n",
       "      <td>267.829813</td>\n",
       "      <td>300.000000</td>\n",
       "    </tr>\n",
       "    <tr>\n",
       "      <th>25%</th>\n",
       "      <td>1.000000</td>\n",
       "      <td>2.000000</td>\n",
       "      <td>1115.000000</td>\n",
       "      <td>2.000000</td>\n",
       "      <td>1.000000</td>\n",
       "      <td>49.000000</td>\n",
       "      <td>4210.526316</td>\n",
       "      <td>491.916667</td>\n",
       "    </tr>\n",
       "    <tr>\n",
       "      <th>50%</th>\n",
       "      <td>1.000000</td>\n",
       "      <td>3.000000</td>\n",
       "      <td>1300.000000</td>\n",
       "      <td>2.000000</td>\n",
       "      <td>2.000000</td>\n",
       "      <td>70.000000</td>\n",
       "      <td>5294.117647</td>\n",
       "      <td>562.500000</td>\n",
       "    </tr>\n",
       "    <tr>\n",
       "      <th>75%</th>\n",
       "      <td>1.000000</td>\n",
       "      <td>3.000000</td>\n",
       "      <td>1700.000000</td>\n",
       "      <td>3.000000</td>\n",
       "      <td>2.000000</td>\n",
       "      <td>115.000000</td>\n",
       "      <td>6916.666667</td>\n",
       "      <td>630.000000</td>\n",
       "    </tr>\n",
       "    <tr>\n",
       "      <th>max</th>\n",
       "      <td>1.000000</td>\n",
       "      <td>16.000000</td>\n",
       "      <td>52272.000000</td>\n",
       "      <td>16.000000</td>\n",
       "      <td>3.000000</td>\n",
       "      <td>3600.000000</td>\n",
       "      <td>176470.588235</td>\n",
       "      <td>26136.000000</td>\n",
       "    </tr>\n",
       "  </tbody>\n",
       "</table>\n",
       "</div>"
      ],
      "text/plain": [
       "       availability          size    total_sqft          bath       balcony  \\\n",
       "count  12502.000000  12502.000000  12456.000000  12502.000000  12502.000000   \n",
       "mean       0.788034      2.650696   1590.189927      2.564790      1.601024   \n",
       "std        0.408717      0.981698   1260.404795      1.084946      0.798562   \n",
       "min        0.000000      1.000000    300.000000      1.000000      0.000000   \n",
       "25%        1.000000      2.000000   1115.000000      2.000000      1.000000   \n",
       "50%        1.000000      3.000000   1300.000000      2.000000      2.000000   \n",
       "75%        1.000000      3.000000   1700.000000      3.000000      2.000000   \n",
       "max        1.000000     16.000000  52272.000000     16.000000      3.000000   \n",
       "\n",
       "              price         ppsqft  area_per_room  \n",
       "count  12502.000000   12456.000000   12456.000000  \n",
       "mean     111.311915    6308.502826     596.635185  \n",
       "std      152.089966    4168.127339     387.540157  \n",
       "min        9.000000     267.829813     300.000000  \n",
       "25%       49.000000    4210.526316     491.916667  \n",
       "50%       70.000000    5294.117647     562.500000  \n",
       "75%      115.000000    6916.666667     630.000000  \n",
       "max     3600.000000  176470.588235   26136.000000  "
      ]
     },
     "execution_count": 29,
     "metadata": {},
     "output_type": "execute_result"
    }
   ],
   "source": [
    "df5.describe()"
   ]
  },
  {
   "cell_type": "markdown",
   "id": "e6ed0611",
   "metadata": {
    "papermill": {
     "duration": 0.066039,
     "end_time": "2021-12-28T19:17:04.969742",
     "exception": false,
     "start_time": "2021-12-28T19:17:04.903703",
     "status": "completed"
    },
    "tags": []
   },
   "source": [
    "#### outlier removal 3:\n",
    "\n",
    "##### If the location and sqft is same  then the price of  2BHK should not be more than 3 BHK"
   ]
  },
  {
   "cell_type": "code",
   "execution_count": 30,
   "id": "4f05b81d",
   "metadata": {
    "execution": {
     "iopub.execute_input": "2021-12-28T19:17:05.102937Z",
     "iopub.status.busy": "2021-12-28T19:17:05.101925Z",
     "iopub.status.idle": "2021-12-28T19:17:05.411705Z",
     "shell.execute_reply": "2021-12-28T19:17:05.411163Z",
     "shell.execute_reply.started": "2021-12-28T00:21:54.059741Z"
    },
    "papermill": {
     "duration": 0.377043,
     "end_time": "2021-12-28T19:17:05.411852",
     "exception": false,
     "start_time": "2021-12-28T19:17:05.034809",
     "status": "completed"
    },
    "tags": []
   },
   "outputs": [
    {
     "data": {
      "image/png": "[encoded data removed]",
      "text/plain": [
       "<Figure size 720x360 with 1 Axes>"
      ]
     },
     "metadata": {
      "needs_background": "light"
     },
     "output_type": "display_data"
    }
   ],
   "source": [
    "# visualizing the condition 1st:\n",
    "\n",
    "def viz_bhk(df,location):\n",
    "    \n",
    "    plt.figure(figsize=(10,5))\n",
    "    #fig, ax = plt.subplots()\n",
    "    #matplotlib.rcParams['figure.figsize']=(20,10)\n",
    "    bhk2=df[(df['location']==location) &( df['size']==2)]\n",
    "    bhk3=df[(df['location']==location) &( df['size']==3)]\n",
    "    plt.scatter(bhk2.total_sqft,bhk2.price,color='blue',label='2 bhk',s=50)\n",
    "    plt.scatter(bhk3.total_sqft,bhk3.price,color='green',label='3 bhk',marker=\"+\",s=50)\n",
    "    #plt.xticks(np.arange(min(bhk3.total_sqft), max(bhk3.total_sqft)+1, 1.0))\n",
    "    plt.xlabel(\"toata sqft area\")\n",
    "    plt.ylabel(\"price per square feet\")\n",
    "    plt.title(location)\n",
    "    plt.legend()\n",
    "   \n",
    "    \n",
    "viz_bhk(df5,\"Rajaji Nagar\")"
   ]
  },
  {
   "cell_type": "code",
   "execution_count": 31,
   "id": "37947bda",
   "metadata": {
    "execution": {
     "iopub.execute_input": "2021-12-28T19:17:05.545968Z",
     "iopub.status.busy": "2021-12-28T19:17:05.545001Z",
     "iopub.status.idle": "2021-12-28T19:17:05.548138Z",
     "shell.execute_reply": "2021-12-28T19:17:05.548640Z",
     "shell.execute_reply.started": "2021-12-28T00:21:54.417194Z"
    },
    "papermill": {
     "duration": 0.07228,
     "end_time": "2021-12-28T19:17:05.548811",
     "exception": false,
     "start_time": "2021-12-28T19:17:05.476531",
     "status": "completed"
    },
    "tags": []
   },
   "outputs": [],
   "source": [
    "# removing the data points where price of 2 bhk is more than 3 BHK in the same area"
   ]
  },
  {
   "cell_type": "code",
   "execution_count": 32,
   "id": "47fc4ced",
   "metadata": {
    "execution": {
     "iopub.execute_input": "2021-12-28T19:17:05.681672Z",
     "iopub.status.busy": "2021-12-28T19:17:05.680658Z",
     "iopub.status.idle": "2021-12-28T19:17:06.340795Z",
     "shell.execute_reply": "2021-12-28T19:17:06.340063Z",
     "shell.execute_reply.started": "2021-12-28T00:21:54.423525Z"
    },
    "papermill": {
     "duration": 0.727518,
     "end_time": "2021-12-28T19:17:06.340958",
     "exception": false,
     "start_time": "2021-12-28T19:17:05.613440",
     "status": "completed"
    },
    "tags": []
   },
   "outputs": [
    {
     "data": {
      "text/plain": [
       "(7329, 10)"
      ]
     },
     "execution_count": 32,
     "metadata": {},
     "output_type": "execute_result"
    }
   ],
   "source": [
    "def remove_bhk_outliers(df):\n",
    "    exclude_indices = np.array([])\n",
    "    for location, location_df in df.groupby('location'):\n",
    "        bhk_stats = {}\n",
    "        for size, bhk_df in location_df.groupby('size'):\n",
    "            bhk_stats[size] = {\n",
    "                'mean': np.mean(bhk_df.ppsqft),\n",
    "                'std': np.std(bhk_df.ppsqft),\n",
    "                'count': bhk_df.shape[0]\n",
    "            }\n",
    "        for size, bhk_df in location_df.groupby('size'):\n",
    "            stats = bhk_stats.get(size-1)# gets the information for size-1 from above disctionary\n",
    "            if stats and stats['count']>5:#only where the count of the size per location is grtr than 5\n",
    "                exclude_indices = np.append(exclude_indices, bhk_df[bhk_df.ppsqft<(stats['mean'])].index.values)\n",
    "    return df.drop(exclude_indices,axis='index')\n",
    "df7 = remove_bhk_outliers(df6)\n",
    "df7.shape"
   ]
  },
  {
   "cell_type": "code",
   "execution_count": 33,
   "id": "293bd7ee",
   "metadata": {
    "execution": {
     "iopub.execute_input": "2021-12-28T19:17:06.480941Z",
     "iopub.status.busy": "2021-12-28T19:17:06.479964Z",
     "iopub.status.idle": "2021-12-28T19:17:06.766650Z",
     "shell.execute_reply": "2021-12-28T19:17:06.767139Z",
     "shell.execute_reply.started": "2021-12-28T00:21:55.166053Z"
    },
    "papermill": {
     "duration": 0.36064,
     "end_time": "2021-12-28T19:17:06.767321",
     "exception": false,
     "start_time": "2021-12-28T19:17:06.406681",
     "status": "completed"
    },
    "tags": []
   },
   "outputs": [
    {
     "data": {
      "image/png": "[encoded data removed]",
      "text/plain": [
       "<Figure size 720x360 with 1 Axes>"
      ]
     },
     "metadata": {
      "needs_background": "light"
     },
     "output_type": "display_data"
    }
   ],
   "source": [
    "viz_bhk(df7,\"Rajaji Nagar\")"
   ]
  },
  {
   "cell_type": "markdown",
   "id": "ac85c282",
   "metadata": {
    "papermill": {
     "duration": 0.065206,
     "end_time": "2021-12-28T19:17:06.897853",
     "exception": false,
     "start_time": "2021-12-28T19:17:06.832647",
     "status": "completed"
    },
    "tags": []
   },
   "source": [
    "#### Outlier removal process 4: \n",
    "\n",
    "will check the number of bathrooms"
   ]
  },
  {
   "cell_type": "code",
   "execution_count": 34,
   "id": "d128bcc7",
   "metadata": {
    "execution": {
     "iopub.execute_input": "2021-12-28T19:17:07.038149Z",
     "iopub.status.busy": "2021-12-28T19:17:07.037304Z",
     "iopub.status.idle": "2021-12-28T19:17:07.040750Z",
     "shell.execute_reply": "2021-12-28T19:17:07.040259Z",
     "shell.execute_reply.started": "2021-12-28T00:21:55.441032Z"
    },
    "papermill": {
     "duration": 0.075669,
     "end_time": "2021-12-28T19:17:07.040893",
     "exception": false,
     "start_time": "2021-12-28T19:17:06.965224",
     "status": "completed"
    },
    "tags": []
   },
   "outputs": [
    {
     "data": {
      "text/plain": [
       "(7329, 10)"
      ]
     },
     "execution_count": 34,
     "metadata": {},
     "output_type": "execute_result"
    }
   ],
   "source": [
    "df7.shape"
   ]
  },
  {
   "cell_type": "code",
   "execution_count": 35,
   "id": "71d0ecd4",
   "metadata": {
    "execution": {
     "iopub.execute_input": "2021-12-28T19:17:07.190463Z",
     "iopub.status.busy": "2021-12-28T19:17:07.189507Z",
     "iopub.status.idle": "2021-12-28T19:17:07.193282Z",
     "shell.execute_reply": "2021-12-28T19:17:07.192526Z",
     "shell.execute_reply.started": "2021-12-28T00:21:55.449872Z"
    },
    "papermill": {
     "duration": 0.086488,
     "end_time": "2021-12-28T19:17:07.193546",
     "exception": false,
     "start_time": "2021-12-28T19:17:07.107058",
     "status": "completed"
    },
    "tags": []
   },
   "outputs": [],
   "source": [
    "df8=df7[~(df7['bath']>df7['size']+2)]"
   ]
  },
  {
   "cell_type": "code",
   "execution_count": 36,
   "id": "56efa8e5",
   "metadata": {
    "execution": {
     "iopub.execute_input": "2021-12-28T19:17:07.338841Z",
     "iopub.status.busy": "2021-12-28T19:17:07.338135Z",
     "iopub.status.idle": "2021-12-28T19:17:07.340986Z",
     "shell.execute_reply": "2021-12-28T19:17:07.341583Z",
     "shell.execute_reply.started": "2021-12-28T00:21:55.459969Z"
    },
    "papermill": {
     "duration": 0.075693,
     "end_time": "2021-12-28T19:17:07.341756",
     "exception": false,
     "start_time": "2021-12-28T19:17:07.266063",
     "status": "completed"
    },
    "tags": []
   },
   "outputs": [
    {
     "data": {
      "text/plain": [
       "(7325, 10)"
      ]
     },
     "execution_count": 36,
     "metadata": {},
     "output_type": "execute_result"
    }
   ],
   "source": [
    "df8.shape"
   ]
  },
  {
   "cell_type": "markdown",
   "id": "d82b8d6a",
   "metadata": {
    "papermill": {
     "duration": 0.06573,
     "end_time": "2021-12-28T19:17:07.474719",
     "exception": false,
     "start_time": "2021-12-28T19:17:07.408989",
     "status": "completed"
    },
    "tags": []
   },
   "source": [
    "### Understanding the data:\n",
    "\n",
    "##### checking the distribution"
   ]
  },
  {
   "cell_type": "code",
   "execution_count": 37,
   "id": "e5b66f99",
   "metadata": {
    "execution": {
     "iopub.execute_input": "2021-12-28T19:17:07.610377Z",
     "iopub.status.busy": "2021-12-28T19:17:07.609641Z",
     "iopub.status.idle": "2021-12-28T19:17:07.856441Z",
     "shell.execute_reply": "2021-12-28T19:17:07.855729Z",
     "shell.execute_reply.started": "2021-12-28T00:21:55.471543Z"
    },
    "papermill": {
     "duration": 0.315982,
     "end_time": "2021-12-28T19:17:07.856601",
     "exception": false,
     "start_time": "2021-12-28T19:17:07.540619",
     "status": "completed"
    },
    "tags": []
   },
   "outputs": [
    {
     "data": {
      "text/plain": [
       "[Text(0.5, 0, 'PPsqft'), Text(0, 0.5, 'count')]"
      ]
     },
     "execution_count": 37,
     "metadata": {},
     "output_type": "execute_result"
    },
    {
     "data": {
      "image/png": "[encoded data removed]",
      "text/plain": [
       "<Figure size 720x360 with 1 Axes>"
      ]
     },
     "metadata": {
      "needs_background": "light"
     },
     "output_type": "display_data"
    }
   ],
   "source": [
    "#Checking the distribution of the price\n",
    "plt.figure(figsize=(10,5))\n",
    "ax=sns.histplot(df7.ppsqft,bins=8)\n",
    "#plt.hist(df7.ppsqft,rwidth=.8)\n",
    "ax.set(xlabel=\"PPsqft\", ylabel = \"count\")"
   ]
  },
  {
   "cell_type": "code",
   "execution_count": 38,
   "id": "5649f829",
   "metadata": {
    "execution": {
     "iopub.execute_input": "2021-12-28T19:17:08.015431Z",
     "iopub.status.busy": "2021-12-28T19:17:08.014691Z",
     "iopub.status.idle": "2021-12-28T19:17:08.298882Z",
     "shell.execute_reply": "2021-12-28T19:17:08.298141Z",
     "shell.execute_reply.started": "2021-12-28T00:21:55.742602Z"
    },
    "papermill": {
     "duration": 0.373682,
     "end_time": "2021-12-28T19:17:08.299053",
     "exception": false,
     "start_time": "2021-12-28T19:17:07.925371",
     "status": "completed"
    },
    "tags": []
   },
   "outputs": [
    {
     "data": {
      "text/plain": [
       "<AxesSubplot:xlabel='size', ylabel='count'>"
      ]
     },
     "execution_count": 38,
     "metadata": {},
     "output_type": "execute_result"
    },
    {
     "data": {
      "image/png": "[encoded data removed]",
      "text/plain": [
       "<Figure size 720x360 with 1 Axes>"
      ]
     },
     "metadata": {
      "needs_background": "light"
     },
     "output_type": "display_data"
    }
   ],
   "source": [
    "#distribution of size \n",
    "plt.figure(figsize=(10,5))\n",
    "sns.countplot(x=df7['size'].astype(str),order=df7['size'].astype(str).value_counts().index)"
   ]
  },
  {
   "cell_type": "code",
   "execution_count": 39,
   "id": "143671a0",
   "metadata": {
    "execution": {
     "iopub.execute_input": "2021-12-28T19:17:08.441669Z",
     "iopub.status.busy": "2021-12-28T19:17:08.440947Z",
     "iopub.status.idle": "2021-12-28T19:17:08.640742Z",
     "shell.execute_reply": "2021-12-28T19:17:08.641278Z",
     "shell.execute_reply.started": "2021-12-28T00:21:56.071597Z"
    },
    "papermill": {
     "duration": 0.273757,
     "end_time": "2021-12-28T19:17:08.641476",
     "exception": false,
     "start_time": "2021-12-28T19:17:08.367719",
     "status": "completed"
    },
    "tags": []
   },
   "outputs": [
    {
     "data": {
      "text/plain": [
       "<AxesSubplot:xlabel='area_type', ylabel='count'>"
      ]
     },
     "execution_count": 39,
     "metadata": {},
     "output_type": "execute_result"
    },
    {
     "data": {
      "image/png": "[encoded data removed]",
      "text/plain": [
       "<Figure size 432x216 with 1 Axes>"
      ]
     },
     "metadata": {
      "needs_background": "light"
     },
     "output_type": "display_data"
    }
   ],
   "source": [
    "plt.figure(figsize=(6,3))\n",
    "#sns.barplot(x=df.area_type,y=df.price)\n",
    "sns.countplot(x=df7['area_type'].astype(str),order=df7['area_type'].astype(str).value_counts().index)"
   ]
  },
  {
   "cell_type": "markdown",
   "id": "66cbb4af",
   "metadata": {
    "papermill": {
     "duration": 0.070031,
     "end_time": "2021-12-28T19:17:08.782821",
     "exception": false,
     "start_time": "2021-12-28T19:17:08.712790",
     "status": "completed"
    },
    "tags": []
   },
   "source": [
    "#### dropping unneccery columns:\n"
   ]
  },
  {
   "cell_type": "code",
   "execution_count": 40,
   "id": "7402183c",
   "metadata": {
    "execution": {
     "iopub.execute_input": "2021-12-28T19:17:08.934207Z",
     "iopub.status.busy": "2021-12-28T19:17:08.933481Z",
     "iopub.status.idle": "2021-12-28T19:17:08.943141Z",
     "shell.execute_reply": "2021-12-28T19:17:08.943689Z",
     "shell.execute_reply.started": "2021-12-28T00:21:56.29517Z"
    },
    "papermill": {
     "duration": 0.091248,
     "end_time": "2021-12-28T19:17:08.943867",
     "exception": false,
     "start_time": "2021-12-28T19:17:08.852619",
     "status": "completed"
    },
    "tags": []
   },
   "outputs": [
    {
     "data": {
      "text/html": [
       "<div>\n",
       "<style scoped>\n",
       "    .dataframe tbody tr th:only-of-type {\n",
       "        vertical-align: middle;\n",
       "    }\n",
       "\n",
       "    .dataframe tbody tr th {\n",
       "        vertical-align: top;\n",
       "    }\n",
       "\n",
       "    .dataframe thead th {\n",
       "        text-align: right;\n",
       "    }\n",
       "</style>\n",
       "<table border=\"1\" class=\"dataframe\">\n",
       "  <thead>\n",
       "    <tr style=\"text-align: right;\">\n",
       "      <th></th>\n",
       "      <th>area_type</th>\n",
       "      <th>availability</th>\n",
       "      <th>location</th>\n",
       "      <th>size</th>\n",
       "      <th>total_sqft</th>\n",
       "      <th>bath</th>\n",
       "      <th>balcony</th>\n",
       "      <th>price</th>\n",
       "      <th>ppsqft</th>\n",
       "      <th>area_per_room</th>\n",
       "    </tr>\n",
       "  </thead>\n",
       "  <tbody>\n",
       "    <tr>\n",
       "      <th>0</th>\n",
       "      <td>Super built-up  Area</td>\n",
       "      <td>0</td>\n",
       "      <td>1st Block Jayanagar</td>\n",
       "      <td>4.0</td>\n",
       "      <td>2850.0</td>\n",
       "      <td>4.0</td>\n",
       "      <td>1.0</td>\n",
       "      <td>428.0</td>\n",
       "      <td>15017.543860</td>\n",
       "      <td>712.500000</td>\n",
       "    </tr>\n",
       "    <tr>\n",
       "      <th>1</th>\n",
       "      <td>Super built-up  Area</td>\n",
       "      <td>0</td>\n",
       "      <td>1st Block Jayanagar</td>\n",
       "      <td>3.0</td>\n",
       "      <td>1630.0</td>\n",
       "      <td>3.0</td>\n",
       "      <td>2.0</td>\n",
       "      <td>194.0</td>\n",
       "      <td>11901.840491</td>\n",
       "      <td>543.333333</td>\n",
       "    </tr>\n",
       "    <tr>\n",
       "      <th>2</th>\n",
       "      <td>Super built-up  Area</td>\n",
       "      <td>1</td>\n",
       "      <td>1st Block Jayanagar</td>\n",
       "      <td>3.0</td>\n",
       "      <td>1875.0</td>\n",
       "      <td>2.0</td>\n",
       "      <td>3.0</td>\n",
       "      <td>235.0</td>\n",
       "      <td>12533.333333</td>\n",
       "      <td>625.000000</td>\n",
       "    </tr>\n",
       "    <tr>\n",
       "      <th>3</th>\n",
       "      <td>Built-up  Area</td>\n",
       "      <td>0</td>\n",
       "      <td>1st Block Jayanagar</td>\n",
       "      <td>3.0</td>\n",
       "      <td>1200.0</td>\n",
       "      <td>2.0</td>\n",
       "      <td>0.0</td>\n",
       "      <td>130.0</td>\n",
       "      <td>10833.333333</td>\n",
       "      <td>400.000000</td>\n",
       "    </tr>\n",
       "    <tr>\n",
       "      <th>4</th>\n",
       "      <td>Super built-up  Area</td>\n",
       "      <td>0</td>\n",
       "      <td>1st Block Jayanagar</td>\n",
       "      <td>2.0</td>\n",
       "      <td>1235.0</td>\n",
       "      <td>2.0</td>\n",
       "      <td>2.0</td>\n",
       "      <td>148.0</td>\n",
       "      <td>11983.805668</td>\n",
       "      <td>617.500000</td>\n",
       "    </tr>\n",
       "  </tbody>\n",
       "</table>\n",
       "</div>"
      ],
      "text/plain": [
       "              area_type  availability             location  size  total_sqft  \\\n",
       "0  Super built-up  Area             0  1st Block Jayanagar   4.0      2850.0   \n",
       "1  Super built-up  Area             0  1st Block Jayanagar   3.0      1630.0   \n",
       "2  Super built-up  Area             1  1st Block Jayanagar   3.0      1875.0   \n",
       "3        Built-up  Area             0  1st Block Jayanagar   3.0      1200.0   \n",
       "4  Super built-up  Area             0  1st Block Jayanagar   2.0      1235.0   \n",
       "\n",
       "   bath  balcony  price        ppsqft  area_per_room  \n",
       "0   4.0      1.0  428.0  15017.543860     712.500000  \n",
       "1   3.0      2.0  194.0  11901.840491     543.333333  \n",
       "2   2.0      3.0  235.0  12533.333333     625.000000  \n",
       "3   2.0      0.0  130.0  10833.333333     400.000000  \n",
       "4   2.0      2.0  148.0  11983.805668     617.500000  "
      ]
     },
     "execution_count": 40,
     "metadata": {},
     "output_type": "execute_result"
    }
   ],
   "source": [
    "df8.head()"
   ]
  },
  {
   "cell_type": "code",
   "execution_count": 41,
   "id": "9c1125e2",
   "metadata": {
    "execution": {
     "iopub.execute_input": "2021-12-28T19:17:09.091164Z",
     "iopub.status.busy": "2021-12-28T19:17:09.090395Z",
     "iopub.status.idle": "2021-12-28T19:17:09.106341Z",
     "shell.execute_reply": "2021-12-28T19:17:09.106931Z",
     "shell.execute_reply.started": "2021-12-28T00:21:56.317362Z"
    },
    "papermill": {
     "duration": 0.091132,
     "end_time": "2021-12-28T19:17:09.107124",
     "exception": false,
     "start_time": "2021-12-28T19:17:09.015992",
     "status": "completed"
    },
    "tags": []
   },
   "outputs": [],
   "source": [
    "df9=df8.join(pd.get_dummies(df8['location'], prefix='', prefix_sep=''))"
   ]
  },
  {
   "cell_type": "code",
   "execution_count": 42,
   "id": "b8e49e12",
   "metadata": {
    "execution": {
     "iopub.execute_input": "2021-12-28T19:17:09.265057Z",
     "iopub.status.busy": "2021-12-28T19:17:09.256218Z",
     "iopub.status.idle": "2021-12-28T19:17:09.281193Z",
     "shell.execute_reply": "2021-12-28T19:17:09.280625Z",
     "shell.execute_reply.started": "2021-12-28T00:21:56.336158Z"
    },
    "papermill": {
     "duration": 0.10227,
     "end_time": "2021-12-28T19:17:09.281345",
     "exception": false,
     "start_time": "2021-12-28T19:17:09.179075",
     "status": "completed"
    },
    "tags": []
   },
   "outputs": [
    {
     "data": {
      "text/html": [
       "<div>\n",
       "<style scoped>\n",
       "    .dataframe tbody tr th:only-of-type {\n",
       "        vertical-align: middle;\n",
       "    }\n",
       "\n",
       "    .dataframe tbody tr th {\n",
       "        vertical-align: top;\n",
       "    }\n",
       "\n",
       "    .dataframe thead th {\n",
       "        text-align: right;\n",
       "    }\n",
       "</style>\n",
       "<table border=\"1\" class=\"dataframe\">\n",
       "  <thead>\n",
       "    <tr style=\"text-align: right;\">\n",
       "      <th></th>\n",
       "      <th>area_type</th>\n",
       "      <th>availability</th>\n",
       "      <th>location</th>\n",
       "      <th>size</th>\n",
       "      <th>total_sqft</th>\n",
       "      <th>bath</th>\n",
       "      <th>balcony</th>\n",
       "      <th>price</th>\n",
       "      <th>ppsqft</th>\n",
       "      <th>area_per_room</th>\n",
       "      <th>...</th>\n",
       "      <th>Vishveshwarya Layout</th>\n",
       "      <th>Vishwapriya Layout</th>\n",
       "      <th>Vittasandra</th>\n",
       "      <th>Whitefield</th>\n",
       "      <th>Yelachenahalli</th>\n",
       "      <th>Yelahanka</th>\n",
       "      <th>Yelahanka New Town</th>\n",
       "      <th>Yelenahalli</th>\n",
       "      <th>Yeshwanthpur</th>\n",
       "      <th>other</th>\n",
       "    </tr>\n",
       "  </thead>\n",
       "  <tbody>\n",
       "    <tr>\n",
       "      <th>0</th>\n",
       "      <td>Super built-up  Area</td>\n",
       "      <td>0</td>\n",
       "      <td>1st Block Jayanagar</td>\n",
       "      <td>4.0</td>\n",
       "      <td>2850.0</td>\n",
       "      <td>4.0</td>\n",
       "      <td>1.0</td>\n",
       "      <td>428.0</td>\n",
       "      <td>15017.543860</td>\n",
       "      <td>712.500000</td>\n",
       "      <td>...</td>\n",
       "      <td>0</td>\n",
       "      <td>0</td>\n",
       "      <td>0</td>\n",
       "      <td>0</td>\n",
       "      <td>0</td>\n",
       "      <td>0</td>\n",
       "      <td>0</td>\n",
       "      <td>0</td>\n",
       "      <td>0</td>\n",
       "      <td>0</td>\n",
       "    </tr>\n",
       "    <tr>\n",
       "      <th>1</th>\n",
       "      <td>Super built-up  Area</td>\n",
       "      <td>0</td>\n",
       "      <td>1st Block Jayanagar</td>\n",
       "      <td>3.0</td>\n",
       "      <td>1630.0</td>\n",
       "      <td>3.0</td>\n",
       "      <td>2.0</td>\n",
       "      <td>194.0</td>\n",
       "      <td>11901.840491</td>\n",
       "      <td>543.333333</td>\n",
       "      <td>...</td>\n",
       "      <td>0</td>\n",
       "      <td>0</td>\n",
       "      <td>0</td>\n",
       "      <td>0</td>\n",
       "      <td>0</td>\n",
       "      <td>0</td>\n",
       "      <td>0</td>\n",
       "      <td>0</td>\n",
       "      <td>0</td>\n",
       "      <td>0</td>\n",
       "    </tr>\n",
       "    <tr>\n",
       "      <th>2</th>\n",
       "      <td>Super built-up  Area</td>\n",
       "      <td>1</td>\n",
       "      <td>1st Block Jayanagar</td>\n",
       "      <td>3.0</td>\n",
       "      <td>1875.0</td>\n",
       "      <td>2.0</td>\n",
       "      <td>3.0</td>\n",
       "      <td>235.0</td>\n",
       "      <td>12533.333333</td>\n",
       "      <td>625.000000</td>\n",
       "      <td>...</td>\n",
       "      <td>0</td>\n",
       "      <td>0</td>\n",
       "      <td>0</td>\n",
       "      <td>0</td>\n",
       "      <td>0</td>\n",
       "      <td>0</td>\n",
       "      <td>0</td>\n",
       "      <td>0</td>\n",
       "      <td>0</td>\n",
       "      <td>0</td>\n",
       "    </tr>\n",
       "    <tr>\n",
       "      <th>3</th>\n",
       "      <td>Built-up  Area</td>\n",
       "      <td>0</td>\n",
       "      <td>1st Block Jayanagar</td>\n",
       "      <td>3.0</td>\n",
       "      <td>1200.0</td>\n",
       "      <td>2.0</td>\n",
       "      <td>0.0</td>\n",
       "      <td>130.0</td>\n",
       "      <td>10833.333333</td>\n",
       "      <td>400.000000</td>\n",
       "      <td>...</td>\n",
       "      <td>0</td>\n",
       "      <td>0</td>\n",
       "      <td>0</td>\n",
       "      <td>0</td>\n",
       "      <td>0</td>\n",
       "      <td>0</td>\n",
       "      <td>0</td>\n",
       "      <td>0</td>\n",
       "      <td>0</td>\n",
       "      <td>0</td>\n",
       "    </tr>\n",
       "    <tr>\n",
       "      <th>4</th>\n",
       "      <td>Super built-up  Area</td>\n",
       "      <td>0</td>\n",
       "      <td>1st Block Jayanagar</td>\n",
       "      <td>2.0</td>\n",
       "      <td>1235.0</td>\n",
       "      <td>2.0</td>\n",
       "      <td>2.0</td>\n",
       "      <td>148.0</td>\n",
       "      <td>11983.805668</td>\n",
       "      <td>617.500000</td>\n",
       "      <td>...</td>\n",
       "      <td>0</td>\n",
       "      <td>0</td>\n",
       "      <td>0</td>\n",
       "      <td>0</td>\n",
       "      <td>0</td>\n",
       "      <td>0</td>\n",
       "      <td>0</td>\n",
       "      <td>0</td>\n",
       "      <td>0</td>\n",
       "      <td>0</td>\n",
       "    </tr>\n",
       "  </tbody>\n",
       "</table>\n",
       "<p>5 rows × 252 columns</p>\n",
       "</div>"
      ],
      "text/plain": [
       "              area_type  availability             location  size  total_sqft  \\\n",
       "0  Super built-up  Area             0  1st Block Jayanagar   4.0      2850.0   \n",
       "1  Super built-up  Area             0  1st Block Jayanagar   3.0      1630.0   \n",
       "2  Super built-up  Area             1  1st Block Jayanagar   3.0      1875.0   \n",
       "3        Built-up  Area             0  1st Block Jayanagar   3.0      1200.0   \n",
       "4  Super built-up  Area             0  1st Block Jayanagar   2.0      1235.0   \n",
       "\n",
       "   bath  balcony  price        ppsqft  area_per_room  ...  \\\n",
       "0   4.0      1.0  428.0  15017.543860     712.500000  ...   \n",
       "1   3.0      2.0  194.0  11901.840491     543.333333  ...   \n",
       "2   2.0      3.0  235.0  12533.333333     625.000000  ...   \n",
       "3   2.0      0.0  130.0  10833.333333     400.000000  ...   \n",
       "4   2.0      2.0  148.0  11983.805668     617.500000  ...   \n",
       "\n",
       "   Vishveshwarya Layout  Vishwapriya Layout  Vittasandra  Whitefield  \\\n",
       "0                     0                   0            0           0   \n",
       "1                     0                   0            0           0   \n",
       "2                     0                   0            0           0   \n",
       "3                     0                   0            0           0   \n",
       "4                     0                   0            0           0   \n",
       "\n",
       "   Yelachenahalli  Yelahanka  Yelahanka New Town  Yelenahalli  Yeshwanthpur  \\\n",
       "0               0          0                   0            0             0   \n",
       "1               0          0                   0            0             0   \n",
       "2               0          0                   0            0             0   \n",
       "3               0          0                   0            0             0   \n",
       "4               0          0                   0            0             0   \n",
       "\n",
       "   other  \n",
       "0      0  \n",
       "1      0  \n",
       "2      0  \n",
       "3      0  \n",
       "4      0  \n",
       "\n",
       "[5 rows x 252 columns]"
      ]
     },
     "execution_count": 42,
     "metadata": {},
     "output_type": "execute_result"
    }
   ],
   "source": [
    "df9.head()"
   ]
  },
  {
   "cell_type": "code",
   "execution_count": 43,
   "id": "fc32f34a",
   "metadata": {
    "execution": {
     "iopub.execute_input": "2021-12-28T19:17:09.428207Z",
     "iopub.status.busy": "2021-12-28T19:17:09.427457Z",
     "iopub.status.idle": "2021-12-28T19:17:09.438431Z",
     "shell.execute_reply": "2021-12-28T19:17:09.439182Z",
     "shell.execute_reply.started": "2021-12-28T00:21:56.365417Z"
    },
    "papermill": {
     "duration": 0.086303,
     "end_time": "2021-12-28T19:17:09.439389",
     "exception": false,
     "start_time": "2021-12-28T19:17:09.353086",
     "status": "completed"
    },
    "tags": []
   },
   "outputs": [],
   "source": [
    "df9.drop(columns=['balcony','ppsqft','area_per_room','other','area_type','location','availability'],inplace=True)"
   ]
  },
  {
   "cell_type": "code",
   "execution_count": 44,
   "id": "5ddebbef",
   "metadata": {
    "execution": {
     "iopub.execute_input": "2021-12-28T19:17:09.585368Z",
     "iopub.status.busy": "2021-12-28T19:17:09.584628Z",
     "iopub.status.idle": "2021-12-28T19:17:09.605012Z",
     "shell.execute_reply": "2021-12-28T19:17:09.605642Z",
     "shell.execute_reply.started": "2021-12-28T00:21:56.378255Z"
    },
    "papermill": {
     "duration": 0.094832,
     "end_time": "2021-12-28T19:17:09.605827",
     "exception": false,
     "start_time": "2021-12-28T19:17:09.510995",
     "status": "completed"
    },
    "tags": []
   },
   "outputs": [
    {
     "data": {
      "text/html": [
       "<div>\n",
       "<style scoped>\n",
       "    .dataframe tbody tr th:only-of-type {\n",
       "        vertical-align: middle;\n",
       "    }\n",
       "\n",
       "    .dataframe tbody tr th {\n",
       "        vertical-align: top;\n",
       "    }\n",
       "\n",
       "    .dataframe thead th {\n",
       "        text-align: right;\n",
       "    }\n",
       "</style>\n",
       "<table border=\"1\" class=\"dataframe\">\n",
       "  <thead>\n",
       "    <tr style=\"text-align: right;\">\n",
       "      <th></th>\n",
       "      <th>size</th>\n",
       "      <th>total_sqft</th>\n",
       "      <th>bath</th>\n",
       "      <th>price</th>\n",
       "      <th>1st Block Jayanagar</th>\n",
       "      <th>1st Phase JP Nagar</th>\n",
       "      <th>2nd Phase Judicial Layout</th>\n",
       "      <th>2nd Stage Nagarbhavi</th>\n",
       "      <th>5th Block Hbr Layout</th>\n",
       "      <th>5th Phase JP Nagar</th>\n",
       "      <th>...</th>\n",
       "      <th>Vijayanagar</th>\n",
       "      <th>Vishveshwarya Layout</th>\n",
       "      <th>Vishwapriya Layout</th>\n",
       "      <th>Vittasandra</th>\n",
       "      <th>Whitefield</th>\n",
       "      <th>Yelachenahalli</th>\n",
       "      <th>Yelahanka</th>\n",
       "      <th>Yelahanka New Town</th>\n",
       "      <th>Yelenahalli</th>\n",
       "      <th>Yeshwanthpur</th>\n",
       "    </tr>\n",
       "  </thead>\n",
       "  <tbody>\n",
       "    <tr>\n",
       "      <th>0</th>\n",
       "      <td>4.0</td>\n",
       "      <td>2850.0</td>\n",
       "      <td>4.0</td>\n",
       "      <td>428.0</td>\n",
       "      <td>1</td>\n",
       "      <td>0</td>\n",
       "      <td>0</td>\n",
       "      <td>0</td>\n",
       "      <td>0</td>\n",
       "      <td>0</td>\n",
       "      <td>...</td>\n",
       "      <td>0</td>\n",
       "      <td>0</td>\n",
       "      <td>0</td>\n",
       "      <td>0</td>\n",
       "      <td>0</td>\n",
       "      <td>0</td>\n",
       "      <td>0</td>\n",
       "      <td>0</td>\n",
       "      <td>0</td>\n",
       "      <td>0</td>\n",
       "    </tr>\n",
       "    <tr>\n",
       "      <th>1</th>\n",
       "      <td>3.0</td>\n",
       "      <td>1630.0</td>\n",
       "      <td>3.0</td>\n",
       "      <td>194.0</td>\n",
       "      <td>1</td>\n",
       "      <td>0</td>\n",
       "      <td>0</td>\n",
       "      <td>0</td>\n",
       "      <td>0</td>\n",
       "      <td>0</td>\n",
       "      <td>...</td>\n",
       "      <td>0</td>\n",
       "      <td>0</td>\n",
       "      <td>0</td>\n",
       "      <td>0</td>\n",
       "      <td>0</td>\n",
       "      <td>0</td>\n",
       "      <td>0</td>\n",
       "      <td>0</td>\n",
       "      <td>0</td>\n",
       "      <td>0</td>\n",
       "    </tr>\n",
       "    <tr>\n",
       "      <th>2</th>\n",
       "      <td>3.0</td>\n",
       "      <td>1875.0</td>\n",
       "      <td>2.0</td>\n",
       "      <td>235.0</td>\n",
       "      <td>1</td>\n",
       "      <td>0</td>\n",
       "      <td>0</td>\n",
       "      <td>0</td>\n",
       "      <td>0</td>\n",
       "      <td>0</td>\n",
       "      <td>...</td>\n",
       "      <td>0</td>\n",
       "      <td>0</td>\n",
       "      <td>0</td>\n",
       "      <td>0</td>\n",
       "      <td>0</td>\n",
       "      <td>0</td>\n",
       "      <td>0</td>\n",
       "      <td>0</td>\n",
       "      <td>0</td>\n",
       "      <td>0</td>\n",
       "    </tr>\n",
       "    <tr>\n",
       "      <th>3</th>\n",
       "      <td>3.0</td>\n",
       "      <td>1200.0</td>\n",
       "      <td>2.0</td>\n",
       "      <td>130.0</td>\n",
       "      <td>1</td>\n",
       "      <td>0</td>\n",
       "      <td>0</td>\n",
       "      <td>0</td>\n",
       "      <td>0</td>\n",
       "      <td>0</td>\n",
       "      <td>...</td>\n",
       "      <td>0</td>\n",
       "      <td>0</td>\n",
       "      <td>0</td>\n",
       "      <td>0</td>\n",
       "      <td>0</td>\n",
       "      <td>0</td>\n",
       "      <td>0</td>\n",
       "      <td>0</td>\n",
       "      <td>0</td>\n",
       "      <td>0</td>\n",
       "    </tr>\n",
       "    <tr>\n",
       "      <th>4</th>\n",
       "      <td>2.0</td>\n",
       "      <td>1235.0</td>\n",
       "      <td>2.0</td>\n",
       "      <td>148.0</td>\n",
       "      <td>1</td>\n",
       "      <td>0</td>\n",
       "      <td>0</td>\n",
       "      <td>0</td>\n",
       "      <td>0</td>\n",
       "      <td>0</td>\n",
       "      <td>...</td>\n",
       "      <td>0</td>\n",
       "      <td>0</td>\n",
       "      <td>0</td>\n",
       "      <td>0</td>\n",
       "      <td>0</td>\n",
       "      <td>0</td>\n",
       "      <td>0</td>\n",
       "      <td>0</td>\n",
       "      <td>0</td>\n",
       "      <td>0</td>\n",
       "    </tr>\n",
       "  </tbody>\n",
       "</table>\n",
       "<p>5 rows × 245 columns</p>\n",
       "</div>"
      ],
      "text/plain": [
       "   size  total_sqft  bath  price  1st Block Jayanagar  1st Phase JP Nagar  \\\n",
       "0   4.0      2850.0   4.0  428.0                    1                   0   \n",
       "1   3.0      1630.0   3.0  194.0                    1                   0   \n",
       "2   3.0      1875.0   2.0  235.0                    1                   0   \n",
       "3   3.0      1200.0   2.0  130.0                    1                   0   \n",
       "4   2.0      1235.0   2.0  148.0                    1                   0   \n",
       "\n",
       "   2nd Phase Judicial Layout  2nd Stage Nagarbhavi  5th Block Hbr Layout  \\\n",
       "0                          0                     0                     0   \n",
       "1                          0                     0                     0   \n",
       "2                          0                     0                     0   \n",
       "3                          0                     0                     0   \n",
       "4                          0                     0                     0   \n",
       "\n",
       "   5th Phase JP Nagar  ...  Vijayanagar  Vishveshwarya Layout  \\\n",
       "0                   0  ...            0                     0   \n",
       "1                   0  ...            0                     0   \n",
       "2                   0  ...            0                     0   \n",
       "3                   0  ...            0                     0   \n",
       "4                   0  ...            0                     0   \n",
       "\n",
       "   Vishwapriya Layout  Vittasandra  Whitefield  Yelachenahalli  Yelahanka  \\\n",
       "0                   0            0           0               0          0   \n",
       "1                   0            0           0               0          0   \n",
       "2                   0            0           0               0          0   \n",
       "3                   0            0           0               0          0   \n",
       "4                   0            0           0               0          0   \n",
       "\n",
       "   Yelahanka New Town  Yelenahalli  Yeshwanthpur  \n",
       "0                   0            0             0  \n",
       "1                   0            0             0  \n",
       "2                   0            0             0  \n",
       "3                   0            0             0  \n",
       "4                   0            0             0  \n",
       "\n",
       "[5 rows x 245 columns]"
      ]
     },
     "execution_count": 44,
     "metadata": {},
     "output_type": "execute_result"
    }
   ],
   "source": [
    "df9.head()"
   ]
  },
  {
   "cell_type": "markdown",
   "id": "df6bbbf0",
   "metadata": {
    "papermill": {
     "duration": 0.072513,
     "end_time": "2021-12-28T19:17:09.751205",
     "exception": false,
     "start_time": "2021-12-28T19:17:09.678692",
     "status": "completed"
    },
    "tags": []
   },
   "source": [
    "### model building"
   ]
  },
  {
   "cell_type": "code",
   "execution_count": 45,
   "id": "070f8c9a",
   "metadata": {
    "execution": {
     "iopub.execute_input": "2021-12-28T19:17:09.898586Z",
     "iopub.status.busy": "2021-12-28T19:17:09.897762Z",
     "iopub.status.idle": "2021-12-28T19:17:09.905174Z",
     "shell.execute_reply": "2021-12-28T19:17:09.905748Z",
     "shell.execute_reply.started": "2021-12-28T00:21:56.404984Z"
    },
    "papermill": {
     "duration": 0.082154,
     "end_time": "2021-12-28T19:17:09.905946",
     "exception": false,
     "start_time": "2021-12-28T19:17:09.823792",
     "status": "completed"
    },
    "tags": []
   },
   "outputs": [],
   "source": [
    "#Split the datset in X and y\n",
    "x=df9.drop(columns=['price'],axis='columns')\n",
    "y=(df9.price)\n"
   ]
  },
  {
   "cell_type": "code",
   "execution_count": 46,
   "id": "f650e9ad",
   "metadata": {
    "execution": {
     "iopub.execute_input": "2021-12-28T19:17:10.062735Z",
     "iopub.status.busy": "2021-12-28T19:17:10.061635Z",
     "iopub.status.idle": "2021-12-28T19:17:10.075397Z",
     "shell.execute_reply": "2021-12-28T19:17:10.074805Z",
     "shell.execute_reply.started": "2021-12-28T00:21:56.414434Z"
    },
    "papermill": {
     "duration": 0.09384,
     "end_time": "2021-12-28T19:17:10.075559",
     "exception": false,
     "start_time": "2021-12-28T19:17:09.981719",
     "status": "completed"
    },
    "tags": []
   },
   "outputs": [],
   "source": [
    "from sklearn.model_selection import train_test_split\n",
    "x_train,x_test,y_train,y_test=train_test_split(x,y)"
   ]
  },
  {
   "cell_type": "code",
   "execution_count": 47,
   "id": "965f89e4",
   "metadata": {
    "execution": {
     "iopub.execute_input": "2021-12-28T19:17:10.231925Z",
     "iopub.status.busy": "2021-12-28T19:17:10.231210Z",
     "iopub.status.idle": "2021-12-28T19:17:10.252614Z",
     "shell.execute_reply": "2021-12-28T19:17:10.252030Z",
     "shell.execute_reply.started": "2021-12-28T00:21:56.429985Z"
    },
    "papermill": {
     "duration": 0.104569,
     "end_time": "2021-12-28T19:17:10.252771",
     "exception": false,
     "start_time": "2021-12-28T19:17:10.148202",
     "status": "completed"
    },
    "tags": []
   },
   "outputs": [
    {
     "data": {
      "text/html": [
       "<div>\n",
       "<style scoped>\n",
       "    .dataframe tbody tr th:only-of-type {\n",
       "        vertical-align: middle;\n",
       "    }\n",
       "\n",
       "    .dataframe tbody tr th {\n",
       "        vertical-align: top;\n",
       "    }\n",
       "\n",
       "    .dataframe thead th {\n",
       "        text-align: right;\n",
       "    }\n",
       "</style>\n",
       "<table border=\"1\" class=\"dataframe\">\n",
       "  <thead>\n",
       "    <tr style=\"text-align: right;\">\n",
       "      <th></th>\n",
       "      <th>size</th>\n",
       "      <th>total_sqft</th>\n",
       "      <th>bath</th>\n",
       "      <th>1st Block Jayanagar</th>\n",
       "      <th>1st Phase JP Nagar</th>\n",
       "      <th>2nd Phase Judicial Layout</th>\n",
       "      <th>2nd Stage Nagarbhavi</th>\n",
       "      <th>5th Block Hbr Layout</th>\n",
       "      <th>5th Phase JP Nagar</th>\n",
       "      <th>6th Phase JP Nagar</th>\n",
       "      <th>...</th>\n",
       "      <th>Vijayanagar</th>\n",
       "      <th>Vishveshwarya Layout</th>\n",
       "      <th>Vishwapriya Layout</th>\n",
       "      <th>Vittasandra</th>\n",
       "      <th>Whitefield</th>\n",
       "      <th>Yelachenahalli</th>\n",
       "      <th>Yelahanka</th>\n",
       "      <th>Yelahanka New Town</th>\n",
       "      <th>Yelenahalli</th>\n",
       "      <th>Yeshwanthpur</th>\n",
       "    </tr>\n",
       "  </thead>\n",
       "  <tbody>\n",
       "    <tr>\n",
       "      <th>0</th>\n",
       "      <td>4.0</td>\n",
       "      <td>2850.0</td>\n",
       "      <td>4.0</td>\n",
       "      <td>1</td>\n",
       "      <td>0</td>\n",
       "      <td>0</td>\n",
       "      <td>0</td>\n",
       "      <td>0</td>\n",
       "      <td>0</td>\n",
       "      <td>0</td>\n",
       "      <td>...</td>\n",
       "      <td>0</td>\n",
       "      <td>0</td>\n",
       "      <td>0</td>\n",
       "      <td>0</td>\n",
       "      <td>0</td>\n",
       "      <td>0</td>\n",
       "      <td>0</td>\n",
       "      <td>0</td>\n",
       "      <td>0</td>\n",
       "      <td>0</td>\n",
       "    </tr>\n",
       "    <tr>\n",
       "      <th>1</th>\n",
       "      <td>3.0</td>\n",
       "      <td>1630.0</td>\n",
       "      <td>3.0</td>\n",
       "      <td>1</td>\n",
       "      <td>0</td>\n",
       "      <td>0</td>\n",
       "      <td>0</td>\n",
       "      <td>0</td>\n",
       "      <td>0</td>\n",
       "      <td>0</td>\n",
       "      <td>...</td>\n",
       "      <td>0</td>\n",
       "      <td>0</td>\n",
       "      <td>0</td>\n",
       "      <td>0</td>\n",
       "      <td>0</td>\n",
       "      <td>0</td>\n",
       "      <td>0</td>\n",
       "      <td>0</td>\n",
       "      <td>0</td>\n",
       "      <td>0</td>\n",
       "    </tr>\n",
       "    <tr>\n",
       "      <th>2</th>\n",
       "      <td>3.0</td>\n",
       "      <td>1875.0</td>\n",
       "      <td>2.0</td>\n",
       "      <td>1</td>\n",
       "      <td>0</td>\n",
       "      <td>0</td>\n",
       "      <td>0</td>\n",
       "      <td>0</td>\n",
       "      <td>0</td>\n",
       "      <td>0</td>\n",
       "      <td>...</td>\n",
       "      <td>0</td>\n",
       "      <td>0</td>\n",
       "      <td>0</td>\n",
       "      <td>0</td>\n",
       "      <td>0</td>\n",
       "      <td>0</td>\n",
       "      <td>0</td>\n",
       "      <td>0</td>\n",
       "      <td>0</td>\n",
       "      <td>0</td>\n",
       "    </tr>\n",
       "    <tr>\n",
       "      <th>3</th>\n",
       "      <td>3.0</td>\n",
       "      <td>1200.0</td>\n",
       "      <td>2.0</td>\n",
       "      <td>1</td>\n",
       "      <td>0</td>\n",
       "      <td>0</td>\n",
       "      <td>0</td>\n",
       "      <td>0</td>\n",
       "      <td>0</td>\n",
       "      <td>0</td>\n",
       "      <td>...</td>\n",
       "      <td>0</td>\n",
       "      <td>0</td>\n",
       "      <td>0</td>\n",
       "      <td>0</td>\n",
       "      <td>0</td>\n",
       "      <td>0</td>\n",
       "      <td>0</td>\n",
       "      <td>0</td>\n",
       "      <td>0</td>\n",
       "      <td>0</td>\n",
       "    </tr>\n",
       "    <tr>\n",
       "      <th>4</th>\n",
       "      <td>2.0</td>\n",
       "      <td>1235.0</td>\n",
       "      <td>2.0</td>\n",
       "      <td>1</td>\n",
       "      <td>0</td>\n",
       "      <td>0</td>\n",
       "      <td>0</td>\n",
       "      <td>0</td>\n",
       "      <td>0</td>\n",
       "      <td>0</td>\n",
       "      <td>...</td>\n",
       "      <td>0</td>\n",
       "      <td>0</td>\n",
       "      <td>0</td>\n",
       "      <td>0</td>\n",
       "      <td>0</td>\n",
       "      <td>0</td>\n",
       "      <td>0</td>\n",
       "      <td>0</td>\n",
       "      <td>0</td>\n",
       "      <td>0</td>\n",
       "    </tr>\n",
       "  </tbody>\n",
       "</table>\n",
       "<p>5 rows × 244 columns</p>\n",
       "</div>"
      ],
      "text/plain": [
       "   size  total_sqft  bath  1st Block Jayanagar  1st Phase JP Nagar  \\\n",
       "0   4.0      2850.0   4.0                    1                   0   \n",
       "1   3.0      1630.0   3.0                    1                   0   \n",
       "2   3.0      1875.0   2.0                    1                   0   \n",
       "3   3.0      1200.0   2.0                    1                   0   \n",
       "4   2.0      1235.0   2.0                    1                   0   \n",
       "\n",
       "   2nd Phase Judicial Layout  2nd Stage Nagarbhavi  5th Block Hbr Layout  \\\n",
       "0                          0                     0                     0   \n",
       "1                          0                     0                     0   \n",
       "2                          0                     0                     0   \n",
       "3                          0                     0                     0   \n",
       "4                          0                     0                     0   \n",
       "\n",
       "   5th Phase JP Nagar  6th Phase JP Nagar  ...  Vijayanagar  \\\n",
       "0                   0                   0  ...            0   \n",
       "1                   0                   0  ...            0   \n",
       "2                   0                   0  ...            0   \n",
       "3                   0                   0  ...            0   \n",
       "4                   0                   0  ...            0   \n",
       "\n",
       "   Vishveshwarya Layout  Vishwapriya Layout  Vittasandra  Whitefield  \\\n",
       "0                     0                   0            0           0   \n",
       "1                     0                   0            0           0   \n",
       "2                     0                   0            0           0   \n",
       "3                     0                   0            0           0   \n",
       "4                     0                   0            0           0   \n",
       "\n",
       "   Yelachenahalli  Yelahanka  Yelahanka New Town  Yelenahalli  Yeshwanthpur  \n",
       "0               0          0                   0            0             0  \n",
       "1               0          0                   0            0             0  \n",
       "2               0          0                   0            0             0  \n",
       "3               0          0                   0            0             0  \n",
       "4               0          0                   0            0             0  \n",
       "\n",
       "[5 rows x 244 columns]"
      ]
     },
     "execution_count": 47,
     "metadata": {},
     "output_type": "execute_result"
    }
   ],
   "source": [
    "x.head()"
   ]
  },
  {
   "cell_type": "code",
   "execution_count": 48,
   "id": "b8e517b8",
   "metadata": {
    "execution": {
     "iopub.execute_input": "2021-12-28T19:17:10.408780Z",
     "iopub.status.busy": "2021-12-28T19:17:10.408027Z",
     "iopub.status.idle": "2021-12-28T19:17:10.530058Z",
     "shell.execute_reply": "2021-12-28T19:17:10.531270Z",
     "shell.execute_reply.started": "2021-12-28T00:21:56.45593Z"
    },
    "papermill": {
     "duration": 0.205862,
     "end_time": "2021-12-28T19:17:10.531619",
     "exception": false,
     "start_time": "2021-12-28T19:17:10.325757",
     "status": "completed"
    },
    "tags": []
   },
   "outputs": [
    {
     "name": "stdout",
     "output_type": "stream",
     "text": [
      "LR train model:0.8636110937467334\n",
      "LR test model:0.8182200773037218\n"
     ]
    }
   ],
   "source": [
    "from sklearn.linear_model import LinearRegression\n",
    "model1=LinearRegression(n_jobs=1000)\n",
    "model1.fit(x_train,y_train)\n",
    "print('LR train model:' + str( model1.score(x_train,y_train)))\n",
    "print('LR test model:' + str(model1.score(x_test,y_test)))"
   ]
  },
  {
   "cell_type": "code",
   "execution_count": 49,
   "id": "e19fe95b",
   "metadata": {
    "execution": {
     "iopub.execute_input": "2021-12-28T19:17:10.741680Z",
     "iopub.status.busy": "2021-12-28T19:17:10.740891Z",
     "iopub.status.idle": "2021-12-28T19:17:11.338609Z",
     "shell.execute_reply": "2021-12-28T19:17:11.339699Z",
     "shell.execute_reply.started": "2021-12-28T00:21:56.587982Z"
    },
    "papermill": {
     "duration": 0.680995,
     "end_time": "2021-12-28T19:17:11.340006",
     "exception": false,
     "start_time": "2021-12-28T19:17:10.659011",
     "status": "completed"
    },
    "tags": []
   },
   "outputs": [
    {
     "data": {
      "text/plain": [
       "array([0.8507328 , 0.84291693, 0.82053465, 0.83657512, 0.83904732])"
      ]
     },
     "execution_count": 49,
     "metadata": {},
     "output_type": "execute_result"
    }
   ],
   "source": [
    "#K-fold\n",
    "\n",
    "from sklearn.model_selection import ShuffleSplit\n",
    "from sklearn.model_selection import cross_val_score\n",
    "\n",
    "cv=ShuffleSplit(n_splits=5,test_size=.25,random_state=0)\n",
    "\n",
    "cross_val_score(LinearRegression(),x,y,cv=cv)"
   ]
  },
  {
   "cell_type": "code",
   "execution_count": 50,
   "id": "1a214e95",
   "metadata": {
    "execution": {
     "iopub.execute_input": "2021-12-28T19:17:11.552492Z",
     "iopub.status.busy": "2021-12-28T19:17:11.548326Z",
     "iopub.status.idle": "2021-12-28T19:17:28.344545Z",
     "shell.execute_reply": "2021-12-28T19:17:28.343941Z",
     "shell.execute_reply.started": "2021-12-28T00:21:57.237433Z"
    },
    "papermill": {
     "duration": 16.878232,
     "end_time": "2021-12-28T19:17:28.344693",
     "exception": false,
     "start_time": "2021-12-28T19:17:11.466461",
     "status": "completed"
    },
    "tags": []
   },
   "outputs": [
    {
     "data": {
      "text/html": [
       "<div>\n",
       "<style scoped>\n",
       "    .dataframe tbody tr th:only-of-type {\n",
       "        vertical-align: middle;\n",
       "    }\n",
       "\n",
       "    .dataframe tbody tr th {\n",
       "        vertical-align: top;\n",
       "    }\n",
       "\n",
       "    .dataframe thead th {\n",
       "        text-align: right;\n",
       "    }\n",
       "</style>\n",
       "<table border=\"1\" class=\"dataframe\">\n",
       "  <thead>\n",
       "    <tr style=\"text-align: right;\">\n",
       "      <th></th>\n",
       "      <th>model</th>\n",
       "      <th>best_score</th>\n",
       "      <th>best_params</th>\n",
       "    </tr>\n",
       "  </thead>\n",
       "  <tbody>\n",
       "    <tr>\n",
       "      <th>0</th>\n",
       "      <td>linear_regression</td>\n",
       "      <td>0.837961</td>\n",
       "      <td>{'normalize': False}</td>\n",
       "    </tr>\n",
       "    <tr>\n",
       "      <th>1</th>\n",
       "      <td>lasso</td>\n",
       "      <td>0.837978</td>\n",
       "      <td>{'alpha': 0.001, 'selection': 'cyclic'}</td>\n",
       "    </tr>\n",
       "    <tr>\n",
       "      <th>2</th>\n",
       "      <td>Elastic</td>\n",
       "      <td>0.837978</td>\n",
       "      <td>{'alpha': 0.001, 'l1_ratio': 1}</td>\n",
       "    </tr>\n",
       "    <tr>\n",
       "      <th>3</th>\n",
       "      <td>deciscion_tree</td>\n",
       "      <td>0.759271</td>\n",
       "      <td>{'criterion': 'mse', 'splitter': 'random'}</td>\n",
       "    </tr>\n",
       "  </tbody>\n",
       "</table>\n",
       "</div>"
      ],
      "text/plain": [
       "               model  best_score                                 best_params\n",
       "0  linear_regression    0.837961                        {'normalize': False}\n",
       "1              lasso    0.837978     {'alpha': 0.001, 'selection': 'cyclic'}\n",
       "2            Elastic    0.837978             {'alpha': 0.001, 'l1_ratio': 1}\n",
       "3     deciscion_tree    0.759271  {'criterion': 'mse', 'splitter': 'random'}"
      ]
     },
     "execution_count": 50,
     "metadata": {},
     "output_type": "execute_result"
    }
   ],
   "source": [
    "#Trying diffrent algorithm:Hyperparameters-gridsearchmethod\n",
    "from sklearn.model_selection import GridSearchCV\n",
    "\n",
    "from sklearn.linear_model import Lasso\n",
    "from sklearn.tree import DecisionTreeRegressor\n",
    "from sklearn.linear_model import ElasticNet\n",
    "from sklearn.linear_model import Ridge\n",
    "\n",
    "\n",
    "def find_best_model(x,y):\n",
    "    algos={\n",
    "        \n",
    "        'linear_regression' :{\n",
    "        \n",
    "        'model':LinearRegression(),\n",
    "        'params':{\n",
    "            'normalize':[True,False]\n",
    "            \n",
    "        }\n",
    "    },\n",
    "\n",
    "          'lasso' :{\n",
    "        \n",
    "        'model':Lasso(),\n",
    "        'params':{\n",
    "            'selection':['random','cyclic'],\n",
    "            'alpha' :[1,2,.1,.001]            \n",
    "        }\n",
    "    },\n",
    "\n",
    "          'Elastic' :{\n",
    "        \n",
    "        'model':ElasticNet(),\n",
    "        'params':{\n",
    "            #'selection':['random','cyclic'],\n",
    "            'l1_ratio':[1,.001],\n",
    "            'alpha' : [.1,.001,1,.01]       \n",
    "        }\n",
    "    },\n",
    "     \n",
    "          'deciscion_tree' :{\n",
    "        \n",
    "        'model':DecisionTreeRegressor(),\n",
    "        'params':{\n",
    "            'criterion':['mse','friedman_mse'],\n",
    "            'splitter':['best','random']\n",
    "            \n",
    "        }\n",
    "    }\n",
    "          \n",
    "    }\n",
    "    \n",
    "    scores=[]\n",
    "    cv=ShuffleSplit(n_splits=5,test_size=.25,random_state=0)\n",
    "    for algo_name, config in algos.items():\n",
    "        gs =  GridSearchCV(config['model'], config['params'], cv=cv, return_train_score=False)\n",
    "        gs.fit(x,y)\n",
    "        scores.append({\n",
    "            'model': algo_name,\n",
    "            'best_score': gs.best_score_,\n",
    "            'best_params': gs.best_params_\n",
    "        })\n",
    "\n",
    "    return pd.DataFrame(scores,columns=['model','best_score','best_params'])\n",
    "\n",
    "find_best_model(x,y)"
   ]
  },
  {
   "cell_type": "code",
   "execution_count": 51,
   "id": "e7b24e7d",
   "metadata": {
    "execution": {
     "iopub.execute_input": "2021-12-28T19:17:28.495190Z",
     "iopub.status.busy": "2021-12-28T19:17:28.494235Z",
     "iopub.status.idle": "2021-12-28T19:17:28.497029Z",
     "shell.execute_reply": "2021-12-28T19:17:28.496474Z",
     "shell.execute_reply.started": "2021-12-28T00:22:11.657254Z"
    },
    "papermill": {
     "duration": 0.079757,
     "end_time": "2021-12-28T19:17:28.497194",
     "exception": false,
     "start_time": "2021-12-28T19:17:28.417437",
     "status": "completed"
    },
    "tags": []
   },
   "outputs": [],
   "source": [
    "#np.where(x.columns=='1st Block Jayanagar')[0][0]"
   ]
  },
  {
   "cell_type": "code",
   "execution_count": 52,
   "id": "667ce344",
   "metadata": {
    "execution": {
     "iopub.execute_input": "2021-12-28T19:17:28.648757Z",
     "iopub.status.busy": "2021-12-28T19:17:28.648094Z",
     "iopub.status.idle": "2021-12-28T19:17:28.669609Z",
     "shell.execute_reply": "2021-12-28T19:17:28.669039Z",
     "shell.execute_reply.started": "2021-12-28T00:22:11.66273Z"
    },
    "papermill": {
     "duration": 0.098494,
     "end_time": "2021-12-28T19:17:28.669763",
     "exception": false,
     "start_time": "2021-12-28T19:17:28.571269",
     "status": "completed"
    },
    "tags": []
   },
   "outputs": [
    {
     "data": {
      "text/html": [
       "<div>\n",
       "<style scoped>\n",
       "    .dataframe tbody tr th:only-of-type {\n",
       "        vertical-align: middle;\n",
       "    }\n",
       "\n",
       "    .dataframe tbody tr th {\n",
       "        vertical-align: top;\n",
       "    }\n",
       "\n",
       "    .dataframe thead th {\n",
       "        text-align: right;\n",
       "    }\n",
       "</style>\n",
       "<table border=\"1\" class=\"dataframe\">\n",
       "  <thead>\n",
       "    <tr style=\"text-align: right;\">\n",
       "      <th></th>\n",
       "      <th>size</th>\n",
       "      <th>total_sqft</th>\n",
       "      <th>bath</th>\n",
       "      <th>price</th>\n",
       "      <th>1st Block Jayanagar</th>\n",
       "      <th>1st Phase JP Nagar</th>\n",
       "      <th>2nd Phase Judicial Layout</th>\n",
       "      <th>2nd Stage Nagarbhavi</th>\n",
       "      <th>5th Block Hbr Layout</th>\n",
       "      <th>5th Phase JP Nagar</th>\n",
       "      <th>...</th>\n",
       "      <th>Vijayanagar</th>\n",
       "      <th>Vishveshwarya Layout</th>\n",
       "      <th>Vishwapriya Layout</th>\n",
       "      <th>Vittasandra</th>\n",
       "      <th>Whitefield</th>\n",
       "      <th>Yelachenahalli</th>\n",
       "      <th>Yelahanka</th>\n",
       "      <th>Yelahanka New Town</th>\n",
       "      <th>Yelenahalli</th>\n",
       "      <th>Yeshwanthpur</th>\n",
       "    </tr>\n",
       "  </thead>\n",
       "  <tbody>\n",
       "    <tr>\n",
       "      <th>0</th>\n",
       "      <td>4.0</td>\n",
       "      <td>2850.0</td>\n",
       "      <td>4.0</td>\n",
       "      <td>428.0</td>\n",
       "      <td>1</td>\n",
       "      <td>0</td>\n",
       "      <td>0</td>\n",
       "      <td>0</td>\n",
       "      <td>0</td>\n",
       "      <td>0</td>\n",
       "      <td>...</td>\n",
       "      <td>0</td>\n",
       "      <td>0</td>\n",
       "      <td>0</td>\n",
       "      <td>0</td>\n",
       "      <td>0</td>\n",
       "      <td>0</td>\n",
       "      <td>0</td>\n",
       "      <td>0</td>\n",
       "      <td>0</td>\n",
       "      <td>0</td>\n",
       "    </tr>\n",
       "    <tr>\n",
       "      <th>1</th>\n",
       "      <td>3.0</td>\n",
       "      <td>1630.0</td>\n",
       "      <td>3.0</td>\n",
       "      <td>194.0</td>\n",
       "      <td>1</td>\n",
       "      <td>0</td>\n",
       "      <td>0</td>\n",
       "      <td>0</td>\n",
       "      <td>0</td>\n",
       "      <td>0</td>\n",
       "      <td>...</td>\n",
       "      <td>0</td>\n",
       "      <td>0</td>\n",
       "      <td>0</td>\n",
       "      <td>0</td>\n",
       "      <td>0</td>\n",
       "      <td>0</td>\n",
       "      <td>0</td>\n",
       "      <td>0</td>\n",
       "      <td>0</td>\n",
       "      <td>0</td>\n",
       "    </tr>\n",
       "    <tr>\n",
       "      <th>2</th>\n",
       "      <td>3.0</td>\n",
       "      <td>1875.0</td>\n",
       "      <td>2.0</td>\n",
       "      <td>235.0</td>\n",
       "      <td>1</td>\n",
       "      <td>0</td>\n",
       "      <td>0</td>\n",
       "      <td>0</td>\n",
       "      <td>0</td>\n",
       "      <td>0</td>\n",
       "      <td>...</td>\n",
       "      <td>0</td>\n",
       "      <td>0</td>\n",
       "      <td>0</td>\n",
       "      <td>0</td>\n",
       "      <td>0</td>\n",
       "      <td>0</td>\n",
       "      <td>0</td>\n",
       "      <td>0</td>\n",
       "      <td>0</td>\n",
       "      <td>0</td>\n",
       "    </tr>\n",
       "    <tr>\n",
       "      <th>3</th>\n",
       "      <td>3.0</td>\n",
       "      <td>1200.0</td>\n",
       "      <td>2.0</td>\n",
       "      <td>130.0</td>\n",
       "      <td>1</td>\n",
       "      <td>0</td>\n",
       "      <td>0</td>\n",
       "      <td>0</td>\n",
       "      <td>0</td>\n",
       "      <td>0</td>\n",
       "      <td>...</td>\n",
       "      <td>0</td>\n",
       "      <td>0</td>\n",
       "      <td>0</td>\n",
       "      <td>0</td>\n",
       "      <td>0</td>\n",
       "      <td>0</td>\n",
       "      <td>0</td>\n",
       "      <td>0</td>\n",
       "      <td>0</td>\n",
       "      <td>0</td>\n",
       "    </tr>\n",
       "    <tr>\n",
       "      <th>4</th>\n",
       "      <td>2.0</td>\n",
       "      <td>1235.0</td>\n",
       "      <td>2.0</td>\n",
       "      <td>148.0</td>\n",
       "      <td>1</td>\n",
       "      <td>0</td>\n",
       "      <td>0</td>\n",
       "      <td>0</td>\n",
       "      <td>0</td>\n",
       "      <td>0</td>\n",
       "      <td>...</td>\n",
       "      <td>0</td>\n",
       "      <td>0</td>\n",
       "      <td>0</td>\n",
       "      <td>0</td>\n",
       "      <td>0</td>\n",
       "      <td>0</td>\n",
       "      <td>0</td>\n",
       "      <td>0</td>\n",
       "      <td>0</td>\n",
       "      <td>0</td>\n",
       "    </tr>\n",
       "  </tbody>\n",
       "</table>\n",
       "<p>5 rows × 245 columns</p>\n",
       "</div>"
      ],
      "text/plain": [
       "   size  total_sqft  bath  price  1st Block Jayanagar  1st Phase JP Nagar  \\\n",
       "0   4.0      2850.0   4.0  428.0                    1                   0   \n",
       "1   3.0      1630.0   3.0  194.0                    1                   0   \n",
       "2   3.0      1875.0   2.0  235.0                    1                   0   \n",
       "3   3.0      1200.0   2.0  130.0                    1                   0   \n",
       "4   2.0      1235.0   2.0  148.0                    1                   0   \n",
       "\n",
       "   2nd Phase Judicial Layout  2nd Stage Nagarbhavi  5th Block Hbr Layout  \\\n",
       "0                          0                     0                     0   \n",
       "1                          0                     0                     0   \n",
       "2                          0                     0                     0   \n",
       "3                          0                     0                     0   \n",
       "4                          0                     0                     0   \n",
       "\n",
       "   5th Phase JP Nagar  ...  Vijayanagar  Vishveshwarya Layout  \\\n",
       "0                   0  ...            0                     0   \n",
       "1                   0  ...            0                     0   \n",
       "2                   0  ...            0                     0   \n",
       "3                   0  ...            0                     0   \n",
       "4                   0  ...            0                     0   \n",
       "\n",
       "   Vishwapriya Layout  Vittasandra  Whitefield  Yelachenahalli  Yelahanka  \\\n",
       "0                   0            0           0               0          0   \n",
       "1                   0            0           0               0          0   \n",
       "2                   0            0           0               0          0   \n",
       "3                   0            0           0               0          0   \n",
       "4                   0            0           0               0          0   \n",
       "\n",
       "   Yelahanka New Town  Yelenahalli  Yeshwanthpur  \n",
       "0                   0            0             0  \n",
       "1                   0            0             0  \n",
       "2                   0            0             0  \n",
       "3                   0            0             0  \n",
       "4                   0            0             0  \n",
       "\n",
       "[5 rows x 245 columns]"
      ]
     },
     "execution_count": 52,
     "metadata": {},
     "output_type": "execute_result"
    }
   ],
   "source": [
    "df9.head()"
   ]
  },
  {
   "cell_type": "code",
   "execution_count": 53,
   "id": "7252f8e2",
   "metadata": {
    "execution": {
     "iopub.execute_input": "2021-12-28T19:17:28.823031Z",
     "iopub.status.busy": "2021-12-28T19:17:28.820693Z",
     "iopub.status.idle": "2021-12-28T19:17:28.825533Z",
     "shell.execute_reply": "2021-12-28T19:17:28.826101Z",
     "shell.execute_reply.started": "2021-12-28T00:22:11.702833Z"
    },
    "papermill": {
     "duration": 0.081832,
     "end_time": "2021-12-28T19:17:28.826289",
     "exception": false,
     "start_time": "2021-12-28T19:17:28.744457",
     "status": "completed"
    },
    "tags": []
   },
   "outputs": [
    {
     "data": {
      "text/plain": [
       "(7325, 244)"
      ]
     },
     "execution_count": 53,
     "metadata": {},
     "output_type": "execute_result"
    }
   ],
   "source": [
    "x.shape"
   ]
  },
  {
   "cell_type": "code",
   "execution_count": 54,
   "id": "55781457",
   "metadata": {
    "execution": {
     "iopub.execute_input": "2021-12-28T19:17:28.982337Z",
     "iopub.status.busy": "2021-12-28T19:17:28.981601Z",
     "iopub.status.idle": "2021-12-28T19:17:29.003605Z",
     "shell.execute_reply": "2021-12-28T19:17:29.003068Z",
     "shell.execute_reply.started": "2021-12-28T00:22:11.710997Z"
    },
    "papermill": {
     "duration": 0.101826,
     "end_time": "2021-12-28T19:17:29.003759",
     "exception": false,
     "start_time": "2021-12-28T19:17:28.901933",
     "status": "completed"
    },
    "tags": []
   },
   "outputs": [
    {
     "data": {
      "text/html": [
       "<div>\n",
       "<style scoped>\n",
       "    .dataframe tbody tr th:only-of-type {\n",
       "        vertical-align: middle;\n",
       "    }\n",
       "\n",
       "    .dataframe tbody tr th {\n",
       "        vertical-align: top;\n",
       "    }\n",
       "\n",
       "    .dataframe thead th {\n",
       "        text-align: right;\n",
       "    }\n",
       "</style>\n",
       "<table border=\"1\" class=\"dataframe\">\n",
       "  <thead>\n",
       "    <tr style=\"text-align: right;\">\n",
       "      <th></th>\n",
       "      <th>size</th>\n",
       "      <th>total_sqft</th>\n",
       "      <th>bath</th>\n",
       "      <th>1st Block Jayanagar</th>\n",
       "      <th>1st Phase JP Nagar</th>\n",
       "      <th>2nd Phase Judicial Layout</th>\n",
       "      <th>2nd Stage Nagarbhavi</th>\n",
       "      <th>5th Block Hbr Layout</th>\n",
       "      <th>5th Phase JP Nagar</th>\n",
       "      <th>6th Phase JP Nagar</th>\n",
       "      <th>...</th>\n",
       "      <th>Vijayanagar</th>\n",
       "      <th>Vishveshwarya Layout</th>\n",
       "      <th>Vishwapriya Layout</th>\n",
       "      <th>Vittasandra</th>\n",
       "      <th>Whitefield</th>\n",
       "      <th>Yelachenahalli</th>\n",
       "      <th>Yelahanka</th>\n",
       "      <th>Yelahanka New Town</th>\n",
       "      <th>Yelenahalli</th>\n",
       "      <th>Yeshwanthpur</th>\n",
       "    </tr>\n",
       "  </thead>\n",
       "  <tbody>\n",
       "    <tr>\n",
       "      <th>5236</th>\n",
       "      <td>2.0</td>\n",
       "      <td>980.0</td>\n",
       "      <td>2.0</td>\n",
       "      <td>0</td>\n",
       "      <td>0</td>\n",
       "      <td>0</td>\n",
       "      <td>0</td>\n",
       "      <td>0</td>\n",
       "      <td>0</td>\n",
       "      <td>0</td>\n",
       "      <td>...</td>\n",
       "      <td>0</td>\n",
       "      <td>0</td>\n",
       "      <td>0</td>\n",
       "      <td>0</td>\n",
       "      <td>0</td>\n",
       "      <td>0</td>\n",
       "      <td>0</td>\n",
       "      <td>0</td>\n",
       "      <td>0</td>\n",
       "      <td>0</td>\n",
       "    </tr>\n",
       "    <tr>\n",
       "      <th>5605</th>\n",
       "      <td>2.0</td>\n",
       "      <td>1140.0</td>\n",
       "      <td>2.0</td>\n",
       "      <td>0</td>\n",
       "      <td>0</td>\n",
       "      <td>0</td>\n",
       "      <td>0</td>\n",
       "      <td>0</td>\n",
       "      <td>0</td>\n",
       "      <td>0</td>\n",
       "      <td>...</td>\n",
       "      <td>0</td>\n",
       "      <td>0</td>\n",
       "      <td>0</td>\n",
       "      <td>0</td>\n",
       "      <td>0</td>\n",
       "      <td>0</td>\n",
       "      <td>0</td>\n",
       "      <td>0</td>\n",
       "      <td>0</td>\n",
       "      <td>0</td>\n",
       "    </tr>\n",
       "    <tr>\n",
       "      <th>2253</th>\n",
       "      <td>2.0</td>\n",
       "      <td>1200.0</td>\n",
       "      <td>2.0</td>\n",
       "      <td>0</td>\n",
       "      <td>0</td>\n",
       "      <td>0</td>\n",
       "      <td>0</td>\n",
       "      <td>0</td>\n",
       "      <td>0</td>\n",
       "      <td>0</td>\n",
       "      <td>...</td>\n",
       "      <td>0</td>\n",
       "      <td>0</td>\n",
       "      <td>0</td>\n",
       "      <td>0</td>\n",
       "      <td>0</td>\n",
       "      <td>0</td>\n",
       "      <td>0</td>\n",
       "      <td>0</td>\n",
       "      <td>0</td>\n",
       "      <td>0</td>\n",
       "    </tr>\n",
       "    <tr>\n",
       "      <th>9124</th>\n",
       "      <td>2.0</td>\n",
       "      <td>1230.0</td>\n",
       "      <td>2.0</td>\n",
       "      <td>0</td>\n",
       "      <td>0</td>\n",
       "      <td>0</td>\n",
       "      <td>0</td>\n",
       "      <td>0</td>\n",
       "      <td>0</td>\n",
       "      <td>0</td>\n",
       "      <td>...</td>\n",
       "      <td>0</td>\n",
       "      <td>0</td>\n",
       "      <td>0</td>\n",
       "      <td>0</td>\n",
       "      <td>0</td>\n",
       "      <td>0</td>\n",
       "      <td>0</td>\n",
       "      <td>0</td>\n",
       "      <td>0</td>\n",
       "      <td>0</td>\n",
       "    </tr>\n",
       "    <tr>\n",
       "      <th>8340</th>\n",
       "      <td>2.0</td>\n",
       "      <td>1370.0</td>\n",
       "      <td>2.0</td>\n",
       "      <td>0</td>\n",
       "      <td>0</td>\n",
       "      <td>0</td>\n",
       "      <td>0</td>\n",
       "      <td>0</td>\n",
       "      <td>0</td>\n",
       "      <td>0</td>\n",
       "      <td>...</td>\n",
       "      <td>0</td>\n",
       "      <td>0</td>\n",
       "      <td>0</td>\n",
       "      <td>0</td>\n",
       "      <td>0</td>\n",
       "      <td>0</td>\n",
       "      <td>0</td>\n",
       "      <td>0</td>\n",
       "      <td>0</td>\n",
       "      <td>0</td>\n",
       "    </tr>\n",
       "  </tbody>\n",
       "</table>\n",
       "<p>5 rows × 244 columns</p>\n",
       "</div>"
      ],
      "text/plain": [
       "      size  total_sqft  bath  1st Block Jayanagar  1st Phase JP Nagar  \\\n",
       "5236   2.0       980.0   2.0                    0                   0   \n",
       "5605   2.0      1140.0   2.0                    0                   0   \n",
       "2253   2.0      1200.0   2.0                    0                   0   \n",
       "9124   2.0      1230.0   2.0                    0                   0   \n",
       "8340   2.0      1370.0   2.0                    0                   0   \n",
       "\n",
       "      2nd Phase Judicial Layout  2nd Stage Nagarbhavi  5th Block Hbr Layout  \\\n",
       "5236                          0                     0                     0   \n",
       "5605                          0                     0                     0   \n",
       "2253                          0                     0                     0   \n",
       "9124                          0                     0                     0   \n",
       "8340                          0                     0                     0   \n",
       "\n",
       "      5th Phase JP Nagar  6th Phase JP Nagar  ...  Vijayanagar  \\\n",
       "5236                   0                   0  ...            0   \n",
       "5605                   0                   0  ...            0   \n",
       "2253                   0                   0  ...            0   \n",
       "9124                   0                   0  ...            0   \n",
       "8340                   0                   0  ...            0   \n",
       "\n",
       "      Vishveshwarya Layout  Vishwapriya Layout  Vittasandra  Whitefield  \\\n",
       "5236                     0                   0            0           0   \n",
       "5605                     0                   0            0           0   \n",
       "2253                     0                   0            0           0   \n",
       "9124                     0                   0            0           0   \n",
       "8340                     0                   0            0           0   \n",
       "\n",
       "      Yelachenahalli  Yelahanka  Yelahanka New Town  Yelenahalli  Yeshwanthpur  \n",
       "5236               0          0                   0            0             0  \n",
       "5605               0          0                   0            0             0  \n",
       "2253               0          0                   0            0             0  \n",
       "9124               0          0                   0            0             0  \n",
       "8340               0          0                   0            0             0  \n",
       "\n",
       "[5 rows x 244 columns]"
      ]
     },
     "execution_count": 54,
     "metadata": {},
     "output_type": "execute_result"
    }
   ],
   "source": [
    "x_train.head()"
   ]
  },
  {
   "cell_type": "code",
   "execution_count": 55,
   "id": "b8bcf1e2",
   "metadata": {
    "execution": {
     "iopub.execute_input": "2021-12-28T19:17:29.161850Z",
     "iopub.status.busy": "2021-12-28T19:17:29.161128Z",
     "iopub.status.idle": "2021-12-28T19:17:29.163873Z",
     "shell.execute_reply": "2021-12-28T19:17:29.163383Z",
     "shell.execute_reply.started": "2021-12-28T00:22:11.7391Z"
    },
    "papermill": {
     "duration": 0.084909,
     "end_time": "2021-12-28T19:17:29.164052",
     "exception": false,
     "start_time": "2021-12-28T19:17:29.079143",
     "status": "completed"
    },
    "tags": []
   },
   "outputs": [],
   "source": [
    "def predict_price(size,total_sqft,bath,location):    \n",
    "    loc_index = np.where(x.columns==location)[0][0]\n",
    "\n",
    "    a = np.zeros(len(x.columns))\n",
    "    a[0] = size\n",
    "    a[1] = total_sqft\n",
    "    a[2] = bath\n",
    "    if loc_index >= 0:\n",
    "        a[loc_index] = 1\n",
    "\n",
    "    return model1.predict([a])[0]"
   ]
  },
  {
   "cell_type": "code",
   "execution_count": 56,
   "id": "aec619d1",
   "metadata": {
    "execution": {
     "iopub.execute_input": "2021-12-28T19:17:29.317681Z",
     "iopub.status.busy": "2021-12-28T19:17:29.316870Z",
     "iopub.status.idle": "2021-12-28T19:17:29.319845Z",
     "shell.execute_reply": "2021-12-28T19:17:29.319302Z",
     "shell.execute_reply.started": "2021-12-28T00:22:11.747098Z"
    },
    "papermill": {
     "duration": 0.08144,
     "end_time": "2021-12-28T19:17:29.320007",
     "exception": false,
     "start_time": "2021-12-28T19:17:29.238567",
     "status": "completed"
    },
    "tags": []
   },
   "outputs": [],
   "source": [
    "#np.where(x.columns=='1st Phase JP Nagar')[0][0]"
   ]
  },
  {
   "cell_type": "code",
   "execution_count": 57,
   "id": "5c6b1fc3",
   "metadata": {
    "execution": {
     "iopub.execute_input": "2021-12-28T19:17:29.476025Z",
     "iopub.status.busy": "2021-12-28T19:17:29.475233Z",
     "iopub.status.idle": "2021-12-28T19:17:29.479087Z",
     "shell.execute_reply": "2021-12-28T19:17:29.478536Z",
     "shell.execute_reply.started": "2021-12-28T00:22:11.757497Z"
    },
    "papermill": {
     "duration": 0.084522,
     "end_time": "2021-12-28T19:17:29.479228",
     "exception": false,
     "start_time": "2021-12-28T19:17:29.394706",
     "status": "completed"
    },
    "tags": []
   },
   "outputs": [
    {
     "data": {
      "text/plain": [
       "82.86729446836102"
      ]
     },
     "execution_count": 57,
     "metadata": {},
     "output_type": "execute_result"
    }
   ],
   "source": [
    "predict_price(2, 1000, 2,'1st Phase JP Nagar')"
   ]
  },
  {
   "cell_type": "markdown",
   "id": "d5ba60c2",
   "metadata": {
    "papermill": {
     "duration": 0.074447,
     "end_time": "2021-12-28T19:17:29.628331",
     "exception": false,
     "start_time": "2021-12-28T19:17:29.553884",
     "status": "completed"
    },
    "tags": []
   },
   "source": [
    "#### Export the tested model to a pickle file"
   ]
  },
  {
   "cell_type": "code",
   "execution_count": 58,
   "id": "37586d36",
   "metadata": {
    "execution": {
     "iopub.execute_input": "2021-12-28T19:17:29.785750Z",
     "iopub.status.busy": "2021-12-28T19:17:29.785066Z",
     "iopub.status.idle": "2021-12-28T19:17:29.788187Z",
     "shell.execute_reply": "2021-12-28T19:17:29.787619Z",
     "shell.execute_reply.started": "2021-12-28T00:22:11.774668Z"
    },
    "papermill": {
     "duration": 0.084951,
     "end_time": "2021-12-28T19:17:29.788327",
     "exception": false,
     "start_time": "2021-12-28T19:17:29.703376",
     "status": "completed"
    },
    "tags": []
   },
   "outputs": [],
   "source": [
    "import pickle\n",
    "with open('banglore_home_prices_model.pickle','wb') as f:\n",
    "    pickle.dump(model1,f)"
   ]
  },
  {
   "cell_type": "markdown",
   "id": "77615da6",
   "metadata": {
    "papermill": {
     "duration": 0.075459,
     "end_time": "2021-12-28T19:17:29.939526",
     "exception": false,
     "start_time": "2021-12-28T19:17:29.864067",
     "status": "completed"
    },
    "tags": []
   },
   "source": [
    "#### Export location and column information to a file that will be useful later on in our prediction application"
   ]
  },
  {
   "cell_type": "code",
   "execution_count": 59,
   "id": "08229de9",
   "metadata": {
    "execution": {
     "iopub.execute_input": "2021-12-28T19:17:30.098450Z",
     "iopub.status.busy": "2021-12-28T19:17:30.097708Z",
     "iopub.status.idle": "2021-12-28T19:17:30.100975Z",
     "shell.execute_reply": "2021-12-28T19:17:30.100402Z",
     "shell.execute_reply.started": "2021-12-28T00:22:11.785501Z"
    },
    "papermill": {
     "duration": 0.08497,
     "end_time": "2021-12-28T19:17:30.101130",
     "exception": false,
     "start_time": "2021-12-28T19:17:30.016160",
     "status": "completed"
    },
    "tags": []
   },
   "outputs": [],
   "source": [
    "import json\n",
    "columns = {\n",
    "    'data_columns' : [col.lower() for col in x.columns]\n",
    "}\n",
    "with open(\"columns.json\",\"w\") as f: \n",
    "    f.write(json.dumps(columns))"
   ]
  }
 ],
 "metadata": {
  "kernelspec": {
   "display_name": "Python 3",
   "language": "python",
   "name": "python3"
  },
  "language_info": {
   "codemirror_mode": {
    "name": "ipython",
    "version": 3
   },
   "file_extension": ".py",
   "mimetype": "text/x-python",
   "name": "python",
   "nbconvert_exporter": "python",
   "pygments_lexer": "ipython3",
   "version": "3.7.12"
  },
  "papermill": {
   "default_parameters": {},
   "duration": 44.853786,
   "end_time": "2021-12-28T19:17:30.988303",
   "environment_variables": {},
   "exception": null,
   "input_path": "__notebook__.ipynb",
   "output_path": "__notebook__.ipynb",
   "parameters": {},
   "start_time": "2021-12-28T19:16:46.134517",
   "version": "2.3.3"
  }
 },
 "nbformat": 4,
 "nbformat_minor": 5
}
