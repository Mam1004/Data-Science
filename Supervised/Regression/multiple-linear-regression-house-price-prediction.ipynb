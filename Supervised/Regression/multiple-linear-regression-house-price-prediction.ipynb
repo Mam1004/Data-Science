{
 "cells": [
  {
   "cell_type": "markdown",
   "metadata": {
    "papermill": {
     "duration": 0.013477,
     "end_time": "2021-03-27T23:49:06.566016",
     "exception": false,
     "start_time": "2021-03-27T23:49:06.552539",
     "status": "completed"
    },
    "tags": []
   },
   "source": [
    "### Requierments of linear regression\n",
    "\n",
    "1. Linear Assumption — model assumes the relationship between variables is linear\n",
    "2. No Noise — model assumes that the input and output variables are not noisy — so remove outliers if possible\n",
    "3. No Collinearity — model will overfit when you have highly correlated input variables\n",
    "4. Normal Distribution — the model will make more reliable predictions if your input and output variables are normally distributed. If that’s not the case, try using some transforms on your variables to make them more normal-looking\n",
    "5. Rescaled Inputs — use scalers or normalizer to make more reliable predictions\n",
    "\n",
    "[image.png](attachment:image.png)\n"
   ]
  },
  {
   "cell_type": "code",
   "execution_count": 1,
   "metadata": {
    "execution": {
     "iopub.execute_input": "2021-03-27T23:49:06.597922Z",
     "iopub.status.busy": "2021-03-27T23:49:06.597245Z",
     "iopub.status.idle": "2021-03-27T23:49:07.591665Z",
     "shell.execute_reply": "2021-03-27T23:49:07.590813Z"
    },
    "papermill": {
     "duration": 1.013169,
     "end_time": "2021-03-27T23:49:07.591891",
     "exception": false,
     "start_time": "2021-03-27T23:49:06.578722",
     "status": "completed"
    },
    "tags": []
   },
   "outputs": [],
   "source": [
    " #Import packages and classes\n",
    "import pandas as pd\n",
    "import seaborn as sns\n",
    "from matplotlib import pyplot as plt"
   ]
  },
  {
   "cell_type": "code",
   "execution_count": 2,
   "metadata": {
    "execution": {
     "iopub.execute_input": "2021-03-27T23:49:07.623719Z",
     "iopub.status.busy": "2021-03-27T23:49:07.623014Z",
     "iopub.status.idle": "2021-03-27T23:49:07.741293Z",
     "shell.execute_reply": "2021-03-27T23:49:07.742114Z"
    },
    "papermill": {
     "duration": 0.137534,
     "end_time": "2021-03-27T23:49:07.742355",
     "exception": false,
     "start_time": "2021-03-27T23:49:07.604821",
     "status": "completed"
    },
    "tags": []
   },
   "outputs": [
    {
     "data": {
      "text/html": [
       "<div>\n",
       "<style scoped>\n",
       "    .dataframe tbody tr th:only-of-type {\n",
       "        vertical-align: middle;\n",
       "    }\n",
       "\n",
       "    .dataframe tbody tr th {\n",
       "        vertical-align: top;\n",
       "    }\n",
       "\n",
       "    .dataframe thead th {\n",
       "        text-align: right;\n",
       "    }\n",
       "</style>\n",
       "<table border=\"1\" class=\"dataframe\">\n",
       "  <thead>\n",
       "    <tr style=\"text-align: right;\">\n",
       "      <th></th>\n",
       "      <th>longitude</th>\n",
       "      <th>latitude</th>\n",
       "      <th>housing_median_age</th>\n",
       "      <th>total_rooms</th>\n",
       "      <th>total_bedrooms</th>\n",
       "      <th>population</th>\n",
       "      <th>households</th>\n",
       "      <th>median_income</th>\n",
       "      <th>median_house_value</th>\n",
       "      <th>ocean_proximity</th>\n",
       "    </tr>\n",
       "  </thead>\n",
       "  <tbody>\n",
       "    <tr>\n",
       "      <th>0</th>\n",
       "      <td>-122.23</td>\n",
       "      <td>37.88</td>\n",
       "      <td>41.0</td>\n",
       "      <td>880.0</td>\n",
       "      <td>129.0</td>\n",
       "      <td>322.0</td>\n",
       "      <td>126.0</td>\n",
       "      <td>8.3252</td>\n",
       "      <td>452600.0</td>\n",
       "      <td>NEAR BAY</td>\n",
       "    </tr>\n",
       "    <tr>\n",
       "      <th>1</th>\n",
       "      <td>-122.22</td>\n",
       "      <td>37.86</td>\n",
       "      <td>21.0</td>\n",
       "      <td>7099.0</td>\n",
       "      <td>1106.0</td>\n",
       "      <td>2401.0</td>\n",
       "      <td>1138.0</td>\n",
       "      <td>8.3014</td>\n",
       "      <td>358500.0</td>\n",
       "      <td>NEAR BAY</td>\n",
       "    </tr>\n",
       "    <tr>\n",
       "      <th>2</th>\n",
       "      <td>-122.24</td>\n",
       "      <td>37.85</td>\n",
       "      <td>52.0</td>\n",
       "      <td>1467.0</td>\n",
       "      <td>190.0</td>\n",
       "      <td>496.0</td>\n",
       "      <td>177.0</td>\n",
       "      <td>7.2574</td>\n",
       "      <td>352100.0</td>\n",
       "      <td>NEAR BAY</td>\n",
       "    </tr>\n",
       "    <tr>\n",
       "      <th>3</th>\n",
       "      <td>-122.25</td>\n",
       "      <td>37.85</td>\n",
       "      <td>52.0</td>\n",
       "      <td>1274.0</td>\n",
       "      <td>235.0</td>\n",
       "      <td>558.0</td>\n",
       "      <td>219.0</td>\n",
       "      <td>5.6431</td>\n",
       "      <td>341300.0</td>\n",
       "      <td>NEAR BAY</td>\n",
       "    </tr>\n",
       "    <tr>\n",
       "      <th>4</th>\n",
       "      <td>-122.25</td>\n",
       "      <td>37.85</td>\n",
       "      <td>52.0</td>\n",
       "      <td>1627.0</td>\n",
       "      <td>280.0</td>\n",
       "      <td>565.0</td>\n",
       "      <td>259.0</td>\n",
       "      <td>3.8462</td>\n",
       "      <td>342200.0</td>\n",
       "      <td>NEAR BAY</td>\n",
       "    </tr>\n",
       "  </tbody>\n",
       "</table>\n",
       "</div>"
      ],
      "text/plain": [
       "   longitude  latitude  housing_median_age  total_rooms  total_bedrooms  \\\n",
       "0    -122.23     37.88                41.0        880.0           129.0   \n",
       "1    -122.22     37.86                21.0       7099.0          1106.0   \n",
       "2    -122.24     37.85                52.0       1467.0           190.0   \n",
       "3    -122.25     37.85                52.0       1274.0           235.0   \n",
       "4    -122.25     37.85                52.0       1627.0           280.0   \n",
       "\n",
       "   population  households  median_income  median_house_value ocean_proximity  \n",
       "0       322.0       126.0         8.3252            452600.0        NEAR BAY  \n",
       "1      2401.0      1138.0         8.3014            358500.0        NEAR BAY  \n",
       "2       496.0       177.0         7.2574            352100.0        NEAR BAY  \n",
       "3       558.0       219.0         5.6431            341300.0        NEAR BAY  \n",
       "4       565.0       259.0         3.8462            342200.0        NEAR BAY  "
      ]
     },
     "execution_count": 2,
     "metadata": {},
     "output_type": "execute_result"
    }
   ],
   "source": [
    "#Getting the data\n",
    "df=pd.read_csv('../input/california-housing-prices/housing.csv')\n",
    "df.head()"
   ]
  },
  {
   "cell_type": "code",
   "execution_count": 3,
   "metadata": {
    "collapsed": true,
    "execution": {
     "iopub.execute_input": "2021-03-27T23:49:07.783406Z",
     "iopub.status.busy": "2021-03-27T23:49:07.782246Z",
     "iopub.status.idle": "2021-03-27T23:49:07.837264Z",
     "shell.execute_reply": "2021-03-27T23:49:07.836465Z"
    },
    "papermill": {
     "duration": 0.077267,
     "end_time": "2021-03-27T23:49:07.837435",
     "exception": false,
     "start_time": "2021-03-27T23:49:07.760168",
     "status": "completed"
    },
    "tags": []
   },
   "outputs": [
    {
     "name": "stdout",
     "output_type": "stream",
     "text": [
      "          longitude      latitude  housing_median_age   total_rooms  \\\n",
      "count  20640.000000  20640.000000        20640.000000  20640.000000   \n",
      "mean    -119.569704     35.631861           28.639486   2635.763081   \n",
      "std        2.003532      2.135952           12.585558   2181.615252   \n",
      "min     -124.350000     32.540000            1.000000      2.000000   \n",
      "25%     -121.800000     33.930000           18.000000   1447.750000   \n",
      "50%     -118.490000     34.260000           29.000000   2127.000000   \n",
      "75%     -118.010000     37.710000           37.000000   3148.000000   \n",
      "max     -114.310000     41.950000           52.000000  39320.000000   \n",
      "\n",
      "       total_bedrooms    population    households  median_income  \\\n",
      "count    20433.000000  20640.000000  20640.000000   20640.000000   \n",
      "mean       537.870553   1425.476744    499.539680       3.870671   \n",
      "std        421.385070   1132.462122    382.329753       1.899822   \n",
      "min          1.000000      3.000000      1.000000       0.499900   \n",
      "25%        296.000000    787.000000    280.000000       2.563400   \n",
      "50%        435.000000   1166.000000    409.000000       3.534800   \n",
      "75%        647.000000   1725.000000    605.000000       4.743250   \n",
      "max       6445.000000  35682.000000   6082.000000      15.000100   \n",
      "\n",
      "       median_house_value  \n",
      "count        20640.000000  \n",
      "mean        206855.816909  \n",
      "std         115395.615874  \n",
      "min          14999.000000  \n",
      "25%         119600.000000  \n",
      "50%         179700.000000  \n",
      "75%         264725.000000  \n",
      "max         500001.000000  \n",
      "<class 'pandas.core.frame.DataFrame'>\n",
      "RangeIndex: 20640 entries, 0 to 20639\n",
      "Data columns (total 10 columns):\n",
      " #   Column              Non-Null Count  Dtype  \n",
      "---  ------              --------------  -----  \n",
      " 0   longitude           20640 non-null  float64\n",
      " 1   latitude            20640 non-null  float64\n",
      " 2   housing_median_age  20640 non-null  float64\n",
      " 3   total_rooms         20640 non-null  float64\n",
      " 4   total_bedrooms      20433 non-null  float64\n",
      " 5   population          20640 non-null  float64\n",
      " 6   households          20640 non-null  float64\n",
      " 7   median_income       20640 non-null  float64\n",
      " 8   median_house_value  20640 non-null  float64\n",
      " 9   ocean_proximity     20640 non-null  object \n",
      "dtypes: float64(9), object(1)\n",
      "memory usage: 1.6+ MB\n",
      "None\n"
     ]
    }
   ],
   "source": [
    "print(df.describe())\n",
    "print(df.info())\n"
   ]
  },
  {
   "cell_type": "code",
   "execution_count": 4,
   "metadata": {
    "execution": {
     "iopub.execute_input": "2021-03-27T23:49:07.869867Z",
     "iopub.status.busy": "2021-03-27T23:49:07.868833Z",
     "iopub.status.idle": "2021-03-27T23:49:07.880388Z",
     "shell.execute_reply": "2021-03-27T23:49:07.879751Z"
    },
    "papermill": {
     "duration": 0.029345,
     "end_time": "2021-03-27T23:49:07.880535",
     "exception": false,
     "start_time": "2021-03-27T23:49:07.851190",
     "status": "completed"
    },
    "tags": []
   },
   "outputs": [
    {
     "data": {
      "text/plain": [
       "False    20433\n",
       "True       207\n",
       "Name: total_bedrooms, dtype: int64"
      ]
     },
     "execution_count": 4,
     "metadata": {},
     "output_type": "execute_result"
    }
   ],
   "source": [
    "#Checking the null values\n",
    "df.total_bedrooms.isnull().value_counts()"
   ]
  },
  {
   "cell_type": "code",
   "execution_count": 5,
   "metadata": {
    "execution": {
     "iopub.execute_input": "2021-03-27T23:49:07.915925Z",
     "iopub.status.busy": "2021-03-27T23:49:07.915030Z",
     "iopub.status.idle": "2021-03-27T23:49:07.919352Z",
     "shell.execute_reply": "2021-03-27T23:49:07.918700Z"
    },
    "papermill": {
     "duration": 0.024526,
     "end_time": "2021-03-27T23:49:07.919498",
     "exception": false,
     "start_time": "2021-03-27T23:49:07.894972",
     "status": "completed"
    },
    "tags": []
   },
   "outputs": [],
   "source": [
    "#filling the navalue\n",
    "df.total_bedrooms.fillna(df.total_bedrooms.median(),inplace=True)\n"
   ]
  },
  {
   "cell_type": "code",
   "execution_count": 6,
   "metadata": {
    "execution": {
     "iopub.execute_input": "2021-03-27T23:49:07.955969Z",
     "iopub.status.busy": "2021-03-27T23:49:07.955274Z",
     "iopub.status.idle": "2021-03-27T23:49:07.968273Z",
     "shell.execute_reply": "2021-03-27T23:49:07.967619Z"
    },
    "papermill": {
     "duration": 0.034015,
     "end_time": "2021-03-27T23:49:07.968416",
     "exception": false,
     "start_time": "2021-03-27T23:49:07.934401",
     "status": "completed"
    },
    "tags": []
   },
   "outputs": [
    {
     "data": {
      "text/plain": [
       "<1H OCEAN     9136\n",
       "INLAND        6551\n",
       "NEAR OCEAN    2658\n",
       "NEAR BAY      2290\n",
       "ISLAND           5\n",
       "Name: ocean_proximity, dtype: int64"
      ]
     },
     "execution_count": 6,
     "metadata": {},
     "output_type": "execute_result"
    }
   ],
   "source": [
    "#Checking the value of cateogrical variable\n",
    "df['ocean_proximity'].value_counts()"
   ]
  },
  {
   "cell_type": "code",
   "execution_count": 7,
   "metadata": {
    "execution": {
     "iopub.execute_input": "2021-03-27T23:49:08.001545Z",
     "iopub.status.busy": "2021-03-27T23:49:08.000814Z",
     "iopub.status.idle": "2021-03-27T23:49:08.038217Z",
     "shell.execute_reply": "2021-03-27T23:49:08.037694Z"
    },
    "papermill": {
     "duration": 0.055107,
     "end_time": "2021-03-27T23:49:08.038369",
     "exception": false,
     "start_time": "2021-03-27T23:49:07.983262",
     "status": "completed"
    },
    "tags": []
   },
   "outputs": [
    {
     "data": {
      "text/html": [
       "<div>\n",
       "<style scoped>\n",
       "    .dataframe tbody tr th:only-of-type {\n",
       "        vertical-align: middle;\n",
       "    }\n",
       "\n",
       "    .dataframe tbody tr th {\n",
       "        vertical-align: top;\n",
       "    }\n",
       "\n",
       "    .dataframe thead th {\n",
       "        text-align: right;\n",
       "    }\n",
       "</style>\n",
       "<table border=\"1\" class=\"dataframe\">\n",
       "  <thead>\n",
       "    <tr style=\"text-align: right;\">\n",
       "      <th></th>\n",
       "      <th>longitude</th>\n",
       "      <th>latitude</th>\n",
       "      <th>housing_median_age</th>\n",
       "      <th>total_rooms</th>\n",
       "      <th>total_bedrooms</th>\n",
       "      <th>population</th>\n",
       "      <th>households</th>\n",
       "      <th>median_income</th>\n",
       "      <th>median_house_value</th>\n",
       "      <th>ocean_proximity_INLAND</th>\n",
       "      <th>ocean_proximity_ISLAND</th>\n",
       "      <th>ocean_proximity_NEAR BAY</th>\n",
       "      <th>ocean_proximity_NEAR OCEAN</th>\n",
       "    </tr>\n",
       "  </thead>\n",
       "  <tbody>\n",
       "    <tr>\n",
       "      <th>0</th>\n",
       "      <td>-122.23</td>\n",
       "      <td>37.88</td>\n",
       "      <td>41.0</td>\n",
       "      <td>880.0</td>\n",
       "      <td>129.0</td>\n",
       "      <td>322.0</td>\n",
       "      <td>126.0</td>\n",
       "      <td>8.3252</td>\n",
       "      <td>452600.0</td>\n",
       "      <td>0</td>\n",
       "      <td>0</td>\n",
       "      <td>1</td>\n",
       "      <td>0</td>\n",
       "    </tr>\n",
       "    <tr>\n",
       "      <th>1</th>\n",
       "      <td>-122.22</td>\n",
       "      <td>37.86</td>\n",
       "      <td>21.0</td>\n",
       "      <td>7099.0</td>\n",
       "      <td>1106.0</td>\n",
       "      <td>2401.0</td>\n",
       "      <td>1138.0</td>\n",
       "      <td>8.3014</td>\n",
       "      <td>358500.0</td>\n",
       "      <td>0</td>\n",
       "      <td>0</td>\n",
       "      <td>1</td>\n",
       "      <td>0</td>\n",
       "    </tr>\n",
       "    <tr>\n",
       "      <th>2</th>\n",
       "      <td>-122.24</td>\n",
       "      <td>37.85</td>\n",
       "      <td>52.0</td>\n",
       "      <td>1467.0</td>\n",
       "      <td>190.0</td>\n",
       "      <td>496.0</td>\n",
       "      <td>177.0</td>\n",
       "      <td>7.2574</td>\n",
       "      <td>352100.0</td>\n",
       "      <td>0</td>\n",
       "      <td>0</td>\n",
       "      <td>1</td>\n",
       "      <td>0</td>\n",
       "    </tr>\n",
       "    <tr>\n",
       "      <th>3</th>\n",
       "      <td>-122.25</td>\n",
       "      <td>37.85</td>\n",
       "      <td>52.0</td>\n",
       "      <td>1274.0</td>\n",
       "      <td>235.0</td>\n",
       "      <td>558.0</td>\n",
       "      <td>219.0</td>\n",
       "      <td>5.6431</td>\n",
       "      <td>341300.0</td>\n",
       "      <td>0</td>\n",
       "      <td>0</td>\n",
       "      <td>1</td>\n",
       "      <td>0</td>\n",
       "    </tr>\n",
       "    <tr>\n",
       "      <th>4</th>\n",
       "      <td>-122.25</td>\n",
       "      <td>37.85</td>\n",
       "      <td>52.0</td>\n",
       "      <td>1627.0</td>\n",
       "      <td>280.0</td>\n",
       "      <td>565.0</td>\n",
       "      <td>259.0</td>\n",
       "      <td>3.8462</td>\n",
       "      <td>342200.0</td>\n",
       "      <td>0</td>\n",
       "      <td>0</td>\n",
       "      <td>1</td>\n",
       "      <td>0</td>\n",
       "    </tr>\n",
       "    <tr>\n",
       "      <th>...</th>\n",
       "      <td>...</td>\n",
       "      <td>...</td>\n",
       "      <td>...</td>\n",
       "      <td>...</td>\n",
       "      <td>...</td>\n",
       "      <td>...</td>\n",
       "      <td>...</td>\n",
       "      <td>...</td>\n",
       "      <td>...</td>\n",
       "      <td>...</td>\n",
       "      <td>...</td>\n",
       "      <td>...</td>\n",
       "      <td>...</td>\n",
       "    </tr>\n",
       "    <tr>\n",
       "      <th>20635</th>\n",
       "      <td>-121.09</td>\n",
       "      <td>39.48</td>\n",
       "      <td>25.0</td>\n",
       "      <td>1665.0</td>\n",
       "      <td>374.0</td>\n",
       "      <td>845.0</td>\n",
       "      <td>330.0</td>\n",
       "      <td>1.5603</td>\n",
       "      <td>78100.0</td>\n",
       "      <td>1</td>\n",
       "      <td>0</td>\n",
       "      <td>0</td>\n",
       "      <td>0</td>\n",
       "    </tr>\n",
       "    <tr>\n",
       "      <th>20636</th>\n",
       "      <td>-121.21</td>\n",
       "      <td>39.49</td>\n",
       "      <td>18.0</td>\n",
       "      <td>697.0</td>\n",
       "      <td>150.0</td>\n",
       "      <td>356.0</td>\n",
       "      <td>114.0</td>\n",
       "      <td>2.5568</td>\n",
       "      <td>77100.0</td>\n",
       "      <td>1</td>\n",
       "      <td>0</td>\n",
       "      <td>0</td>\n",
       "      <td>0</td>\n",
       "    </tr>\n",
       "    <tr>\n",
       "      <th>20637</th>\n",
       "      <td>-121.22</td>\n",
       "      <td>39.43</td>\n",
       "      <td>17.0</td>\n",
       "      <td>2254.0</td>\n",
       "      <td>485.0</td>\n",
       "      <td>1007.0</td>\n",
       "      <td>433.0</td>\n",
       "      <td>1.7000</td>\n",
       "      <td>92300.0</td>\n",
       "      <td>1</td>\n",
       "      <td>0</td>\n",
       "      <td>0</td>\n",
       "      <td>0</td>\n",
       "    </tr>\n",
       "    <tr>\n",
       "      <th>20638</th>\n",
       "      <td>-121.32</td>\n",
       "      <td>39.43</td>\n",
       "      <td>18.0</td>\n",
       "      <td>1860.0</td>\n",
       "      <td>409.0</td>\n",
       "      <td>741.0</td>\n",
       "      <td>349.0</td>\n",
       "      <td>1.8672</td>\n",
       "      <td>84700.0</td>\n",
       "      <td>1</td>\n",
       "      <td>0</td>\n",
       "      <td>0</td>\n",
       "      <td>0</td>\n",
       "    </tr>\n",
       "    <tr>\n",
       "      <th>20639</th>\n",
       "      <td>-121.24</td>\n",
       "      <td>39.37</td>\n",
       "      <td>16.0</td>\n",
       "      <td>2785.0</td>\n",
       "      <td>616.0</td>\n",
       "      <td>1387.0</td>\n",
       "      <td>530.0</td>\n",
       "      <td>2.3886</td>\n",
       "      <td>89400.0</td>\n",
       "      <td>1</td>\n",
       "      <td>0</td>\n",
       "      <td>0</td>\n",
       "      <td>0</td>\n",
       "    </tr>\n",
       "  </tbody>\n",
       "</table>\n",
       "<p>20640 rows × 13 columns</p>\n",
       "</div>"
      ],
      "text/plain": [
       "       longitude  latitude  housing_median_age  total_rooms  total_bedrooms  \\\n",
       "0        -122.23     37.88                41.0        880.0           129.0   \n",
       "1        -122.22     37.86                21.0       7099.0          1106.0   \n",
       "2        -122.24     37.85                52.0       1467.0           190.0   \n",
       "3        -122.25     37.85                52.0       1274.0           235.0   \n",
       "4        -122.25     37.85                52.0       1627.0           280.0   \n",
       "...          ...       ...                 ...          ...             ...   \n",
       "20635    -121.09     39.48                25.0       1665.0           374.0   \n",
       "20636    -121.21     39.49                18.0        697.0           150.0   \n",
       "20637    -121.22     39.43                17.0       2254.0           485.0   \n",
       "20638    -121.32     39.43                18.0       1860.0           409.0   \n",
       "20639    -121.24     39.37                16.0       2785.0           616.0   \n",
       "\n",
       "       population  households  median_income  median_house_value  \\\n",
       "0           322.0       126.0         8.3252            452600.0   \n",
       "1          2401.0      1138.0         8.3014            358500.0   \n",
       "2           496.0       177.0         7.2574            352100.0   \n",
       "3           558.0       219.0         5.6431            341300.0   \n",
       "4           565.0       259.0         3.8462            342200.0   \n",
       "...           ...         ...            ...                 ...   \n",
       "20635       845.0       330.0         1.5603             78100.0   \n",
       "20636       356.0       114.0         2.5568             77100.0   \n",
       "20637      1007.0       433.0         1.7000             92300.0   \n",
       "20638       741.0       349.0         1.8672             84700.0   \n",
       "20639      1387.0       530.0         2.3886             89400.0   \n",
       "\n",
       "       ocean_proximity_INLAND  ocean_proximity_ISLAND  \\\n",
       "0                           0                       0   \n",
       "1                           0                       0   \n",
       "2                           0                       0   \n",
       "3                           0                       0   \n",
       "4                           0                       0   \n",
       "...                       ...                     ...   \n",
       "20635                       1                       0   \n",
       "20636                       1                       0   \n",
       "20637                       1                       0   \n",
       "20638                       1                       0   \n",
       "20639                       1                       0   \n",
       "\n",
       "       ocean_proximity_NEAR BAY  ocean_proximity_NEAR OCEAN  \n",
       "0                             1                           0  \n",
       "1                             1                           0  \n",
       "2                             1                           0  \n",
       "3                             1                           0  \n",
       "4                             1                           0  \n",
       "...                         ...                         ...  \n",
       "20635                         0                           0  \n",
       "20636                         0                           0  \n",
       "20637                         0                           0  \n",
       "20638                         0                           0  \n",
       "20639                         0                           0  \n",
       "\n",
       "[20640 rows x 13 columns]"
      ]
     },
     "execution_count": 7,
     "metadata": {},
     "output_type": "execute_result"
    }
   ],
   "source": [
    "#Creating dummy variable for Ocean_Proximity\n",
    "df1=pd.get_dummies(data=df,columns=['ocean_proximity'],drop_first=True)\n",
    "df1"
   ]
  },
  {
   "cell_type": "code",
   "execution_count": 8,
   "metadata": {
    "execution": {
     "iopub.execute_input": "2021-03-27T23:49:08.076504Z",
     "iopub.status.busy": "2021-03-27T23:49:08.075773Z",
     "iopub.status.idle": "2021-03-27T23:49:08.113533Z",
     "shell.execute_reply": "2021-03-27T23:49:08.112909Z"
    },
    "papermill": {
     "duration": 0.059652,
     "end_time": "2021-03-27T23:49:08.113689",
     "exception": false,
     "start_time": "2021-03-27T23:49:08.054037",
     "status": "completed"
    },
    "tags": []
   },
   "outputs": [
    {
     "data": {
      "text/html": [
       "<div>\n",
       "<style scoped>\n",
       "    .dataframe tbody tr th:only-of-type {\n",
       "        vertical-align: middle;\n",
       "    }\n",
       "\n",
       "    .dataframe tbody tr th {\n",
       "        vertical-align: top;\n",
       "    }\n",
       "\n",
       "    .dataframe thead th {\n",
       "        text-align: right;\n",
       "    }\n",
       "</style>\n",
       "<table border=\"1\" class=\"dataframe\">\n",
       "  <thead>\n",
       "    <tr style=\"text-align: right;\">\n",
       "      <th></th>\n",
       "      <th>longitude</th>\n",
       "      <th>latitude</th>\n",
       "      <th>housing_median_age</th>\n",
       "      <th>total_rooms</th>\n",
       "      <th>total_bedrooms</th>\n",
       "      <th>population</th>\n",
       "      <th>households</th>\n",
       "      <th>median_income</th>\n",
       "      <th>median_house_value</th>\n",
       "      <th>ocean_proximity_INLAND</th>\n",
       "      <th>ocean_proximity_ISLAND</th>\n",
       "      <th>ocean_proximity_NEAR BAY</th>\n",
       "      <th>ocean_proximity_NEAR OCEAN</th>\n",
       "    </tr>\n",
       "  </thead>\n",
       "  <tbody>\n",
       "    <tr>\n",
       "      <th>longitude</th>\n",
       "      <td>1.000000</td>\n",
       "      <td>-0.924664</td>\n",
       "      <td>-0.108197</td>\n",
       "      <td>0.044568</td>\n",
       "      <td>0.069120</td>\n",
       "      <td>0.099773</td>\n",
       "      <td>0.055310</td>\n",
       "      <td>-0.015176</td>\n",
       "      <td>-0.045967</td>\n",
       "      <td>-0.055575</td>\n",
       "      <td>0.009446</td>\n",
       "      <td>-0.474489</td>\n",
       "      <td>0.045509</td>\n",
       "    </tr>\n",
       "    <tr>\n",
       "      <th>latitude</th>\n",
       "      <td>-0.924664</td>\n",
       "      <td>1.000000</td>\n",
       "      <td>0.011173</td>\n",
       "      <td>-0.036100</td>\n",
       "      <td>-0.066484</td>\n",
       "      <td>-0.108785</td>\n",
       "      <td>-0.071035</td>\n",
       "      <td>-0.079809</td>\n",
       "      <td>-0.144160</td>\n",
       "      <td>0.351166</td>\n",
       "      <td>-0.016572</td>\n",
       "      <td>0.358771</td>\n",
       "      <td>-0.160818</td>\n",
       "    </tr>\n",
       "    <tr>\n",
       "      <th>housing_median_age</th>\n",
       "      <td>-0.108197</td>\n",
       "      <td>0.011173</td>\n",
       "      <td>1.000000</td>\n",
       "      <td>-0.361262</td>\n",
       "      <td>-0.319026</td>\n",
       "      <td>-0.296244</td>\n",
       "      <td>-0.302916</td>\n",
       "      <td>-0.119034</td>\n",
       "      <td>0.105623</td>\n",
       "      <td>-0.236645</td>\n",
       "      <td>0.017020</td>\n",
       "      <td>0.255172</td>\n",
       "      <td>0.021622</td>\n",
       "    </tr>\n",
       "    <tr>\n",
       "      <th>total_rooms</th>\n",
       "      <td>0.044568</td>\n",
       "      <td>-0.036100</td>\n",
       "      <td>-0.361262</td>\n",
       "      <td>1.000000</td>\n",
       "      <td>0.927058</td>\n",
       "      <td>0.857126</td>\n",
       "      <td>0.918484</td>\n",
       "      <td>0.198050</td>\n",
       "      <td>0.134153</td>\n",
       "      <td>0.025624</td>\n",
       "      <td>-0.007572</td>\n",
       "      <td>-0.023022</td>\n",
       "      <td>-0.009175</td>\n",
       "    </tr>\n",
       "    <tr>\n",
       "      <th>total_bedrooms</th>\n",
       "      <td>0.069120</td>\n",
       "      <td>-0.066484</td>\n",
       "      <td>-0.319026</td>\n",
       "      <td>0.927058</td>\n",
       "      <td>1.000000</td>\n",
       "      <td>0.873535</td>\n",
       "      <td>0.974366</td>\n",
       "      <td>-0.007617</td>\n",
       "      <td>0.049457</td>\n",
       "      <td>-0.006158</td>\n",
       "      <td>-0.004322</td>\n",
       "      <td>-0.019667</td>\n",
       "      <td>0.000557</td>\n",
       "    </tr>\n",
       "    <tr>\n",
       "      <th>population</th>\n",
       "      <td>0.099773</td>\n",
       "      <td>-0.108785</td>\n",
       "      <td>-0.296244</td>\n",
       "      <td>0.857126</td>\n",
       "      <td>0.873535</td>\n",
       "      <td>1.000000</td>\n",
       "      <td>0.907222</td>\n",
       "      <td>0.004834</td>\n",
       "      <td>-0.024650</td>\n",
       "      <td>-0.020732</td>\n",
       "      <td>-0.010412</td>\n",
       "      <td>-0.060880</td>\n",
       "      <td>-0.024264</td>\n",
       "    </tr>\n",
       "    <tr>\n",
       "      <th>households</th>\n",
       "      <td>0.055310</td>\n",
       "      <td>-0.071035</td>\n",
       "      <td>-0.302916</td>\n",
       "      <td>0.918484</td>\n",
       "      <td>0.974366</td>\n",
       "      <td>0.907222</td>\n",
       "      <td>1.000000</td>\n",
       "      <td>0.013033</td>\n",
       "      <td>0.065843</td>\n",
       "      <td>-0.039402</td>\n",
       "      <td>-0.009077</td>\n",
       "      <td>-0.010093</td>\n",
       "      <td>0.001714</td>\n",
       "    </tr>\n",
       "    <tr>\n",
       "      <th>median_income</th>\n",
       "      <td>-0.015176</td>\n",
       "      <td>-0.079809</td>\n",
       "      <td>-0.119034</td>\n",
       "      <td>0.198050</td>\n",
       "      <td>-0.007617</td>\n",
       "      <td>0.004834</td>\n",
       "      <td>0.013033</td>\n",
       "      <td>1.000000</td>\n",
       "      <td>0.688075</td>\n",
       "      <td>-0.237496</td>\n",
       "      <td>-0.009228</td>\n",
       "      <td>0.056197</td>\n",
       "      <td>0.027344</td>\n",
       "    </tr>\n",
       "    <tr>\n",
       "      <th>median_house_value</th>\n",
       "      <td>-0.045967</td>\n",
       "      <td>-0.144160</td>\n",
       "      <td>0.105623</td>\n",
       "      <td>0.134153</td>\n",
       "      <td>0.049457</td>\n",
       "      <td>-0.024650</td>\n",
       "      <td>0.065843</td>\n",
       "      <td>0.688075</td>\n",
       "      <td>1.000000</td>\n",
       "      <td>-0.484859</td>\n",
       "      <td>0.023416</td>\n",
       "      <td>0.160284</td>\n",
       "      <td>0.141862</td>\n",
       "    </tr>\n",
       "    <tr>\n",
       "      <th>ocean_proximity_INLAND</th>\n",
       "      <td>-0.055575</td>\n",
       "      <td>0.351166</td>\n",
       "      <td>-0.236645</td>\n",
       "      <td>0.025624</td>\n",
       "      <td>-0.006158</td>\n",
       "      <td>-0.020732</td>\n",
       "      <td>-0.039402</td>\n",
       "      <td>-0.237496</td>\n",
       "      <td>-0.484859</td>\n",
       "      <td>1.000000</td>\n",
       "      <td>-0.010614</td>\n",
       "      <td>-0.240887</td>\n",
       "      <td>-0.262163</td>\n",
       "    </tr>\n",
       "    <tr>\n",
       "      <th>ocean_proximity_ISLAND</th>\n",
       "      <td>0.009446</td>\n",
       "      <td>-0.016572</td>\n",
       "      <td>0.017020</td>\n",
       "      <td>-0.007572</td>\n",
       "      <td>-0.004322</td>\n",
       "      <td>-0.010412</td>\n",
       "      <td>-0.009077</td>\n",
       "      <td>-0.009228</td>\n",
       "      <td>0.023416</td>\n",
       "      <td>-0.010614</td>\n",
       "      <td>1.000000</td>\n",
       "      <td>-0.005499</td>\n",
       "      <td>-0.005985</td>\n",
       "    </tr>\n",
       "    <tr>\n",
       "      <th>ocean_proximity_NEAR BAY</th>\n",
       "      <td>-0.474489</td>\n",
       "      <td>0.358771</td>\n",
       "      <td>0.255172</td>\n",
       "      <td>-0.023022</td>\n",
       "      <td>-0.019667</td>\n",
       "      <td>-0.060880</td>\n",
       "      <td>-0.010093</td>\n",
       "      <td>0.056197</td>\n",
       "      <td>0.160284</td>\n",
       "      <td>-0.240887</td>\n",
       "      <td>-0.005499</td>\n",
       "      <td>1.000000</td>\n",
       "      <td>-0.135818</td>\n",
       "    </tr>\n",
       "    <tr>\n",
       "      <th>ocean_proximity_NEAR OCEAN</th>\n",
       "      <td>0.045509</td>\n",
       "      <td>-0.160818</td>\n",
       "      <td>0.021622</td>\n",
       "      <td>-0.009175</td>\n",
       "      <td>0.000557</td>\n",
       "      <td>-0.024264</td>\n",
       "      <td>0.001714</td>\n",
       "      <td>0.027344</td>\n",
       "      <td>0.141862</td>\n",
       "      <td>-0.262163</td>\n",
       "      <td>-0.005985</td>\n",
       "      <td>-0.135818</td>\n",
       "      <td>1.000000</td>\n",
       "    </tr>\n",
       "  </tbody>\n",
       "</table>\n",
       "</div>"
      ],
      "text/plain": [
       "                            longitude  latitude  housing_median_age  \\\n",
       "longitude                    1.000000 -0.924664           -0.108197   \n",
       "latitude                    -0.924664  1.000000            0.011173   \n",
       "housing_median_age          -0.108197  0.011173            1.000000   \n",
       "total_rooms                  0.044568 -0.036100           -0.361262   \n",
       "total_bedrooms               0.069120 -0.066484           -0.319026   \n",
       "population                   0.099773 -0.108785           -0.296244   \n",
       "households                   0.055310 -0.071035           -0.302916   \n",
       "median_income               -0.015176 -0.079809           -0.119034   \n",
       "median_house_value          -0.045967 -0.144160            0.105623   \n",
       "ocean_proximity_INLAND      -0.055575  0.351166           -0.236645   \n",
       "ocean_proximity_ISLAND       0.009446 -0.016572            0.017020   \n",
       "ocean_proximity_NEAR BAY    -0.474489  0.358771            0.255172   \n",
       "ocean_proximity_NEAR OCEAN   0.045509 -0.160818            0.021622   \n",
       "\n",
       "                            total_rooms  total_bedrooms  population  \\\n",
       "longitude                      0.044568        0.069120    0.099773   \n",
       "latitude                      -0.036100       -0.066484   -0.108785   \n",
       "housing_median_age            -0.361262       -0.319026   -0.296244   \n",
       "total_rooms                    1.000000        0.927058    0.857126   \n",
       "total_bedrooms                 0.927058        1.000000    0.873535   \n",
       "population                     0.857126        0.873535    1.000000   \n",
       "households                     0.918484        0.974366    0.907222   \n",
       "median_income                  0.198050       -0.007617    0.004834   \n",
       "median_house_value             0.134153        0.049457   -0.024650   \n",
       "ocean_proximity_INLAND         0.025624       -0.006158   -0.020732   \n",
       "ocean_proximity_ISLAND        -0.007572       -0.004322   -0.010412   \n",
       "ocean_proximity_NEAR BAY      -0.023022       -0.019667   -0.060880   \n",
       "ocean_proximity_NEAR OCEAN    -0.009175        0.000557   -0.024264   \n",
       "\n",
       "                            households  median_income  median_house_value  \\\n",
       "longitude                     0.055310      -0.015176           -0.045967   \n",
       "latitude                     -0.071035      -0.079809           -0.144160   \n",
       "housing_median_age           -0.302916      -0.119034            0.105623   \n",
       "total_rooms                   0.918484       0.198050            0.134153   \n",
       "total_bedrooms                0.974366      -0.007617            0.049457   \n",
       "population                    0.907222       0.004834           -0.024650   \n",
       "households                    1.000000       0.013033            0.065843   \n",
       "median_income                 0.013033       1.000000            0.688075   \n",
       "median_house_value            0.065843       0.688075            1.000000   \n",
       "ocean_proximity_INLAND       -0.039402      -0.237496           -0.484859   \n",
       "ocean_proximity_ISLAND       -0.009077      -0.009228            0.023416   \n",
       "ocean_proximity_NEAR BAY     -0.010093       0.056197            0.160284   \n",
       "ocean_proximity_NEAR OCEAN    0.001714       0.027344            0.141862   \n",
       "\n",
       "                            ocean_proximity_INLAND  ocean_proximity_ISLAND  \\\n",
       "longitude                                -0.055575                0.009446   \n",
       "latitude                                  0.351166               -0.016572   \n",
       "housing_median_age                       -0.236645                0.017020   \n",
       "total_rooms                               0.025624               -0.007572   \n",
       "total_bedrooms                           -0.006158               -0.004322   \n",
       "population                               -0.020732               -0.010412   \n",
       "households                               -0.039402               -0.009077   \n",
       "median_income                            -0.237496               -0.009228   \n",
       "median_house_value                       -0.484859                0.023416   \n",
       "ocean_proximity_INLAND                    1.000000               -0.010614   \n",
       "ocean_proximity_ISLAND                   -0.010614                1.000000   \n",
       "ocean_proximity_NEAR BAY                 -0.240887               -0.005499   \n",
       "ocean_proximity_NEAR OCEAN               -0.262163               -0.005985   \n",
       "\n",
       "                            ocean_proximity_NEAR BAY  \\\n",
       "longitude                                  -0.474489   \n",
       "latitude                                    0.358771   \n",
       "housing_median_age                          0.255172   \n",
       "total_rooms                                -0.023022   \n",
       "total_bedrooms                             -0.019667   \n",
       "population                                 -0.060880   \n",
       "households                                 -0.010093   \n",
       "median_income                               0.056197   \n",
       "median_house_value                          0.160284   \n",
       "ocean_proximity_INLAND                     -0.240887   \n",
       "ocean_proximity_ISLAND                     -0.005499   \n",
       "ocean_proximity_NEAR BAY                    1.000000   \n",
       "ocean_proximity_NEAR OCEAN                 -0.135818   \n",
       "\n",
       "                            ocean_proximity_NEAR OCEAN  \n",
       "longitude                                     0.045509  \n",
       "latitude                                     -0.160818  \n",
       "housing_median_age                            0.021622  \n",
       "total_rooms                                  -0.009175  \n",
       "total_bedrooms                                0.000557  \n",
       "population                                   -0.024264  \n",
       "households                                    0.001714  \n",
       "median_income                                 0.027344  \n",
       "median_house_value                            0.141862  \n",
       "ocean_proximity_INLAND                       -0.262163  \n",
       "ocean_proximity_ISLAND                       -0.005985  \n",
       "ocean_proximity_NEAR BAY                     -0.135818  \n",
       "ocean_proximity_NEAR OCEAN                    1.000000  "
      ]
     },
     "execution_count": 8,
     "metadata": {},
     "output_type": "execute_result"
    }
   ],
   "source": [
    "df1.corr()"
   ]
  },
  {
   "cell_type": "code",
   "execution_count": 9,
   "metadata": {
    "execution": {
     "iopub.execute_input": "2021-03-27T23:49:08.157340Z",
     "iopub.status.busy": "2021-03-27T23:49:08.156634Z",
     "iopub.status.idle": "2021-03-27T23:49:09.666663Z",
     "shell.execute_reply": "2021-03-27T23:49:09.666078Z"
    },
    "papermill": {
     "duration": 1.536388,
     "end_time": "2021-03-27T23:49:09.666823",
     "exception": false,
     "start_time": "2021-03-27T23:49:08.130435",
     "status": "completed"
    },
    "tags": []
   },
   "outputs": [
    {
     "data": {
      "text/plain": [
       "<AxesSubplot:>"
      ]
     },
     "execution_count": 9,
     "metadata": {},
     "output_type": "execute_result"
    },
    {
     "data": {
      "image/png": "[encoded data removed]",
      "text/plain": [
       "<Figure size 720x720 with 2 Axes>"
      ]
     },
     "metadata": {
      "needs_background": "light"
     },
     "output_type": "display_data"
    }
   ],
   "source": [
    "import pandas as pd\n",
    "import seaborn as sns\n",
    "from pandas.plotting import scatter_matrix \n",
    "from matplotlib import pyplot as plt, style\n",
    "#style.use('ggplot')\n",
    "#scatter_matrix(df.iloc[:,2:11], figsize=(20, 10))\n",
    "#plt.show()\n",
    "plt.figure(figsize=(10,10))\n",
    "sns.heatmap(df1.corr(),annot=True)"
   ]
  },
  {
   "cell_type": "code",
   "execution_count": 10,
   "metadata": {
    "execution": {
     "iopub.execute_input": "2021-03-27T23:49:09.715781Z",
     "iopub.status.busy": "2021-03-27T23:49:09.715075Z",
     "iopub.status.idle": "2021-03-27T23:49:09.717997Z",
     "shell.execute_reply": "2021-03-27T23:49:09.718468Z"
    },
    "papermill": {
     "duration": 0.030639,
     "end_time": "2021-03-27T23:49:09.718678",
     "exception": false,
     "start_time": "2021-03-27T23:49:09.688039",
     "status": "completed"
    },
    "tags": []
   },
   "outputs": [],
   "source": [
    "#assignment of x and y\n",
    "x=df1[['housing_median_age','total_rooms','total_bedrooms','population','households','median_income','ocean_proximity_INLAND','ocean_proximity_ISLAND','ocean_proximity_NEAR BAY','ocean_proximity_NEAR OCEAN']]\n",
    "y=df1['median_house_value']\n"
   ]
  },
  {
   "cell_type": "code",
   "execution_count": 11,
   "metadata": {
    "execution": {
     "iopub.execute_input": "2021-03-27T23:49:09.767198Z",
     "iopub.status.busy": "2021-03-27T23:49:09.766422Z",
     "iopub.status.idle": "2021-03-27T23:49:10.048394Z",
     "shell.execute_reply": "2021-03-27T23:49:10.047860Z"
    },
    "papermill": {
     "duration": 0.308847,
     "end_time": "2021-03-27T23:49:10.048547",
     "exception": false,
     "start_time": "2021-03-27T23:49:09.739700",
     "status": "completed"
    },
    "tags": []
   },
   "outputs": [
    {
     "name": "stdout",
     "output_type": "stream",
     "text": [
      "(15480, 10)\n",
      "(5160, 10)\n"
     ]
    }
   ],
   "source": [
    "#splitting the data\n",
    "\n",
    "from sklearn.model_selection import train_test_split\n",
    "\n",
    "train_X,test_x,train_Y,test_y=train_test_split(x,y,random_state=0)\n",
    "print(train_X.shape)\n",
    "print(test_x.shape)"
   ]
  },
  {
   "cell_type": "code",
   "execution_count": 12,
   "metadata": {
    "execution": {
     "iopub.execute_input": "2021-03-27T23:49:10.096545Z",
     "iopub.status.busy": "2021-03-27T23:49:10.095872Z",
     "iopub.status.idle": "2021-03-27T23:49:10.099097Z",
     "shell.execute_reply": "2021-03-27T23:49:10.098447Z"
    },
    "papermill": {
     "duration": 0.029409,
     "end_time": "2021-03-27T23:49:10.099364",
     "exception": false,
     "start_time": "2021-03-27T23:49:10.069955",
     "status": "completed"
    },
    "tags": []
   },
   "outputs": [],
   "source": [
    "#Standerize the value\n",
    "from sklearn.preprocessing import StandardScaler\n",
    "\n",
    "#intialize\n",
    "stdScaler=StandardScaler()"
   ]
  },
  {
   "cell_type": "code",
   "execution_count": 13,
   "metadata": {
    "execution": {
     "iopub.execute_input": "2021-03-27T23:49:10.151137Z",
     "iopub.status.busy": "2021-03-27T23:49:10.150375Z",
     "iopub.status.idle": "2021-03-27T23:49:10.162187Z",
     "shell.execute_reply": "2021-03-27T23:49:10.161624Z"
    },
    "papermill": {
     "duration": 0.041171,
     "end_time": "2021-03-27T23:49:10.162328",
     "exception": false,
     "start_time": "2021-03-27T23:49:10.121157",
     "status": "completed"
    },
    "tags": []
   },
   "outputs": [],
   "source": [
    "#Fittling the model for scaling\n",
    "stdScaler.fit(train_X)\n",
    "\n",
    "#Transform from matrix\n",
    "x_train_std=stdScaler.transform(train_X)\n",
    "x_test_std=stdScaler.transform(test_x)"
   ]
  },
  {
   "cell_type": "code",
   "execution_count": 14,
   "metadata": {
    "execution": {
     "iopub.execute_input": "2021-03-27T23:49:10.215730Z",
     "iopub.status.busy": "2021-03-27T23:49:10.214828Z",
     "iopub.status.idle": "2021-03-27T23:49:10.342455Z",
     "shell.execute_reply": "2021-03-27T23:49:10.343460Z"
    },
    "papermill": {
     "duration": 0.159712,
     "end_time": "2021-03-27T23:49:10.343765",
     "exception": false,
     "start_time": "2021-03-27T23:49:10.184053",
     "status": "completed"
    },
    "tags": []
   },
   "outputs": [],
   "source": [
    "#create estimator object\n",
    "from sklearn.linear_model import LinearRegression \n",
    "\n",
    "#intialising the model\n",
    "houseModel=LinearRegression()"
   ]
  },
  {
   "cell_type": "code",
   "execution_count": 15,
   "metadata": {
    "execution": {
     "iopub.execute_input": "2021-03-27T23:49:10.396163Z",
     "iopub.status.busy": "2021-03-27T23:49:10.395435Z",
     "iopub.status.idle": "2021-03-27T23:49:10.436495Z",
     "shell.execute_reply": "2021-03-27T23:49:10.435479Z"
    },
    "papermill": {
     "duration": 0.067798,
     "end_time": "2021-03-27T23:49:10.436749",
     "exception": false,
     "start_time": "2021-03-27T23:49:10.368951",
     "status": "completed"
    },
    "tags": []
   },
   "outputs": [
    {
     "data": {
      "text/plain": [
       "LinearRegression()"
      ]
     },
     "execution_count": 15,
     "metadata": {},
     "output_type": "execute_result"
    }
   ],
   "source": [
    "#fitting the model\n",
    "houseModel.fit(x_train_std,train_Y)"
   ]
  },
  {
   "cell_type": "code",
   "execution_count": 16,
   "metadata": {
    "execution": {
     "iopub.execute_input": "2021-03-27T23:49:10.522862Z",
     "iopub.status.busy": "2021-03-27T23:49:10.521731Z",
     "iopub.status.idle": "2021-03-27T23:49:10.533506Z",
     "shell.execute_reply": "2021-03-27T23:49:10.532568Z"
    },
    "papermill": {
     "duration": 0.056066,
     "end_time": "2021-03-27T23:49:10.533772",
     "exception": false,
     "start_time": "2021-03-27T23:49:10.477706",
     "status": "completed"
    },
    "tags": []
   },
   "outputs": [
    {
     "data": {
      "text/plain": [
       "0.6354449499685482"
      ]
     },
     "execution_count": 16,
     "metadata": {},
     "output_type": "execute_result"
    }
   ],
   "source": [
    "#Model score for training data\n",
    "houseModel.score(x_train_std,train_Y)"
   ]
  },
  {
   "cell_type": "code",
   "execution_count": 17,
   "metadata": {
    "execution": {
     "iopub.execute_input": "2021-03-27T23:49:10.588564Z",
     "iopub.status.busy": "2021-03-27T23:49:10.587864Z",
     "iopub.status.idle": "2021-03-27T23:49:10.592862Z",
     "shell.execute_reply": "2021-03-27T23:49:10.593405Z"
    },
    "papermill": {
     "duration": 0.033751,
     "end_time": "2021-03-27T23:49:10.593632",
     "exception": false,
     "start_time": "2021-03-27T23:49:10.559881",
     "status": "completed"
    },
    "tags": []
   },
   "outputs": [
    {
     "data": {
      "text/plain": [
       "0.6281134275347441"
      ]
     },
     "execution_count": 17,
     "metadata": {},
     "output_type": "execute_result"
    }
   ],
   "source": [
    "#Model score for test data\n",
    "houseModel.score(x_test_std,test_y)"
   ]
  },
  {
   "cell_type": "code",
   "execution_count": 18,
   "metadata": {
    "execution": {
     "iopub.execute_input": "2021-03-27T23:49:10.643756Z",
     "iopub.status.busy": "2021-03-27T23:49:10.643074Z",
     "iopub.status.idle": "2021-03-27T23:49:10.648806Z",
     "shell.execute_reply": "2021-03-27T23:49:10.649348Z"
    },
    "papermill": {
     "duration": 0.032448,
     "end_time": "2021-03-27T23:49:10.649523",
     "exception": false,
     "start_time": "2021-03-27T23:49:10.617075",
     "status": "completed"
    },
    "tags": []
   },
   "outputs": [
    {
     "data": {
      "text/plain": [
       "array([222412.50517809, 297444.27708788, 175033.9138156 , ...,\n",
       "       219738.42520967, 293653.3737997 , 279578.39517834])"
      ]
     },
     "execution_count": 18,
     "metadata": {},
     "output_type": "execute_result"
    }
   ],
   "source": [
    "#Checking the prediction counts for both train and test\n",
    "houseModel.predict(x_test_std)"
   ]
  },
  {
   "cell_type": "code",
   "execution_count": null,
   "metadata": {
    "papermill": {
     "duration": 0.023464,
     "end_time": "2021-03-27T23:49:10.696960",
     "exception": false,
     "start_time": "2021-03-27T23:49:10.673496",
     "status": "completed"
    },
    "tags": []
   },
   "outputs": [],
   "source": []
  }
 ],
 "metadata": {
  "kernelspec": {
   "display_name": "Python 3",
   "language": "python",
   "name": "python3"
  },
  "language_info": {
   "codemirror_mode": {
    "name": "ipython",
    "version": 3
   },
   "file_extension": ".py",
   "mimetype": "text/x-python",
   "name": "python",
   "nbconvert_exporter": "python",
   "pygments_lexer": "ipython3",
   "version": "3.7.9"
  },
  "papermill": {
   "default_parameters": {},
   "duration": 11.149283,
   "end_time": "2021-03-27T23:49:11.431535",
   "environment_variables": {},
   "exception": null,
   "input_path": "__notebook__.ipynb",
   "output_path": "__notebook__.ipynb",
   "parameters": {},
   "start_time": "2021-03-27T23:49:00.282252",
   "version": "2.2.2"
  }
 },
 "nbformat": 4,
 "nbformat_minor": 4
}
